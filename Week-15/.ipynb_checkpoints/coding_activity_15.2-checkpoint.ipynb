{
 "cells": [
  {
   "cell_type": "markdown",
   "metadata": {
    "id": "Y4QRq3M_Ml7I",
    "nbgrader": {
     "grade": false,
     "grade_id": "cell-50b74faf363760d1",
     "locked": true,
     "schema_version": 3,
     "solution": false
    }
   },
   "source": [
    "### Codio Activity 15.2: Gradient Descent by Hand\n",
    "\n",
    "**Expected Time = 60 minutes**\n",
    "\n",
    "**Total Points = 45**\n",
    "\n",
    "This activity focuses on computing the minimum of a function using gradient descent.  Following the examples in the lectures, you will compare the effect of adjusting the step size and the starting point.  The beginning of the work was started in the last activity where one step of size 0.1 was taken.  In this assignment you will complete the work using the update formula provided in the lectures.\n",
    "\n",
    "#### Index\n",
    "\n",
    "- [Problem 1](#-Problem-1)\n",
    "- [Problem 2](#-Problem-2)\n",
    "- [Problem 3](#-Problem-3)\n",
    "- [Problem 4](#-Problem-4)\n",
    "- [Problem 5](#-Problem-5)"
   ]
  },
  {
   "cell_type": "code",
   "execution_count": 1,
   "metadata": {
    "executionInfo": {
     "elapsed": 1137,
     "status": "ok",
     "timestamp": 1645664761493,
     "user": {
      "displayName": "Jacob Koehler",
      "photoUrl": "https://lh3.googleusercontent.com/a/default-user=s64",
      "userId": "12300099689640094899"
     },
     "user_tz": 300
    },
    "id": "J8Uupi0HMl7M"
   },
   "outputs": [],
   "source": [
    "import numpy as np\n",
    "import pandas as pd\n",
    "import plotly.express as px\n",
    "import matplotlib.pyplot as plt"
   ]
  },
  {
   "cell_type": "markdown",
   "metadata": {
    "id": "Iqj6dkrRMl7N",
    "nbgrader": {
     "grade": false,
     "grade_id": "cell-f5637b2991a19241",
     "locked": true,
     "schema_version": 3,
     "solution": false
    }
   },
   "source": [
    "#### Gradient Descent Formula\n",
    "\n",
    "Below is the formula for the gradient descent algorithm.  Note that you need three key ingredients:\n",
    "\n",
    "- $x_{prev}$: Initial x-value\n",
    "- $df$: Derivative of function interested in optimizing\n",
    "- $\\alpha$: Step size\n",
    "\n",
    "These are used to update the previous $x$ value as follows:\n",
    "\n",
    "$$x_{next} = x_{prev} - \\alpha * df(x_{prev})$$\n",
    "\n",
    "Once updated, the $x_{next}$ becomes $x_{prev}$ and the process is repeated until a minimum is found.  "
   ]
  },
  {
   "cell_type": "markdown",
   "metadata": {
    "id": "uuVuEUUsURvF",
    "nbgrader": {
     "grade": false,
     "grade_id": "cell-effb284a71214fd7",
     "locked": true,
     "schema_version": 3,
     "solution": false
    }
   },
   "source": [
    "[Back to top](#-Index)\n",
    "\n",
    "### Problem 1\n",
    "\n",
    "#### Examining the Function\n",
    "\n",
    "To begin, define a function $f(x) = x^2$ and a domain $x = [-2, 2]$.  Plot the function and identify whether a maximum or minimum value exists.\n",
    "\n",
    "**10 Points**"
   ]
  },
  {
   "cell_type": "code",
   "execution_count": 2,
   "metadata": {
    "colab": {
     "base_uri": "https://localhost:8080/",
     "height": 265
    },
    "executionInfo": {
     "elapsed": 385,
     "status": "ok",
     "timestamp": 1645664856874,
     "user": {
      "displayName": "Jacob Koehler",
      "photoUrl": "https://lh3.googleusercontent.com/a/default-user=s64",
      "userId": "12300099689640094899"
     },
     "user_tz": 300
    },
    "id": "uEemtPoIMl7O",
    "nbgrader": {
     "grade": false,
     "grade_id": "cell-e8e1a12ec52abfb0",
     "locked": false,
     "schema_version": 3,
     "solution": true
    },
    "outputId": "496c8414-c0cb-41bc-9b45-4bdbbfed3029"
   },
   "outputs": [
    {
     "data": {
      "image/png": "[encoded data removed]",
      "text/plain": [
       "<Figure size 432x288 with 1 Axes>"
      ]
     },
     "metadata": {
      "needs_background": "light"
     },
     "output_type": "display_data"
    }
   ],
   "source": [
    "### GRADED\n",
    "\n",
    "def f(x):\n",
    "    pass\n",
    "x = ''\n",
    "### BEGIN SOLUTION\n",
    "def f(x): return x**2\n",
    "x = np.linspace(-2, 2, 100)\n",
    "### END SOLUTION\n",
    "\n",
    "# Answer check\n",
    "plt.plot(x, f(x), label = 'f')\n",
    "plt.legend();"
   ]
  },
  {
   "cell_type": "code",
   "execution_count": 3,
   "metadata": {
    "executionInfo": {
     "elapsed": 204,
     "status": "ok",
     "timestamp": 1645664857075,
     "user": {
      "displayName": "Jacob Koehler",
      "photoUrl": "https://lh3.googleusercontent.com/a/default-user=s64",
      "userId": "12300099689640094899"
     },
     "user_tz": 300
    },
    "id": "BFFciv48Ml7O",
    "nbgrader": {
     "grade": true,
     "grade_id": "cell-d8f82428c07948ae",
     "locked": true,
     "points": 10,
     "schema_version": 3,
     "solution": false
    }
   },
   "outputs": [],
   "source": [
    "### BEGIN HIDDEN TESTS\n",
    "def f_(x): return x**2\n",
    "x_ = np.linspace(-2, 2, 100)\n",
    "#\n",
    "#\n",
    "#\n",
    "np.testing.assert_array_equal(f(x), f_(x_))\n",
    "### END HIDDEN TESTS"
   ]
  },
  {
   "cell_type": "markdown",
   "metadata": {
    "id": "RhP0BzGKUhSo",
    "nbgrader": {
     "grade": false,
     "grade_id": "cell-0544b01e9c489f38",
     "locked": true,
     "schema_version": 3,
     "solution": false
    }
   },
   "source": [
    "[Back to top](#-Index)\n",
    "\n",
    "### Problem 2\n",
    "\n",
    "#### Taking a step\n",
    "\n",
    "**5 Points**\n",
    "\n",
    "Now, use the function `df` below to approximate the value of a derivative of $f$. Use the formula for gradient descent to compute the next value of $x$ given the starting point `x0` and `step_size = 0.1`.\n",
    "\n",
    "$$x_{1} = x_{0} - \\alpha * df(x_{0})$$"
   ]
  },
  {
   "cell_type": "code",
   "execution_count": 4,
   "metadata": {
    "executionInfo": {
     "elapsed": 2,
     "status": "ok",
     "timestamp": 1645664857675,
     "user": {
      "displayName": "Jacob Koehler",
      "photoUrl": "https://lh3.googleusercontent.com/a/default-user=s64",
      "userId": "12300099689640094899"
     },
     "user_tz": 300
    },
    "id": "9QVl8j-OVXxB"
   },
   "outputs": [],
   "source": [
    "def df(x):\n",
    "  return (f(x + 0.00001) - f(x))/0.00001"
   ]
  },
  {
   "cell_type": "code",
   "execution_count": 19,
   "metadata": {
    "executionInfo": {
     "elapsed": 169,
     "status": "ok",
     "timestamp": 1645665825358,
     "user": {
      "displayName": "Jacob Koehler",
      "photoUrl": "https://lh3.googleusercontent.com/a/default-user=s64",
      "userId": "12300099689640094899"
     },
     "user_tz": 300
    },
    "id": "dMIC8wL6VXtk",
    "nbgrader": {
     "grade": false,
     "grade_id": "cell-995b4e6d73ed5a5e",
     "locked": false,
     "schema_version": 3,
     "solution": true
    }
   },
   "outputs": [
    {
     "data": {
      "image/png": "[encoded data removed]",
      "text/plain": [
       "<Figure size 432x288 with 1 Axes>"
      ]
     },
     "metadata": {
      "needs_background": "light"
     },
     "output_type": "display_data"
    }
   ],
   "source": [
    "### GRADED\n",
    "x0 = 1\n",
    "step_size = ''\n",
    "x1 = ''\n",
    "\n",
    "### BEGIN SOLUTION\n",
    "step_size = 0.1\n",
    "x1 = x0 - step_size * df(x0)\n",
    "### END SOLUTION\n",
    "\n",
    "# # Answer check\n",
    "plt.plot(x0, f(x0), 'o', label = 'Step 0')\n",
    "plt.plot(x1, f(x1), 'o', label = 'Step 1')\n",
    "plt.plot(x, f(x))\n",
    "plt.legend();"
   ]
  },
  {
   "cell_type": "code",
   "execution_count": 6,
   "metadata": {
    "executionInfo": {
     "elapsed": 4,
     "status": "ok",
     "timestamp": 1645664858160,
     "user": {
      "displayName": "Jacob Koehler",
      "photoUrl": "https://lh3.googleusercontent.com/a/default-user=s64",
      "userId": "12300099689640094899"
     },
     "user_tz": 300
    },
    "id": "oMAliGpDW5_W",
    "nbgrader": {
     "grade": true,
     "grade_id": "cell-8f2240fef82669ac",
     "locked": true,
     "points": 5,
     "schema_version": 3,
     "solution": false
    }
   },
   "outputs": [],
   "source": [
    "### BEGIN HIDDEN TESTS\n",
    "def f_(x): return x**2\n",
    "x_ = np.linspace(-2, 2, 100)\n",
    "x0_ = 1\n",
    "step_size_ = 0.1\n",
    "x1_ = x0_ - step_size_ * df(x0_)\n",
    "#\n",
    "#\n",
    "#\n",
    "assert x1 == x1_\n",
    "### END HIDDEN TESTS"
   ]
  },
  {
   "cell_type": "markdown",
   "metadata": {
    "id": "YV1IeXMxXO9f",
    "nbgrader": {
     "grade": false,
     "grade_id": "cell-25608fd950219d34",
     "locked": true,
     "schema_version": 3,
     "solution": false
    }
   },
   "source": [
    "[Back to top](#-Index)\n",
    "\n",
    "### Problem 3\n",
    "\n",
    "#### Repeating the Process\n",
    "\n",
    "**10 Points**\n",
    "\n",
    "Now, keep track of your updated $x$ values in the list `xs` below.  Use the starting value $x_0 = 1$ as given in the list, and perform 50 updates using the gradient descent formula.  Be sure to append each update to the list `xs`. \n",
    "\n",
    "$$x_{next} = x_{prev} - \\alpha * df(x_{prev})$$"
   ]
  },
  {
   "cell_type": "code",
   "execution_count": 24,
   "metadata": {
    "colab": {
     "base_uri": "https://localhost:8080/"
    },
    "executionInfo": {
     "elapsed": 157,
     "status": "ok",
     "timestamp": 1645665528975,
     "user": {
      "displayName": "Jacob Koehler",
      "photoUrl": "https://lh3.googleusercontent.com/a/default-user=s64",
      "userId": "12300099689640094899"
     },
     "user_tz": 300
    },
    "id": "uQc25HV9Ml7Q",
    "nbgrader": {
     "grade": false,
     "grade_id": "cell-18f52ce59b74a853",
     "locked": false,
     "schema_version": 3,
     "solution": true
    },
    "outputId": "a5ce38c0-598e-47fc-a2d8-10d49717491e"
   },
   "outputs": [
    {
     "name": "stdout",
     "output_type": "stream",
     "text": [
      "51\n",
      "[1.44, 1.44, 1.44, 1.44, 1.44]\n"
     ]
    }
   ],
   "source": [
    "### GRADED\n",
    "xs = [1]\n",
    "for i in range(50):\n",
    "  pass #replace with code to update \n",
    "        #xs using gradient descent\n",
    "\n",
    "\n",
    "### BEGIN SOLUTION\n",
    "xs = [1]\n",
    "for i in range(50):\n",
    "    x_next = xs[-1] - 0.1*df(xs[-1])\n",
    "    xs.append(x_next)\n",
    "### END SOLUTION\n",
    "\n",
    "print(len(xs)) #should be 51\n",
    "print([round(i, 2) for i in xs[-5:]])"
   ]
  },
  {
   "cell_type": "code",
   "execution_count": 25,
   "metadata": {
    "executionInfo": {
     "elapsed": 155,
     "status": "ok",
     "timestamp": 1645665529745,
     "user": {
      "displayName": "Jacob Koehler",
      "photoUrl": "https://lh3.googleusercontent.com/a/default-user=s64",
      "userId": "12300099689640094899"
     },
     "user_tz": 300
    },
    "id": "XCSLrakaMl7R"
   },
   "outputs": [
    {
     "data": {
      "image/png": "[encoded data removed]",
      "text/plain": [
       "<Figure size 1080x432 with 1 Axes>"
      ]
     },
     "metadata": {
      "needs_background": "light"
     },
     "output_type": "display_data"
    }
   ],
   "source": [
    "x = np.linspace(-3, 3, 1000)\n",
    "plt.figure(figsize = (15, 6))\n",
    "for i, x0 in enumerate(xs):\n",
    "  plt.text(x0, f(x0), f'Step: {i}');\n",
    "plt.axvline(x0, color = 'red', alpha = 0.3)\n",
    "plt.plot(x, f(x), color = 'gray')\n",
    "plt.plot(xs, f(np.array(xs)), 'o')\n",
    "plt.xlim(-.3, 1.1)\n",
    "plt.ylim(-0.1, 1.1)\n",
    "plt.title('50 Iterations of Gradient Descent')\n",
    "plt.grid();"
   ]
  },
  {
   "cell_type": "code",
   "execution_count": 27,
   "metadata": {
    "executionInfo": {
     "elapsed": 3,
     "status": "ok",
     "timestamp": 1645665530197,
     "user": {
      "displayName": "Jacob Koehler",
      "photoUrl": "https://lh3.googleusercontent.com/a/default-user=s64",
      "userId": "12300099689640094899"
     },
     "user_tz": 300
    },
    "id": "TdWKu7FIcMOP",
    "nbgrader": {
     "grade": true,
     "grade_id": "cell-1f8449b0e6189de6",
     "locked": true,
     "points": 10,
     "schema_version": 3,
     "solution": false
    }
   },
   "outputs": [],
   "source": [
    "### BEGIN HIDDEN TESTS\n",
    "def f_(x): return x**2\n",
    "x_ = np.linspace(-2, 2, 100)\n",
    "x0_ = 1\n",
    "step_size_ = 0.1\n",
    "xs_ = [1]\n",
    "for i in range(50):\n",
    "    x_next_ = xs_[-1] - 0.1*df(xs_[-1])\n",
    "    xs_.append(x_next_)\n",
    "#\n",
    "#\n",
    "#\n",
    "assert xs == xs_ \n",
    "### END HIDDEN TESTS"
   ]
  },
  {
   "cell_type": "markdown",
   "metadata": {
    "id": "AV47ti1jbXUr",
    "nbgrader": {
     "grade": false,
     "grade_id": "cell-4be665b21e7673c5",
     "locked": true,
     "schema_version": 3,
     "solution": false
    }
   },
   "source": [
    "[Back to top](#-Index)\n",
    "\n",
    "### Problem 4\n",
    "\n",
    "#### Adjusting the Step Size\n",
    "\n",
    "**10 Points**\n",
    "\n",
    "Repeat the above process but this time use `step_size = 0.01`.  Again, compute 50 iterations of gradient descent tracking the updated values in the list `xs`.  What is different about the results this time?  \n",
    "\n",
    "$$x_{next} = x_{prev} - \\alpha * df(x_{prev})$$"
   ]
  },
  {
   "cell_type": "code",
   "execution_count": 28,
   "metadata": {
    "colab": {
     "base_uri": "https://localhost:8080/"
    },
    "executionInfo": {
     "elapsed": 139,
     "status": "ok",
     "timestamp": 1645665568558,
     "user": {
      "displayName": "Jacob Koehler",
      "photoUrl": "https://lh3.googleusercontent.com/a/default-user=s64",
      "userId": "12300099689640094899"
     },
     "user_tz": 300
    },
    "id": "sjfVyB4VMl7R",
    "nbgrader": {
     "grade": false,
     "grade_id": "cell-b2fb51e5169e403f",
     "locked": false,
     "schema_version": 3,
     "solution": true
    },
    "outputId": "5d43c286-efb3-452a-e4c6-a7fad6968f84"
   },
   "outputs": [
    {
     "name": "stdout",
     "output_type": "stream",
     "text": [
      "51\n",
      "[1.44, 1.44, 1.44, 1.44, 1.44]\n"
     ]
    }
   ],
   "source": [
    "### GRADED\n",
    "xs = [1]\n",
    "for i in range(50):\n",
    "  pass #replace with code to update \n",
    "        #xs using gradient descent\n",
    "\n",
    "\n",
    "### BEGIN SOLUTION\n",
    "xs = [1]\n",
    "for i in range(50):\n",
    "    x_next = xs[-1] - 0.01*df(xs[-1])\n",
    "    xs.append(x_next)\n",
    "### END SOLUTION\n",
    "\n",
    "print(len(xs)) #should be 51\n",
    "print([round(i, 2) for i in xs[-5:]])"
   ]
  },
  {
   "cell_type": "code",
   "execution_count": 29,
   "metadata": {
    "executionInfo": {
     "elapsed": 137,
     "status": "ok",
     "timestamp": 1645665571932,
     "user": {
      "displayName": "Jacob Koehler",
      "photoUrl": "https://lh3.googleusercontent.com/a/default-user=s64",
      "userId": "12300099689640094899"
     },
     "user_tz": 300
    },
    "id": "wISbXw2jMl7S"
   },
   "outputs": [
    {
     "data": {
      "image/png": "[encoded data removed]",
      "text/plain": [
       "<Figure size 1080x432 with 1 Axes>"
      ]
     },
     "metadata": {
      "needs_background": "light"
     },
     "output_type": "display_data"
    }
   ],
   "source": [
    "x = np.linspace(-3, 3, 1000)\n",
    "plt.figure(figsize = (15, 6))\n",
    "for i, x0 in enumerate(xs):\n",
    "  plt.text(x0, f(x0), f'Step: {i}');\n",
    "  plt.axvline(x0, color = 'red', alpha = 0.3)\n",
    "plt.plot(x, f(x), color = 'gray', label = 'f')\n",
    "plt.plot(xs, f(np.array(xs)), 'o')\n",
    "plt.xlim(-.3, 1.1)\n",
    "plt.ylim(-0.1, 1.1)\n",
    "plt.legend()\n",
    "plt.title('50 Iterations of Gradient Descent')\n",
    "plt.grid();"
   ]
  },
  {
   "cell_type": "code",
   "execution_count": 30,
   "metadata": {
    "executionInfo": {
     "elapsed": 2,
     "status": "ok",
     "timestamp": 1645665572456,
     "user": {
      "displayName": "Jacob Koehler",
      "photoUrl": "https://lh3.googleusercontent.com/a/default-user=s64",
      "userId": "12300099689640094899"
     },
     "user_tz": 300
    },
    "id": "05dSweruMl7S",
    "nbgrader": {
     "grade": true,
     "grade_id": "cell-faa794f992aa1b1b",
     "locked": true,
     "points": 10,
     "schema_version": 3,
     "solution": false
    }
   },
   "outputs": [],
   "source": [
    "### BEGIN HIDDEN TESTS\n",
    "def f_(x): return x**2\n",
    "x_ = np.linspace(-2, 2, 100)\n",
    "x0_ = 1\n",
    "step_size_ = 0.01\n",
    "xs_ = [1]\n",
    "for i in range(50):\n",
    "    x_next_ = xs_[-1] - 0.01*df(xs_[-1])\n",
    "    xs_.append(x_next_)\n",
    "#\n",
    "#\n",
    "#\n",
    "assert xs == xs_ \n",
    "### END HIDDEN TESTS"
   ]
  },
  {
   "cell_type": "markdown",
   "metadata": {
    "id": "mX5CvbIscmg4",
    "nbgrader": {
     "grade": false,
     "grade_id": "cell-00a4635af58d67bf",
     "locked": true,
     "schema_version": 3,
     "solution": false
    }
   },
   "source": [
    "[Back to top](#-Index)\n",
    "\n",
    "### Problem 5\n",
    "\n",
    "#### Adjusting the starting value\n",
    "\n",
    "**10 Points**\n",
    "\n",
    "Now, you are to examine the effect of changing the starting value. To demonstrate the effect of changing the starting point, consider instead the function\n",
    "\n",
    "$$f(x) = x^2(x - 2)(x + 1)$$\n",
    "\n",
    "Use gradient descent to examine the minimum value found with $x_0 = 2$ compared to that when $x_0 = -2$.  Which of the starting values locates the **absolute minimum** of the function $f(x)$?  Assign your solution as an integer to `best_start` below."
   ]
  },
  {
   "cell_type": "code",
   "execution_count": 31,
   "metadata": {
    "colab": {
     "base_uri": "https://localhost:8080/",
     "height": 285
    },
    "executionInfo": {
     "elapsed": 230,
     "status": "ok",
     "timestamp": 1645665629514,
     "user": {
      "displayName": "Jacob Koehler",
      "photoUrl": "https://lh3.googleusercontent.com/a/default-user=s64",
      "userId": "12300099689640094899"
     },
     "user_tz": 300
    },
    "id": "V19hiy3JRoFt",
    "outputId": "b638ed38-7044-4c6b-b5f5-0c41ed601082"
   },
   "outputs": [
    {
     "data": {
      "image/png": "[encoded data removed]",
      "text/plain": [
       "<Figure size 432x288 with 1 Axes>"
      ]
     },
     "metadata": {
      "needs_background": "light"
     },
     "output_type": "display_data"
    }
   ],
   "source": [
    "def f(x):\n",
    "  return x**2*(x - 2)*(x + 1)\n",
    "\n",
    "plt.plot(x, f(x))\n",
    "plt.title(r'$f(x) = x^2(x - 2)(x + 1)$')\n",
    "plt.grid();"
   ]
  },
  {
   "cell_type": "code",
   "execution_count": 32,
   "metadata": {
    "colab": {
     "base_uri": "https://localhost:8080/"
    },
    "executionInfo": {
     "elapsed": 162,
     "status": "ok",
     "timestamp": 1645665368517,
     "user": {
      "displayName": "Jacob Koehler",
      "photoUrl": "https://lh3.googleusercontent.com/a/default-user=s64",
      "userId": "12300099689640094899"
     },
     "user_tz": 300
    },
    "id": "9O7WlsK9Ml7T",
    "nbgrader": {
     "grade": false,
     "grade_id": "cell-425a47206882406a",
     "locked": false,
     "schema_version": 3,
     "solution": true
    },
    "outputId": "9882c514-a4de-418c-8839-8fba6f588db4"
   },
   "outputs": [
    {
     "name": "stdout",
     "output_type": "stream",
     "text": [
      "Minimum is at x = 2\n"
     ]
    }
   ],
   "source": [
    "### GRADED\n",
    "xs = [-2]\n",
    "for i in range(50):\n",
    "  pass\n",
    "  \n",
    "best_start = ''\n",
    "\n",
    "### BEGIN SOLUTION\n",
    "best_start = 2\n",
    "### END SOLUTION\n",
    "\n",
    "### ANSWER CHECK\n",
    "print(f'Minimum is at x = {best_start}')\n",
    "# plt.plot(x, f(x))\n",
    "# plt.plot(xs, f(np.array(xs)), 'o')"
   ]
  },
  {
   "cell_type": "code",
   "execution_count": 33,
   "metadata": {
    "executionInfo": {
     "elapsed": 140,
     "status": "ok",
     "timestamp": 1645665371513,
     "user": {
      "displayName": "Jacob Koehler",
      "photoUrl": "https://lh3.googleusercontent.com/a/default-user=s64",
      "userId": "12300099689640094899"
     },
     "user_tz": 300
    },
    "id": "lWPh8kXLMl7T"
   },
   "outputs": [
    {
     "data": {
      "text/plain": [
       "[<matplotlib.lines.Line2D at 0x7f35a9c9d6a0>]"
      ]
     },
     "execution_count": 33,
     "metadata": {},
     "output_type": "execute_result"
    },
    {
     "data": {
      "image/png": "[encoded data removed]",
      "text/plain": [
       "<Figure size 432x288 with 1 Axes>"
      ]
     },
     "metadata": {
      "needs_background": "light"
     },
     "output_type": "display_data"
    }
   ],
   "source": [
    "plt.plot(x, f(x))\n",
    "plt.plot(xs, f(np.array(xs)), 'o')"
   ]
  },
  {
   "cell_type": "code",
   "execution_count": 34,
   "metadata": {
    "id": "1VhXyE5BXxH7",
    "nbgrader": {
     "grade": true,
     "grade_id": "cell-5a4f6269b813db7d",
     "locked": true,
     "points": 10,
     "schema_version": 3,
     "solution": false
    }
   },
   "outputs": [],
   "source": [
    "### BEGIN HIDDEN TESTS\n",
    "\n",
    "assert best_start == 2\n",
    "### END HIDDEN TESTS"
   ]
  },
  {
   "cell_type": "markdown",
   "metadata": {
    "id": "f5Q7yIJ-Ml7V",
    "nbgrader": {
     "grade": false,
     "grade_id": "cell-bb24b91141f60ff9",
     "locked": true,
     "schema_version": 3,
     "solution": false
    }
   },
   "source": [
    "Now that you see the importance of both the starting value and step size parameter, consider looking for further refinements to the basic gradient descent model.  In the next activity, you will explore how to use gradient descent in identifying the parameters for a linear regression model.  Here, you will minimize the **MEAN SQUARED ERROR** function rather than an aribitrary polynomial."
   ]
  }
 ],
 "metadata": {
  "celltoolbar": "Create Assignment",
  "colab": {
   "collapsed_sections": [],
   "name": "coding_assignment_15.2.ipynb",
   "provenance": []
  },
  "kernelspec": {
   "display_name": "Python 3 (ipykernel)",
   "language": "python",
   "name": "python3"
  },
  "language_info": {
   "codemirror_mode": {
    "name": "ipython",
    "version": 3
   },
   "file_extension": ".py",
   "mimetype": "text/x-python",
   "name": "python",
   "nbconvert_exporter": "python",
   "pygments_lexer": "ipython3",
   "version": "3.9.11"
  }
 },
 "nbformat": 4,
 "nbformat_minor": 1
}
