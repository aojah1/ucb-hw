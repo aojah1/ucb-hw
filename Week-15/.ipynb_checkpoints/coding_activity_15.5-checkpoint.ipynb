{
 "cells": [
  {
   "cell_type": "markdown",
   "metadata": {
    "id": "kAW-4pF-EIew"
   },
   "source": [
    "### Concavity with Second Derivatives\n",
    "\n",
    "This activity focuses on understanding how you the second derivative of a function to determine whether a function is concave up or concave down.  You are given functions that approximate derivatives and will use these to explore the relationship between the second derivative and concavity.\n",
    "\n",
    "#### Index\n",
    "\n",
    "- [Problem 1](#-Problem-1)\n",
    "- [Problem 2](#-Problem-2)\n",
    "- [Problem 3](#-Problem-3)"
   ]
  },
  {
   "cell_type": "code",
   "execution_count": 3,
   "metadata": {
    "id": "-S-gYG4BEIez"
   },
   "outputs": [],
   "source": [
    "import numpy as np\n",
    "import pandas as pd\n",
    "import matplotlib.pyplot as plt\n",
    "from scipy.optimize import root\n",
    "import sympy as sy"
   ]
  },
  {
   "cell_type": "markdown",
   "metadata": {
    "id": "Zsb5qR_BEIe0"
   },
   "source": [
    "[Back to top](#-Index)\n",
    "\n",
    "### Problem 1\n",
    "\n",
    "#### Behavior of $f'$ and $f''$\n",
    "\n",
    "**5 Points**\n",
    "\n",
    "Using the functions for `f`, `df`, and `ddf`, explore the value of the first and second derivative at points in domain $x \\in [-2, 2]$.  Note that you already know the function is convex aka concave up.\n",
    "\n",
    "- Is the first derivative on this domain increasing or decreasing?  Assign your solution as a string to `ans_1a`.\n",
    "\n",
    "- Is the second derivative on this domain positive or negative?  Assign your solution as a string to `ans_1b`. "
   ]
  },
  {
   "cell_type": "code",
   "execution_count": null,
   "metadata": {},
   "outputs": [],
   "source": [
    "x = np.linspace(-2, 2, num=50)"
   ]
  },
  {
   "cell_type": "code",
   "execution_count": 4,
   "metadata": {
    "id": "ZlVPJFEREIe1"
   },
   "outputs": [],
   "source": [
    "def f(x):\n",
    "    return x**2"
   ]
  },
  {
   "cell_type": "code",
   "execution_count": 5,
   "metadata": {
    "id": "znWGEyESEIe1"
   },
   "outputs": [],
   "source": [
    "def df(x):\n",
    "    '''\n",
    "    This function approximates\n",
    "    the first derivative of some\n",
    "    function f\n",
    "    '''\n",
    "    h = 0.0000001\n",
    "    return (f(x + h) - f(x)) / h"
   ]
  },
  {
   "cell_type": "code",
   "execution_count": 6,
   "metadata": {
    "id": "X58D0ZFbEIe1"
   },
   "outputs": [],
   "source": [
    "def ddf(x):\n",
    "    '''\n",
    "    This function approximates\n",
    "    the second derivative of some\n",
    "    function f by finding the \n",
    "    derivative of the derivative df.\n",
    "    '''\n",
    "    h = 0.0000001\n",
    "    return (df(x + h) - df(x)) / h"
   ]
  },
  {
   "cell_type": "code",
   "execution_count": 7,
   "metadata": {
    "id": "7znRTrnNEIe2",
    "outputId": "2a442879-4dec-46cf-c112-d2de943493e2"
   },
   "outputs": [
    {
     "name": "stdout",
     "output_type": "stream",
     "text": [
      "First derivative at x = -1 and x = 1: (-1.999999899027216, 2.0000001010878066)\n",
      "Second derivative at x = -1 and x = 1: (1.9984014443252818, 1.9984014443252818)\n"
     ]
    }
   ],
   "source": [
    "### GRADED\n",
    "ans_1a = ''\n",
    "ans_1b = ''\n",
    "    \n",
    "    \n",
    "### BEGIN SOLUTION\n",
    "ans_1a = 'increasing'\n",
    "ans_1b = 'positive'\n",
    "### END SOLUTION\n",
    "\n",
    "### ANSWER CHECK\n",
    "print(f'First derivative at x = -1 and x = 1: {df(-1), df(1)}')\n",
    "print(f'Second derivative at x = -1 and x = 1: {ddf(-1), ddf(1)}')"
   ]
  },
  {
   "cell_type": "code",
   "execution_count": 8,
   "metadata": {
    "id": "aBiEZj9AEIe3"
   },
   "outputs": [],
   "source": [
    "### BEGIN HIDDEN TESTS\n",
    "ans_1a_ = 'increasing'\n",
    "ans_1b_ = 'positive'\n",
    "#\n",
    "#\n",
    "#\n",
    "assert ans_1a_ == ans_1a\n",
    "assert ans_1b_ == ans_1b\n",
    "### END HIDDEN TESTS"
   ]
  },
  {
   "cell_type": "markdown",
   "metadata": {
    "id": "Fx2jmB0AEIe3"
   },
   "source": [
    "[Back to top](#-Index)\n",
    "\n",
    "### Problem 2\n",
    "\n",
    "#### Behavior of $f'$ and $f''$ for $f(x) = -x^2$\n",
    "\n",
    "**5 Points**\n",
    "\n",
    "Now, compare the values of the first and second derivative of the function $f(x) = -x^2$ on $x \\in [-2, 2]$ below. \n",
    "\n",
    "- Is the first derivative on this domain increasing or decreasing?  Assign your solution as a string to `ans_2a`.\n",
    "\n",
    "- Is the second derivative on this domain positive or negative?  Assign your solution as a string to `ans_2b`. "
   ]
  },
  {
   "cell_type": "code",
   "execution_count": 21,
   "metadata": {
    "id": "jlqx573kEIe4"
   },
   "outputs": [],
   "source": [
    "def f(x):\n",
    "    return -x**2"
   ]
  },
  {
   "cell_type": "code",
   "execution_count": 22,
   "metadata": {
    "id": "9zdJhfLCEIe4",
    "outputId": "14e5f9fe-1110-441b-a8e4-42cc06280ee4"
   },
   "outputs": [
    {
     "data": {
      "image/png": "[encoded data removed]",
      "text/plain": [
       "<Figure size 432x288 with 1 Axes>"
      ]
     },
     "metadata": {
      "needs_background": "light"
     },
     "output_type": "display_data"
    }
   ],
   "source": [
    "plt.plot(x, f(x))\n",
    "plt.title(r'Plot of $f(x) = -x^2$')\n",
    "plt.grid();"
   ]
  },
  {
   "cell_type": "code",
   "execution_count": 23,
   "metadata": {
    "id": "PGtX3A7LEIe4",
    "outputId": "a812be8e-1e20-49bd-ee8a-a4acc6a4087d"
   },
   "outputs": [
    {
     "name": "stdout",
     "output_type": "stream",
     "text": [
      "First derivative at x = -1 and x = 1: (1.999999899027216, -2.0000001010878066)\n",
      "Second derivative at x = -1 and x = 1: (-1.9984014443252818, -1.9984014443252818)\n"
     ]
    }
   ],
   "source": [
    "### GRADED\n",
    "ans_2a = ''\n",
    "ans_2b = ''\n",
    "    \n",
    "    \n",
    "### BEGIN SOLUTION\n",
    "ans_2a = 'decreasing'\n",
    "ans_2b = 'negative'\n",
    "### END SOLUTION\n",
    "\n",
    "### ANSWER CHECK\n",
    "print(f'First derivative at x = -1 and x = 1: {df(-1), df(1)}')\n",
    "print(f'Second derivative at x = -1 and x = 1: {ddf(-1), ddf(1)}')"
   ]
  },
  {
   "cell_type": "code",
   "execution_count": 24,
   "metadata": {
    "id": "VGhqzjjZEIe5"
   },
   "outputs": [],
   "source": [
    "### BEGIN HIDDEN TESTS\n",
    "ans_2a_ = 'decreasing'\n",
    "ans_2b_ = 'negative'\n",
    "#\n",
    "#\n",
    "#\n",
    "assert ans_2a_ == ans_2a\n",
    "assert ans_2b_ == ans_2b\n",
    "### END HIDDEN TESTS"
   ]
  },
  {
   "cell_type": "markdown",
   "metadata": {
    "id": "V81j2m-FEIe5"
   },
   "source": [
    "[Back to top](#-Index)\n",
    "\n",
    "### Problem 3\n",
    "\n",
    "#### A function with changing concavity\n",
    "\n",
    "**5 Points**\n",
    "\n",
    "Now, examine the function below. This function is concave down on certain intervals and concave up on others.  From the plot, recognize that where the second derivative `ddf = 0` is the point where this concavity changes.  Use the plot below to decide the relationships between where the function is concave up and concave down.  For the interval where the function is concave up is the first derivative *increasing* or *decreasing* and is the second derivative *positive* or *negative*?  \n",
    "\n",
    "Assign your answers as strings below to `ans_3a` and `ans_3b` respectively"
   ]
  },
  {
   "cell_type": "code",
   "execution_count": 25,
   "metadata": {
    "id": "Db-YKo0IEIe5"
   },
   "outputs": [],
   "source": [
    "def f(x):\n",
    "   return -x**2*(x - 2)*(x + 2)"
   ]
  },
  {
   "cell_type": "code",
   "execution_count": 26,
   "metadata": {
    "id": "UZ_uvBsdEIe5",
    "outputId": "e56ef06e-218b-4b92-98f7-895b25009b5d"
   },
   "outputs": [
    {
     "data": {
      "image/png": "[encoded data removed]",
      "text/plain": [
       "<Figure size 432x288 with 1 Axes>"
      ]
     },
     "metadata": {
      "needs_background": "light"
     },
     "output_type": "display_data"
    }
   ],
   "source": [
    "plt.plot(x, f(x), label = 'f')\n",
    "plt.plot(x, df(x), label = 'df')\n",
    "plt.plot(x, ddf(x), label = 'ddf')\n",
    "plt.legend()\n",
    "plt.grid()\n",
    "plt.axhline(color = 'black')\n",
    "plt.title('Comparing f, df, and ddf')\n",
    "plt.ylim(-2, 10);"
   ]
  },
  {
   "cell_type": "code",
   "execution_count": 27,
   "metadata": {
    "id": "-wsM1NtyEIe6"
   },
   "outputs": [],
   "source": [
    "### GRADED\n",
    "ans_3a = ''\n",
    "ans_3b = ''\n",
    "    \n",
    "    \n",
    "### BEGIN SOLUTION\n",
    "ans_3a = 'increasing'\n",
    "ans_3b = 'positive'\n",
    "### END SOLUTION\n",
    "\n"
   ]
  },
  {
   "cell_type": "markdown",
   "metadata": {
    "id": "S9T_9XWeEIe6"
   },
   "source": [
    "Both Jensen's inequality and the first and second derivative tests can be used to determine the nature of concavity of a function.  Jensen's avoids the need for differentiation which can present numerical issues and is a bit more straightforward.  For example, try using `scipy`'s `derivative` function to evaluate the second derivative of a very basic function like $x^2$.  "
   ]
  }
 ],
 "metadata": {
  "colab": {
   "collapsed_sections": [],
   "name": "coding_assignment_15.5.ipynb",
   "provenance": []
  },
  "kernelspec": {
   "display_name": "Python 3",
   "language": "python",
   "name": "python3"
  },
  "language_info": {
   "codemirror_mode": {
    "name": "ipython",
    "version": 3
   },
   "file_extension": ".py",
   "mimetype": "text/x-python",
   "name": "python",
   "nbconvert_exporter": "python",
   "pygments_lexer": "ipython3",
   "version": "3.8.8"
  }
 },
 "nbformat": 4,
 "nbformat_minor": 1
}
