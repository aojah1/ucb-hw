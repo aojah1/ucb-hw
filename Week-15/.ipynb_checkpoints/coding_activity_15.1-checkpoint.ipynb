{
 "cells": [
  {
   "cell_type": "markdown",
   "metadata": {
    "id": "1v_n1cGIL69R",
    "nbgrader": {
     "grade": false,
     "grade_id": "cell-1633c3209a22684e",
     "locked": true,
     "schema_version": 3,
     "solution": false
    }
   },
   "source": [
    "### Codio Activity 15.1: Introduction to Gradient Descent\n",
    "\n",
    "**Expected Time = 60 minutes** \n",
    "\n",
    "**Total Points = 50**\n",
    "\n",
    "This activity introduces the iterative procedure to use the derivative in finding maximum or minimum values of a function.  To begin, you will use a numeric approximation for the derivative (slope of tangent line) and write the equation for this line.  Then, you will use this line to approximate a value of the function a short distance from the point of tangency.  In the next assignment, you will repeatedly apply this operation using gradient descent to locate the minimum value of a function.\n",
    "\n",
    "#### Index\n",
    "\n",
    "- [Problem 1](#-Problem-1)\n",
    "- [Problem 2](#-Problem-2)\n",
    "- [Problem 3](#-Problem-3)\n",
    "- [Problem 4](#-Problem-4)\n",
    "- [Problem 5](#-Problem-5)"
   ]
  },
  {
   "cell_type": "code",
   "execution_count": 1,
   "metadata": {
    "id": "_lZecFRTL69U"
   },
   "outputs": [],
   "source": [
    "import numpy as np\n",
    "import pandas as pd\n",
    "import plotly.express as px\n",
    "import matplotlib.pyplot as plt\n",
    "\n",
    "from scipy.optimize import minimize"
   ]
  },
  {
   "cell_type": "markdown",
   "metadata": {
    "id": "BkHhQKJ-L69W",
    "nbgrader": {
     "grade": false,
     "grade_id": "cell-6ad27fdde039b825",
     "locked": true,
     "schema_version": 3,
     "solution": false
    }
   },
   "source": [
    "[Back to top](#-Index)\n",
    "\n",
    "### Problem 1\n",
    "\n",
    "#### Examining the Function\n",
    "\n",
    "To begin, define a function $f(x) = x^2$ and a domain $x = [-2, 2]$. Plot the function and identify whether a maximum or minimum value exists. Generate 100 samples.\n",
    "\n",
    "HINT: To define a domain, use numpy's `linspace`.\n",
    "\n",
    "**10 Points**"
   ]
  },
  {
   "cell_type": "code",
   "execution_count": 2,
   "metadata": {
    "id": "nnkB6lRJL69W",
    "nbgrader": {
     "grade": false,
     "grade_id": "cell-0469e251df26df3a",
     "locked": false,
     "schema_version": 3,
     "solution": true
    },
    "outputId": "2ee946c9-76bd-45ba-b646-e5c59fa40b08"
   },
   "outputs": [
    {
     "data": {
      "image/png": "[encoded data removed]",
      "text/plain": [
       "<Figure size 432x288 with 1 Axes>"
      ]
     },
     "metadata": {
      "needs_background": "light"
     },
     "output_type": "display_data"
    }
   ],
   "source": [
    "### GRADED\n",
    "\n",
    "def f(x):\n",
    "    pass\n",
    "x = ''\n",
    "### BEGIN SOLUTION\n",
    "def f(x): return x**2\n",
    "x = np.linspace(-2, 2, 100)\n",
    "### END SOLUTION\n",
    "\n",
    "# Answer check\n",
    "plt.plot(x, f(x), label = 'f')\n",
    "plt.legend();"
   ]
  },
  {
   "cell_type": "code",
   "execution_count": 3,
   "metadata": {
    "id": "VHdkU3nxL69X",
    "nbgrader": {
     "grade": true,
     "grade_id": "cell-8a354d5d100cbb26",
     "locked": true,
     "points": 10,
     "schema_version": 3,
     "solution": false
    }
   },
   "outputs": [],
   "source": [
    "### BEGIN HIDDEN TESTS\n",
    "def f_(x): return x**2\n",
    "x_ = np.linspace(-2, 2, 100)\n",
    "#\n",
    "#\n",
    "#\n",
    "np.testing.assert_array_equal(f(x), f_(x_))\n",
    "### END HIDDEN TESTS"
   ]
  },
  {
   "cell_type": "markdown",
   "metadata": {
    "id": "4WCj2lv0L69X",
    "nbgrader": {
     "grade": false,
     "grade_id": "cell-3d2baa753fd4da87",
     "locked": true,
     "schema_version": 3,
     "solution": false
    }
   },
   "source": [
    "[Back to top](#-Index)\n",
    "\n",
    "### Problem 2\n",
    "\n",
    "#### Approximating the derivative\n",
    "\n",
    "**10 Points**\n",
    "\n",
    "The definition of the derivative $f'$ of a function $f$ is:\n",
    "\n",
    "$$f'(x) =  \\lim_{h \\to 0} \\frac{f(x + h) - f(x)}{h}$$"
   ]
  },
  {
   "cell_type": "markdown",
   "metadata": {
    "id": "wmoSmpMGL69Y",
    "nbgrader": {
     "grade": false,
     "grade_id": "cell-f0beae1895804178",
     "locked": true,
     "schema_version": 3,
     "solution": false
    }
   },
   "source": [
    "Using this definition to substitute a small value for $h$ in the difference quotient we have:\n",
    "\n",
    "$$\\frac{f(x + 0.0001) - f(x)}{0.0001}$$\n",
    "\n",
    "Define a function `df` below that takes in a value `x` and returns this approximate derivative of $f$ along $x$.  "
   ]
  },
  {
   "cell_type": "code",
   "execution_count": 4,
   "metadata": {
    "id": "PRoixJBpL69Y",
    "nbgrader": {
     "grade": false,
     "grade_id": "cell-224ff582dbc2951d",
     "locked": false,
     "schema_version": 3,
     "solution": true
    },
    "outputId": "9c4133a1-ba7b-4e57-9017-51fa863a99c8"
   },
   "outputs": [
    {
     "data": {
      "image/png": "[encoded data removed]",
      "text/plain": [
       "<Figure size 432x288 with 1 Axes>"
      ]
     },
     "metadata": {
      "needs_background": "light"
     },
     "output_type": "display_data"
    }
   ],
   "source": [
    "### GRADED\n",
    "\n",
    "def df(x):\n",
    "    pass\n",
    "x = ''\n",
    "### BEGIN SOLUTION\n",
    "def df(x): return (f(x + 0.0001) - f(x))/0.0001\n",
    "x = np.linspace(-2, 2, 100)\n",
    "### END SOLUTION\n",
    "\n",
    "# Answer check\n",
    "plt.plot(x, f(x), label = 'f')\n",
    "plt.plot(x, df(x), label = 'df')\n",
    "plt.ylim(-1, 4)\n",
    "plt.axhline(color = 'black')\n",
    "plt.legend();"
   ]
  },
  {
   "cell_type": "code",
   "execution_count": 5,
   "metadata": {
    "id": "SQgIjPD0L69Z",
    "nbgrader": {
     "grade": true,
     "grade_id": "cell-87adf6b8fdbe24c1",
     "locked": true,
     "points": 10,
     "schema_version": 3,
     "solution": false
    }
   },
   "outputs": [],
   "source": [
    "### BEGIN HIDDEN TESTS\n",
    "def f_(x): return x**2\n",
    "def df_(x): return (f_(x + 0.0001) - f_(x))/0.0001\n",
    "x_ = np.linspace(-2, 2, 100)\n",
    "#\n",
    "#\n",
    "#\n",
    "np.testing.assert_array_equal(df(x), df_(x_))\n",
    "### END HIDDEN TESTS"
   ]
  },
  {
   "cell_type": "markdown",
   "metadata": {
    "id": "VVqDS2rdL69Z",
    "nbgrader": {
     "grade": false,
     "grade_id": "cell-c952783f10045ace",
     "locked": true,
     "schema_version": 3,
     "solution": false
    }
   },
   "source": [
    "[Back to top](#-Index)\n",
    "\n",
    "### Problem 3\n",
    "\n",
    "#### Slope of tangent at $x = 1$\n",
    "\n",
    "**10 Points**\n",
    "\n",
    "Use the function $f(x) = x^2$ and $f'(x)$ to determine the slope of the tangent line (the value of the derivative) at $x = 1$.  Assign this as a float to `m` below."
   ]
  },
  {
   "cell_type": "code",
   "execution_count": 6,
   "metadata": {
    "id": "yy3f02UpL69Z",
    "nbgrader": {
     "grade": false,
     "grade_id": "cell-9dc45a55f73f3aa2",
     "locked": false,
     "schema_version": 3,
     "solution": true
    },
    "outputId": "4aa83d55-6c64-493f-d17a-eff8e1945823"
   },
   "outputs": [
    {
     "name": "stdout",
     "output_type": "stream",
     "text": [
      "The slope of the tangent line at x = 1 is  2.00\n"
     ]
    }
   ],
   "source": [
    "### GRADED\n",
    "\n",
    "m = ''\n",
    "### BEGIN SOLUTION\n",
    "m = df(1)\n",
    "### END SOLUTION\n",
    "\n",
    "# Answer check\n",
    "print(f'The slope of the tangent line at x = 1 is {m: .2f}')"
   ]
  },
  {
   "cell_type": "code",
   "execution_count": 7,
   "metadata": {
    "id": "CyT20Ed6L69a",
    "nbgrader": {
     "grade": true,
     "grade_id": "cell-8f997d8b32bccec1",
     "locked": true,
     "points": 10,
     "schema_version": 3,
     "solution": false
    }
   },
   "outputs": [],
   "source": [
    "### BEGIN HIDDEN TESTS\n",
    "def f_(x): return x**2\n",
    "def df_(x): return (f_(x + 0.0001) - f_(x))/0.0001\n",
    "x_ = np.linspace(-2, 2, 100)\n",
    "m_ = df_(1)\n",
    "#\n",
    "#\n",
    "#\n",
    "assert m == m_\n",
    "### END HIDDEN TESTS"
   ]
  },
  {
   "cell_type": "markdown",
   "metadata": {
    "id": "hIVfDjnvL69a",
    "nbgrader": {
     "grade": false,
     "grade_id": "cell-b4a074cfe7cc0d2b",
     "locked": true,
     "schema_version": 3,
     "solution": false
    }
   },
   "source": [
    "[Back to top](#-Index)\n",
    "\n",
    "### Problem 4\n",
    "\n",
    "#### Equation of tangent line at $x = 1$\n",
    "\n",
    "**10 Points**\n",
    "\n",
    "Now, you can use the slope found in problem 3 and the point (1, 1) to write an equation for the tangent line.  Define a function `l` below that represents this line.  Recall the point-slope form for a line is given by:\n",
    "\n",
    "$$y = m(x - x_0) + y_0$$\n",
    "\n",
    "where $m = \\text{slope}$ and $(x_0, y_0) = (x, f(x))$."
   ]
  },
  {
   "cell_type": "code",
   "execution_count": 13,
   "metadata": {
    "id": "dasxY-2UL69a",
    "nbgrader": {
     "grade": false,
     "grade_id": "cell-cf0358218d4e18d5",
     "locked": false,
     "schema_version": 3,
     "solution": true
    }
   },
   "outputs": [
    {
     "data": {
      "image/png": "[encoded data removed]",
      "text/plain": [
       "<Figure size 432x288 with 1 Axes>"
      ]
     },
     "metadata": {
      "needs_background": "light"
     },
     "output_type": "display_data"
    }
   ],
   "source": [
    "### GRADED\n",
    "\n",
    "def l(x):\n",
    "    pass\n",
    "### BEGIN SOLUTION\n",
    "def l(x): return m*(x - 1) + 1\n",
    "### END SOLUTION\n",
    "\n",
    "# # Answer check\n",
    "plt.plot(x, f(x), label = 'f')\n",
    "plt.plot(x, l(x), label = 'l')\n",
    "plt.plot(1, 1, 'ro')\n",
    "plt.ylim(-1, 4)\n",
    "plt.axhline(color = 'black')\n",
    "plt.legend();"
   ]
  },
  {
   "cell_type": "code",
   "execution_count": 17,
   "metadata": {
    "id": "97K0TRNtL69b",
    "nbgrader": {
     "grade": true,
     "grade_id": "cell-7493ff94ec66e925",
     "locked": true,
     "points": 10,
     "schema_version": 3,
     "solution": false
    }
   },
   "outputs": [],
   "source": [
    "### BEGIN HIDDEN TESTS\n",
    "def f_(x): return x**2\n",
    "def df_(x): return (f_(x + 0.0001) - f_(x))/0.0001\n",
    "x_ = np.linspace(-2, 2, 100)\n",
    "m_ = df_(1)\n",
    "def l(x_): return m_*(x_ - 1) + 1\n",
    "\n",
    "pass\n",
    "### END HIDDEN TESTS"
   ]
  },
  {
   "cell_type": "markdown",
   "metadata": {
    "id": "Piq2zE2NL69b"
   },
   "source": [
    "[Back to top](#-Index)\n",
    "\n",
    "### Problem 5\n",
    "\n",
    "#### Use tangent line to approximate $x = 0.9$\n",
    "\n",
    "**10 Points**\n",
    "\n",
    "Now, use the equation of the tangent line to approximate the value of $f(x)$ at $x = 0.9$.  Compare this to the actual value of $f(0.9)$.  Assign the absolute difference between these to `error` below."
   ]
  },
  {
   "cell_type": "code",
   "execution_count": 11,
   "metadata": {
    "id": "9SEimri4L69b",
    "nbgrader": {
     "grade": false,
     "grade_id": "cell-61d37f4809af7bdd",
     "locked": false,
     "schema_version": 3,
     "solution": true
    }
   },
   "outputs": [
    {
     "data": {
      "image/png": "[encoded data removed]",
      "text/plain": [
       "<Figure size 432x288 with 1 Axes>"
      ]
     },
     "metadata": {
      "needs_background": "light"
     },
     "output_type": "display_data"
    }
   ],
   "source": [
    "### GRADED\n",
    "\n",
    "f_next = ''\n",
    "error = ''\n",
    "\n",
    "### BEGIN SOLUTION\n",
    "f_next = l(0.9)\n",
    "error = abs(f_next - f(0.9))\n",
    "### END SOLUTION\n",
    "\n",
    "# # Answer check\n",
    "plt.plot(x, f(x), label = 'f')\n",
    "plt.plot(x, l(x), label = 'l')\n",
    "plt.plot(1, 1, 'ro', label = 'starting point')\n",
    "plt.plot(0.9, l(0.9), 'bo', label = 'tan line approximation')\n",
    "plt.ylim(0.75, 1.05)\n",
    "plt.xlim(0.88, 1.01)\n",
    "plt.axhline(color = 'black')\n",
    "plt.legend(frameon = False);"
   ]
  },
  {
   "cell_type": "code",
   "execution_count": 12,
   "metadata": {
    "id": "61CqlmN4L69b",
    "nbgrader": {
     "grade": true,
     "grade_id": "cell-5b20477f1cffb118",
     "locked": true,
     "points": 10,
     "schema_version": 3,
     "solution": false
    }
   },
   "outputs": [],
   "source": [
    "### BEGIN HIDDEN TESTS\n",
    "f_next_ = l(0.9)\n",
    "error_ = abs(f_next_ - f(0.9))\n",
    "assert f_next == f_next_\n",
    "### END HIDDEN TESTS"
   ]
  }
 ],
 "metadata": {
  "celltoolbar": "Create Assignment",
  "colab": {
   "collapsed_sections": [],
   "name": "coding_assignment_15.1.ipynb",
   "provenance": []
  },
  "kernelspec": {
   "display_name": "Python 3 (ipykernel)",
   "language": "python",
   "name": "python3"
  },
  "language_info": {
   "codemirror_mode": {
    "name": "ipython",
    "version": 3
   },
   "file_extension": ".py",
   "mimetype": "text/x-python",
   "name": "python",
   "nbconvert_exporter": "python",
   "pygments_lexer": "ipython3",
   "version": "3.9.11"
  }
 },
 "nbformat": 4,
 "nbformat_minor": 1
}
