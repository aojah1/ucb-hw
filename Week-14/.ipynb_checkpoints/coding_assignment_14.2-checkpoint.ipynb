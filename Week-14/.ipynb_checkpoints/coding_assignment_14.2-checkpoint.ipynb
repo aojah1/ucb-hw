{
 "cells": [
  {
   "cell_type": "markdown",
   "metadata": {
    "id": "qbFwxK7hoYpw",
    "nbgrader": {
     "grade": false,
     "grade_id": "cell-cf7ecfd884017c94",
     "locked": true,
     "schema_version": 3,
     "solution": false
    }
   },
   "source": [
    "### Codio Activity 14.2:  Visualizing a Decision Tree\n",
    "\n",
    "**Expected Time = 60 minutes**\n",
    "\n",
    "**Total Points = 40**\n",
    "\n",
    "This activity focuses on visualizing the results of a `DecisionTreeClassifier` using the `plot_tree` function from `sklearn`. Behind the visualization lies the `graphviz` library, and if further customization is desired you can implement a graph visualization using the Python implementation of `graphviz` [here](https://pypi.org/project/graphviz/).\n",
    "\n",
    "#### Index\n",
    "\n",
    "- [Problem 1](#-Problem-1)\n",
    "- [Problem 2](#-Problem-2)\n",
    "- [Problem 3](#-Problem-3)\n",
    "- [Problem 4](#-Problem-4)"
   ]
  },
  {
   "cell_type": "code",
   "execution_count": 1,
   "metadata": {
    "executionInfo": {
     "elapsed": 1501,
     "status": "ok",
     "timestamp": 1644531973608,
     "user": {
      "displayName": "Jacob Koehler",
      "photoUrl": "https://lh3.googleusercontent.com/a/default-user=s64",
      "userId": "12300099689640094899"
     },
     "user_tz": 300
    },
    "id": "qGB-DeAHoYpz"
   },
   "outputs": [],
   "source": [
    "import pandas as pd\n",
    "import numpy as np\n",
    "import matplotlib.pyplot as plt\n",
    "import seaborn as sns\n",
    "\n",
    "from sklearn.tree import DecisionTreeClassifier, export_text, plot_tree\n",
    "from sklearn.model_selection import train_test_split"
   ]
  },
  {
   "cell_type": "code",
   "execution_count": 2,
   "metadata": {
    "colab": {
     "base_uri": "https://localhost:8080/",
     "height": 329
    },
    "executionInfo": {
     "elapsed": 409,
     "status": "error",
     "timestamp": 1644531974014,
     "user": {
      "displayName": "Jacob Koehler",
      "photoUrl": "https://lh3.googleusercontent.com/a/default-user=s64",
      "userId": "12300099689640094899"
     },
     "user_tz": 300
    },
    "id": "LWIndxWloYp1",
    "outputId": "ef785b5e-84ef-4ab4-bcbb-ef506b3831bb"
   },
   "outputs": [],
   "source": [
    "default = pd.read_excel('data/Default.xls', skiprows = 1, index_col = 0)"
   ]
  },
  {
   "cell_type": "code",
   "execution_count": 3,
   "metadata": {
    "executionInfo": {
     "elapsed": 8,
     "status": "aborted",
     "timestamp": 1644531973821,
     "user": {
      "displayName": "Jacob Koehler",
      "photoUrl": "https://lh3.googleusercontent.com/a/default-user=s64",
      "userId": "12300099689640094899"
     },
     "user_tz": 300
    },
    "id": "zvfrPpakoYp1"
   },
   "outputs": [
    {
     "data": {
      "text/html": [
       "<div>\n",
       "<style scoped>\n",
       "    .dataframe tbody tr th:only-of-type {\n",
       "        vertical-align: middle;\n",
       "    }\n",
       "\n",
       "    .dataframe tbody tr th {\n",
       "        vertical-align: top;\n",
       "    }\n",
       "\n",
       "    .dataframe thead th {\n",
       "        text-align: right;\n",
       "    }\n",
       "</style>\n",
       "<table border=\"1\" class=\"dataframe\">\n",
       "  <thead>\n",
       "    <tr style=\"text-align: right;\">\n",
       "      <th></th>\n",
       "      <th>LIMIT_BAL</th>\n",
       "      <th>SEX</th>\n",
       "      <th>EDUCATION</th>\n",
       "      <th>MARRIAGE</th>\n",
       "      <th>AGE</th>\n",
       "      <th>PAY_0</th>\n",
       "      <th>PAY_2</th>\n",
       "      <th>PAY_3</th>\n",
       "      <th>PAY_4</th>\n",
       "      <th>PAY_5</th>\n",
       "      <th>...</th>\n",
       "      <th>BILL_AMT4</th>\n",
       "      <th>BILL_AMT5</th>\n",
       "      <th>BILL_AMT6</th>\n",
       "      <th>PAY_AMT1</th>\n",
       "      <th>PAY_AMT2</th>\n",
       "      <th>PAY_AMT3</th>\n",
       "      <th>PAY_AMT4</th>\n",
       "      <th>PAY_AMT5</th>\n",
       "      <th>PAY_AMT6</th>\n",
       "      <th>default payment next month</th>\n",
       "    </tr>\n",
       "    <tr>\n",
       "      <th>ID</th>\n",
       "      <th></th>\n",
       "      <th></th>\n",
       "      <th></th>\n",
       "      <th></th>\n",
       "      <th></th>\n",
       "      <th></th>\n",
       "      <th></th>\n",
       "      <th></th>\n",
       "      <th></th>\n",
       "      <th></th>\n",
       "      <th></th>\n",
       "      <th></th>\n",
       "      <th></th>\n",
       "      <th></th>\n",
       "      <th></th>\n",
       "      <th></th>\n",
       "      <th></th>\n",
       "      <th></th>\n",
       "      <th></th>\n",
       "      <th></th>\n",
       "      <th></th>\n",
       "    </tr>\n",
       "  </thead>\n",
       "  <tbody>\n",
       "    <tr>\n",
       "      <th>1</th>\n",
       "      <td>20000</td>\n",
       "      <td>2</td>\n",
       "      <td>2</td>\n",
       "      <td>1</td>\n",
       "      <td>24</td>\n",
       "      <td>2</td>\n",
       "      <td>2</td>\n",
       "      <td>-1</td>\n",
       "      <td>-1</td>\n",
       "      <td>-2</td>\n",
       "      <td>...</td>\n",
       "      <td>0</td>\n",
       "      <td>0</td>\n",
       "      <td>0</td>\n",
       "      <td>0</td>\n",
       "      <td>689</td>\n",
       "      <td>0</td>\n",
       "      <td>0</td>\n",
       "      <td>0</td>\n",
       "      <td>0</td>\n",
       "      <td>1</td>\n",
       "    </tr>\n",
       "    <tr>\n",
       "      <th>2</th>\n",
       "      <td>120000</td>\n",
       "      <td>2</td>\n",
       "      <td>2</td>\n",
       "      <td>2</td>\n",
       "      <td>26</td>\n",
       "      <td>-1</td>\n",
       "      <td>2</td>\n",
       "      <td>0</td>\n",
       "      <td>0</td>\n",
       "      <td>0</td>\n",
       "      <td>...</td>\n",
       "      <td>3272</td>\n",
       "      <td>3455</td>\n",
       "      <td>3261</td>\n",
       "      <td>0</td>\n",
       "      <td>1000</td>\n",
       "      <td>1000</td>\n",
       "      <td>1000</td>\n",
       "      <td>0</td>\n",
       "      <td>2000</td>\n",
       "      <td>1</td>\n",
       "    </tr>\n",
       "    <tr>\n",
       "      <th>3</th>\n",
       "      <td>90000</td>\n",
       "      <td>2</td>\n",
       "      <td>2</td>\n",
       "      <td>2</td>\n",
       "      <td>34</td>\n",
       "      <td>0</td>\n",
       "      <td>0</td>\n",
       "      <td>0</td>\n",
       "      <td>0</td>\n",
       "      <td>0</td>\n",
       "      <td>...</td>\n",
       "      <td>14331</td>\n",
       "      <td>14948</td>\n",
       "      <td>15549</td>\n",
       "      <td>1518</td>\n",
       "      <td>1500</td>\n",
       "      <td>1000</td>\n",
       "      <td>1000</td>\n",
       "      <td>1000</td>\n",
       "      <td>5000</td>\n",
       "      <td>0</td>\n",
       "    </tr>\n",
       "    <tr>\n",
       "      <th>4</th>\n",
       "      <td>50000</td>\n",
       "      <td>2</td>\n",
       "      <td>2</td>\n",
       "      <td>1</td>\n",
       "      <td>37</td>\n",
       "      <td>0</td>\n",
       "      <td>0</td>\n",
       "      <td>0</td>\n",
       "      <td>0</td>\n",
       "      <td>0</td>\n",
       "      <td>...</td>\n",
       "      <td>28314</td>\n",
       "      <td>28959</td>\n",
       "      <td>29547</td>\n",
       "      <td>2000</td>\n",
       "      <td>2019</td>\n",
       "      <td>1200</td>\n",
       "      <td>1100</td>\n",
       "      <td>1069</td>\n",
       "      <td>1000</td>\n",
       "      <td>0</td>\n",
       "    </tr>\n",
       "    <tr>\n",
       "      <th>5</th>\n",
       "      <td>50000</td>\n",
       "      <td>1</td>\n",
       "      <td>2</td>\n",
       "      <td>1</td>\n",
       "      <td>57</td>\n",
       "      <td>-1</td>\n",
       "      <td>0</td>\n",
       "      <td>-1</td>\n",
       "      <td>0</td>\n",
       "      <td>0</td>\n",
       "      <td>...</td>\n",
       "      <td>20940</td>\n",
       "      <td>19146</td>\n",
       "      <td>19131</td>\n",
       "      <td>2000</td>\n",
       "      <td>36681</td>\n",
       "      <td>10000</td>\n",
       "      <td>9000</td>\n",
       "      <td>689</td>\n",
       "      <td>679</td>\n",
       "      <td>0</td>\n",
       "    </tr>\n",
       "  </tbody>\n",
       "</table>\n",
       "<p>5 rows × 24 columns</p>\n",
       "</div>"
      ],
      "text/plain": [
       "    LIMIT_BAL  SEX  EDUCATION  MARRIAGE  AGE  PAY_0  PAY_2  PAY_3  PAY_4  \\\n",
       "ID                                                                         \n",
       "1       20000    2          2         1   24      2      2     -1     -1   \n",
       "2      120000    2          2         2   26     -1      2      0      0   \n",
       "3       90000    2          2         2   34      0      0      0      0   \n",
       "4       50000    2          2         1   37      0      0      0      0   \n",
       "5       50000    1          2         1   57     -1      0     -1      0   \n",
       "\n",
       "    PAY_5  ...  BILL_AMT4  BILL_AMT5  BILL_AMT6  PAY_AMT1  PAY_AMT2  PAY_AMT3  \\\n",
       "ID         ...                                                                  \n",
       "1      -2  ...          0          0          0         0       689         0   \n",
       "2       0  ...       3272       3455       3261         0      1000      1000   \n",
       "3       0  ...      14331      14948      15549      1518      1500      1000   \n",
       "4       0  ...      28314      28959      29547      2000      2019      1200   \n",
       "5       0  ...      20940      19146      19131      2000     36681     10000   \n",
       "\n",
       "    PAY_AMT4  PAY_AMT5  PAY_AMT6  default payment next month  \n",
       "ID                                                            \n",
       "1          0         0         0                           1  \n",
       "2       1000         0      2000                           1  \n",
       "3       1000      1000      5000                           0  \n",
       "4       1100      1069      1000                           0  \n",
       "5       9000       689       679                           0  \n",
       "\n",
       "[5 rows x 24 columns]"
      ]
     },
     "execution_count": 3,
     "metadata": {},
     "output_type": "execute_result"
    }
   ],
   "source": [
    "default.head()"
   ]
  },
  {
   "cell_type": "code",
   "execution_count": 4,
   "metadata": {
    "executionInfo": {
     "elapsed": 9,
     "status": "aborted",
     "timestamp": 1644531973822,
     "user": {
      "displayName": "Jacob Koehler",
      "photoUrl": "https://lh3.googleusercontent.com/a/default-user=s64",
      "userId": "12300099689640094899"
     },
     "user_tz": 300
    },
    "id": "hH-Wq_eMoYp2"
   },
   "outputs": [],
   "source": [
    "X = default.drop('default payment next month', axis = 1)"
   ]
  },
  {
   "cell_type": "code",
   "execution_count": 5,
   "metadata": {
    "executionInfo": {
     "elapsed": 9,
     "status": "aborted",
     "timestamp": 1644531973822,
     "user": {
      "displayName": "Jacob Koehler",
      "photoUrl": "https://lh3.googleusercontent.com/a/default-user=s64",
      "userId": "12300099689640094899"
     },
     "user_tz": 300
    },
    "id": "eqgKPWU-oYp3"
   },
   "outputs": [],
   "source": [
    "y = default['default payment next month']"
   ]
  },
  {
   "cell_type": "markdown",
   "metadata": {
    "id": "Uww7HEv6oYp3",
    "nbgrader": {
     "grade": false,
     "grade_id": "cell-a63c4e54d28a4568",
     "locked": true,
     "schema_version": 3,
     "solution": false
    }
   },
   "source": [
    "[Back to top](#-Index)\n",
    "\n",
    "### Problem 1\n",
    "\n",
    "#### Fitting a model\n",
    "\n",
    "**10 Points**\n",
    "\n",
    "To being, build a `DecisionTreeClassifier` with the parameter `max_depth = 1`.  Fit the model on the training data and assign it to the variable `tree1` below.  Then, pass the `tree1` object to the `plot_tree` function with no additional arguments below.  Assign your results to `tree1_plot` below.\n",
    "\n"
   ]
  },
  {
   "cell_type": "code",
   "execution_count": 7,
   "metadata": {
    "executionInfo": {
     "elapsed": 9,
     "status": "aborted",
     "timestamp": 1644531973823,
     "user": {
      "displayName": "Jacob Koehler",
      "photoUrl": "https://lh3.googleusercontent.com/a/default-user=s64",
      "userId": "12300099689640094899"
     },
     "user_tz": 300
    },
    "id": "5b1_ERbdoYp4",
    "nbgrader": {
     "grade": false,
     "grade_id": "cell-3cc21f4ab987c297",
     "locked": false,
     "schema_version": 3,
     "solution": true
    }
   },
   "outputs": [
    {
     "data": {
      "text/plain": [
       "[Text(0.5, 0.75, 'X[5] <= 1.5\\ngini = 0.345\\nsamples = 30000\\nvalue = [23364, 6636]'),\n",
       " Text(0.25, 0.25, 'gini = 0.277\\nsamples = 26870\\nvalue = [22411, 4459]'),\n",
       " Text(0.75, 0.25, 'gini = 0.424\\nsamples = 3130\\nvalue = [953, 2177]')]"
      ]
     },
     "execution_count": 7,
     "metadata": {},
     "output_type": "execute_result"
    },
    {
     "data": {
      "image/png": "[encoded data removed]",
      "text/plain": [
       "<Figure size 432x288 with 1 Axes>"
      ]
     },
     "metadata": {
      "needs_background": "light"
     },
     "output_type": "display_data"
    }
   ],
   "source": [
    "### GRADED\n",
    "tree1 = ''\n",
    "tree1_plot = ''\n",
    "\n",
    "### BEGIN SOLUTION\n",
    "tree1 = DecisionTreeClassifier(max_depth = 1).fit(X, y)\n",
    "tree1_plot = plot_tree(tree1)\n",
    "### END SOLUTION\n",
    "\n",
    "# Answer check\n",
    "tree1_plot"
   ]
  },
  {
   "cell_type": "code",
   "execution_count": 9,
   "metadata": {
    "executionInfo": {
     "elapsed": 195,
     "status": "aborted",
     "timestamp": 1644531974009,
     "user": {
      "displayName": "Jacob Koehler",
      "photoUrl": "https://lh3.googleusercontent.com/a/default-user=s64",
      "userId": "12300099689640094899"
     },
     "user_tz": 300
    },
    "id": "q_VKvQnZoYp5",
    "nbgrader": {
     "grade": true,
     "grade_id": "cell-3145e7ffce94e5dd",
     "locked": true,
     "points": 10,
     "schema_version": 3,
     "solution": false
    }
   },
   "outputs": [],
   "source": [
    "### BEGIN HIDDEN TESTS\n",
    "tree1_ = DecisionTreeClassifier(max_depth = 1).fit(X, y)\n",
    "#\n",
    "#\n",
    "#\n",
    "assert type(tree1_) == type(tree1)\n",
    "assert tree1.max_depth == tree1_.max_depth\n",
    "### END HIDDEN TESTS"
   ]
  },
  {
   "cell_type": "markdown",
   "metadata": {
    "id": "B-Ep7_IJoYp6",
    "nbgrader": {
     "grade": false,
     "grade_id": "cell-ad1c4fd5862a7eb8",
     "locked": true,
     "schema_version": 3,
     "solution": false
    }
   },
   "source": [
    "[Back to top](#-Index)\n",
    "\n",
    "### Problem 2\n",
    "\n",
    "#### Adding Feature Names\n",
    "\n",
    "**10 Points**\n",
    "\n",
    "The visualization above notes that `X[5] <= 1.5`.  To instead have the feature name displayed, add the argument `feature_names` and list the columns from your data `X`.  Assign your new visualization to `tree1_withnames` below. \n",
    "\n",
    "<center>\n",
    "    <img src = 'images/tree1.png' />\n",
    "</center>\n",
    "\n",
    "\n",
    "\n"
   ]
  },
  {
   "cell_type": "code",
   "execution_count": null,
   "metadata": {
    "executionInfo": {
     "elapsed": 196,
     "status": "aborted",
     "timestamp": 1644531974010,
     "user": {
      "displayName": "Jacob Koehler",
      "photoUrl": "https://lh3.googleusercontent.com/a/default-user=s64",
      "userId": "12300099689640094899"
     },
     "user_tz": 300
    },
    "id": "UJ9BypD2oYp6",
    "nbgrader": {
     "grade": false,
     "grade_id": "cell-b237bfc51346ea7d",
     "locked": false,
     "schema_version": 3,
     "solution": true
    }
   },
   "outputs": [],
   "source": [
    "### GRADED\n",
    "\n",
    "tree1_withnames = ''\n",
    "\n",
    "### BEGIN SOLUTION\n",
    "tree1_withnames = plot_tree(tree1, feature_names = list(X.columns))\n",
    "### END SOLUTION\n",
    "\n",
    "### ANSWER CHECK\n",
    "print(tree1_withnames)"
   ]
  },
  {
   "cell_type": "code",
   "execution_count": null,
   "metadata": {
    "executionInfo": {
     "elapsed": 196,
     "status": "aborted",
     "timestamp": 1644531974010,
     "user": {
      "displayName": "Jacob Koehler",
      "photoUrl": "https://lh3.googleusercontent.com/a/default-user=s64",
      "userId": "12300099689640094899"
     },
     "user_tz": 300
    },
    "id": "HA-P-LP-oYp7",
    "nbgrader": {
     "grade": true,
     "grade_id": "cell-9cefb5efe0b46dac",
     "locked": true,
     "points": 10,
     "schema_version": 3,
     "solution": false
    }
   },
   "outputs": [],
   "source": [
    "### BEGIN HIDDEN TESTS\n",
    "tree1_withnames_ = plot_tree(tree1, feature_names = list(X.columns))\n",
    "#\n",
    "#\n",
    "#\n",
    "for stu,sol in zip(tree1_withnames, tree1_withnames_):\n",
    "    assert stu.get_text() == sol.get_text()\n",
    "### END HIDDEN TESTS"
   ]
  },
  {
   "cell_type": "markdown",
   "metadata": {
    "id": "CwhCqyRloYp7",
    "nbgrader": {
     "grade": false,
     "grade_id": "cell-80196866c3d3b6ee",
     "locked": true,
     "schema_version": 3,
     "solution": false
    }
   },
   "source": [
    "[Back to top](#-Index)\n",
    "\n",
    "### Problem 3\n",
    "\n",
    "#### Coloring the Nodes\n",
    "\n",
    "**10 Points**\n",
    "\n",
    "The nodes can be colored to differentiate between the categories within.  Add the argument `filled = True` to color the nodes and `feature_names = list(X.columns)`.  Assign your tree with named and colored nodes to `tree1_colored` below.\n",
    "\n"
   ]
  },
  {
   "cell_type": "code",
   "execution_count": null,
   "metadata": {
    "executionInfo": {
     "elapsed": 196,
     "status": "aborted",
     "timestamp": 1644531974011,
     "user": {
      "displayName": "Jacob Koehler",
      "photoUrl": "https://lh3.googleusercontent.com/a/default-user=s64",
      "userId": "12300099689640094899"
     },
     "user_tz": 300
    },
    "id": "ag2988W9oYp7",
    "nbgrader": {
     "grade": false,
     "grade_id": "cell-b38ec0190fecb018",
     "locked": false,
     "schema_version": 3,
     "solution": true
    }
   },
   "outputs": [],
   "source": [
    "### GRADED\n",
    "\n",
    "\n",
    "tree1_colored = ''\n",
    "\n",
    "### BEGIN SOLUTION\n",
    "tree1_colored = plot_tree(tree1, feature_names = list(X.columns), filled=True)\n",
    "### END SOLUTION\n",
    "\n",
    "# Answer check\n",
    "tree1_colored"
   ]
  },
  {
   "cell_type": "code",
   "execution_count": null,
   "metadata": {
    "executionInfo": {
     "elapsed": 197,
     "status": "aborted",
     "timestamp": 1644531974011,
     "user": {
      "displayName": "Jacob Koehler",
      "photoUrl": "https://lh3.googleusercontent.com/a/default-user=s64",
      "userId": "12300099689640094899"
     },
     "user_tz": 300
    },
    "id": "xT5oJnh_oYp8",
    "nbgrader": {
     "grade": true,
     "grade_id": "cell-6589f72a29260c3f",
     "locked": true,
     "points": 10,
     "schema_version": 3,
     "solution": false
    }
   },
   "outputs": [],
   "source": [
    "### BEGIN HIDDEN TESTS\n",
    "tree1_colored_ = plot_tree(tree1, feature_names=X.columns, filled=True)\n",
    "#\n",
    "#\n",
    "#\n",
    "for stu,sol in zip(tree1_colored, tree1_colored_):\n",
    "    assert stu.get_text() == sol.get_text()\n",
    "### END HIDDEN TESTS"
   ]
  },
  {
   "cell_type": "markdown",
   "metadata": {
    "id": "Ur_CEx7RoYp8",
    "nbgrader": {
     "grade": false,
     "grade_id": "cell-f8286f0f1f2f6c30",
     "locked": true,
     "schema_version": 3,
     "solution": false
    }
   },
   "source": [
    "[Back to top](#-Index)\n",
    "\n",
    "### Problem 4\n",
    "\n",
    "#### A Deeper Tree\n",
    "\n",
    "**10 Points**\n",
    "\n",
    "Now, build a `DecisionTreeClassifier` with `max_depth = 5` setting as `tree2`.  Visualize the tree below with the feature names and nodes colored. Assign the results to `deep_tree` below.  "
   ]
  },
  {
   "cell_type": "code",
   "execution_count": null,
   "metadata": {
    "executionInfo": {
     "elapsed": 7,
     "status": "aborted",
     "timestamp": 1644531974013,
     "user": {
      "displayName": "Jacob Koehler",
      "photoUrl": "https://lh3.googleusercontent.com/a/default-user=s64",
      "userId": "12300099689640094899"
     },
     "user_tz": 300
    },
    "id": "F42N3YPgoYp9",
    "nbgrader": {
     "grade": false,
     "grade_id": "cell-56604c3e3cd60738",
     "locked": false,
     "schema_version": 3,
     "solution": true
    }
   },
   "outputs": [],
   "source": [
    "### GRADED\n",
    "tree2 = ''\n",
    "deep_tree = ''\n",
    "\n",
    "### BEGIN SOLUTION\n",
    "tree2 = DecisionTreeClassifier(max_depth = 5).fit(X, y)\n",
    "deep_tree = plot_tree(tree2, feature_names=list(X.columns), filled = True)\n",
    "### END SOLUTION\n",
    "\n",
    "### ANSWER CHECK\n",
    "deep_tree;"
   ]
  },
  {
   "cell_type": "code",
   "execution_count": null,
   "metadata": {
    "executionInfo": {
     "elapsed": 6,
     "status": "aborted",
     "timestamp": 1644531974013,
     "user": {
      "displayName": "Jacob Koehler",
      "photoUrl": "https://lh3.googleusercontent.com/a/default-user=s64",
      "userId": "12300099689640094899"
     },
     "user_tz": 300
    },
    "id": "lTWVCyKGoYp9",
    "nbgrader": {
     "grade": true,
     "grade_id": "cell-6b871a8f12d39294",
     "locked": true,
     "points": 10,
     "schema_version": 3,
     "solution": false
    }
   },
   "outputs": [],
   "source": [
    "### BEGIN HIDDEN TESTS\n",
    "tree2_ = DecisionTreeClassifier(max_depth = 5).fit(X, y)\n",
    "deep_tree_ = plot_tree(tree2_, feature_names=list(X.columns), filled = True)\n",
    "#\n",
    "#\n",
    "#\n",
    "for stu,sol in zip(deep_tree, deep_tree_):\n",
    "    assert stu.get_text() == sol.get_text()\n",
    "    break\n",
    "### END HIDDEN TESTS"
   ]
  },
  {
   "cell_type": "markdown",
   "metadata": {
    "id": "hTF2eswjoYp-",
    "nbgrader": {
     "grade": false,
     "grade_id": "cell-b1117055fb7c3ed2",
     "locked": true,
     "schema_version": 3,
     "solution": false
    }
   },
   "source": [
    "#### A more readable output\n",
    "\n",
    "As you can see, by default even a depth 5 tree is difficult to read.  To change this, you can plot the tree to a `matplotlib.axes` object with different figuresize.  Below, the same tree is plotted with a larger figure size as an example.  Despite changing this however, you should note that a simpler tree is much easier to visualize and interpret the rules."
   ]
  },
  {
   "cell_type": "code",
   "execution_count": null,
   "metadata": {
    "executionInfo": {
     "elapsed": 7,
     "status": "aborted",
     "timestamp": 1644531974014,
     "user": {
      "displayName": "Jacob Koehler",
      "photoUrl": "https://lh3.googleusercontent.com/a/default-user=s64",
      "userId": "12300099689640094899"
     },
     "user_tz": 300
    },
    "id": "oKHsQjVdoYp-"
   },
   "outputs": [],
   "source": [
    "fig, ax = plt.subplots(figsize = (20, 20))\n",
    "plot_tree(tree2, feature_names=list(X.columns), filled=True, ax = ax, fontsize=8);"
   ]
  }
 ],
 "metadata": {
  "celltoolbar": "Create Assignment",
  "colab": {
   "collapsed_sections": [],
   "name": "coding_assignment_14.2.ipynb",
   "provenance": []
  },
  "kernelspec": {
   "display_name": "Python 3 (ipykernel)",
   "language": "python",
   "name": "python3"
  },
  "language_info": {
   "codemirror_mode": {
    "name": "ipython",
    "version": 3
   },
   "file_extension": ".py",
   "mimetype": "text/x-python",
   "name": "python",
   "nbconvert_exporter": "python",
   "pygments_lexer": "ipython3",
   "version": "3.9.11"
  }
 },
 "nbformat": 4,
 "nbformat_minor": 1
}
