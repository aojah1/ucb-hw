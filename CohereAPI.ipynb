{
 "cells": [
  {
   "cell_type": "markdown",
   "id": "5d02f3f7-657b-4a95-9fc5-a894b7aa9a3f",
   "metadata": {},
   "source": [
    "### OCI Data Science - Useful Tips\n",
    "<details>\n",
    "<summary><font size=\"2\">Check for Public Internet Access</font></summary>\n",
    "\n",
    "```python\n",
    "import requests\n",
    "response = requests.get(\"https://oracle.com\")\n",
    "assert response.status_code==200, \"Internet connection failed\"\n",
    "```\n",
    "</details>\n",
    "<details>\n",
    "<summary><font size=\"2\">Helpful Documentation </font></summary>\n",
    "<ul><li><a href=\"https://docs.cloud.oracle.com/en-us/iaas/data-science/using/data-science.htm\">Data Science Service Documentation</a></li>\n",
    "<li><a href=\"https://docs.cloud.oracle.com/iaas/tools/ads-sdk/latest/index.html\">ADS documentation</a></li>\n",
    "</ul>\n",
    "</details>\n",
    "<details>\n",
    "<summary><font size=\"2\">Typical Cell Imports and Settings for ADS</font></summary>\n",
    "\n",
    "```python\n",
    "%load_ext autoreload\n",
    "%autoreload 2\n",
    "%matplotlib inline\n",
    "\n",
    "import warnings\n",
    "warnings.filterwarnings('ignore')\n",
    "\n",
    "import logging\n",
    "logging.basicConfig(format='%(levelname)s:%(message)s', level=logging.ERROR)\n",
    "\n",
    "import ads\n",
    "from ads.dataset.factory import DatasetFactory\n",
    "from ads.automl.provider import OracleAutoMLProvider\n",
    "from ads.automl.driver import AutoML\n",
    "from ads.evaluations.evaluator import ADSEvaluator\n",
    "from ads.common.data import ADSData\n",
    "from ads.explanations.explainer import ADSExplainer\n",
    "from ads.explanations.mlx_global_explainer import MLXGlobalExplainer\n",
    "from ads.explanations.mlx_local_explainer import MLXLocalExplainer\n",
    "from ads.catalog.model import ModelCatalog\n",
    "from ads.common.model_artifact import ModelArtifact\n",
    "```\n",
    "</details>\n",
    "<details>\n",
    "<summary><font size=\"2\">Useful Environment Variables</font></summary>\n",
    "\n",
    "```python\n",
    "import os\n",
    "print(os.environ[\"NB_SESSION_COMPARTMENT_OCID\"])\n",
    "print(os.environ[\"PROJECT_OCID\"])\n",
    "print(os.environ[\"USER_OCID\"])\n",
    "print(os.environ[\"TENANCY_OCID\"])\n",
    "print(os.environ[\"NB_REGION\"])\n",
    "```\n",
    "</details>"
   ]
  },
  {
   "cell_type": "code",
   "execution_count": 1,
   "id": "0921733a-855b-45c8-9c9c-ef73af0b6954",
   "metadata": {
    "tags": []
   },
   "outputs": [],
   "source": [
    "# Cohere API Key : KsuMMW6erNQF5qetCQvEe8ilH9RhH0wPRlq5tqKS"
   ]
  },
  {
   "cell_type": "code",
   "execution_count": 3,
   "id": "0cf179a4-6e8c-4c69-a443-afc3d8d4a722",
   "metadata": {
    "tags": []
   },
   "outputs": [],
   "source": [
    "import os\n",
    "NVIDIA_API_KEY = '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'\n",
    "OPENAI_API_KEY = 'sk-proj-KJxdo8rCIHFI9Ex2VViHT3BlbkFJdArXniYczoft6puyKd6g'\n",
    "COHERE_API_KEY = 'KsuMMW6erNQF5qetCQvEe8ilH9RhH0wPRlq5tqKS'\n",
    "os.environ['NVIDIA_API_KEY'] = NVIDIA_API_KEY\n",
    "os.environ['OPENAI_API_KEY'] = OPENAI_API_KEY\n",
    "os.environ['COHERE_API_KEY'] = COHERE_API_KEY"
   ]
  },
  {
   "cell_type": "markdown",
   "id": "dfa6a298-ea9a-4470-bbb8-cfff725e01a7",
   "metadata": {},
   "source": [
    "# Cohere Agents with LangChain"
   ]
  },
  {
   "cell_type": "code",
   "execution_count": 2,
   "id": "2da53398-63c8-4ca0-9082-c9e3817896c3",
   "metadata": {
    "tags": []
   },
   "outputs": [
    {
     "ename": "ModuleNotFoundError",
     "evalue": "No module named 'langchain_cohere'",
     "output_type": "error",
     "traceback": [
      "\u001b[0;31m---------------------------------------------------------------------------\u001b[0m",
      "\u001b[0;31mModuleNotFoundError\u001b[0m                       Traceback (most recent call last)",
      "Cell \u001b[0;32mIn[2], line 2\u001b[0m\n\u001b[1;32m      1\u001b[0m \u001b[38;5;28;01mfrom\u001b[39;00m \u001b[38;5;21;01mlangchain\u001b[39;00m\u001b[38;5;21;01m.\u001b[39;00m\u001b[38;5;21;01magents\u001b[39;00m \u001b[38;5;28;01mimport\u001b[39;00m AgentExecutor\n\u001b[0;32m----> 2\u001b[0m \u001b[38;5;28;01mfrom\u001b[39;00m \u001b[38;5;21;01mlangchain_cohere\u001b[39;00m\u001b[38;5;21;01m.\u001b[39;00m\u001b[38;5;21;01mchat_models\u001b[39;00m \u001b[38;5;28;01mimport\u001b[39;00m ChatCohere\n\u001b[1;32m      3\u001b[0m \u001b[38;5;28;01mfrom\u001b[39;00m \u001b[38;5;21;01mlangchain_cohere\u001b[39;00m\u001b[38;5;21;01m.\u001b[39;00m\u001b[38;5;21;01mreact_multi_hop\u001b[39;00m\u001b[38;5;21;01m.\u001b[39;00m\u001b[38;5;21;01magent\u001b[39;00m \u001b[38;5;28;01mimport\u001b[39;00m create_cohere_react_agent\n\u001b[1;32m      4\u001b[0m \u001b[38;5;28;01mfrom\u001b[39;00m \u001b[38;5;21;01mlangchain_community\u001b[39;00m\u001b[38;5;21;01m.\u001b[39;00m\u001b[38;5;21;01mtools\u001b[39;00m\u001b[38;5;21;01m.\u001b[39;00m\u001b[38;5;21;01mtavily_search\u001b[39;00m \u001b[38;5;28;01mimport\u001b[39;00m TavilySearchResults\n",
      "\u001b[0;31mModuleNotFoundError\u001b[0m: No module named 'langchain_cohere'"
     ]
    }
   ],
   "source": [
    "from langchain.agents import AgentExecutor\n",
    "from langchain_cohere.chat_models import ChatCohere\n",
    "from langchain_cohere.react_multi_hop.agent import create_cohere_react_agent\n",
    "from langchain_community.tools.tavily_search import TavilySearchResults\n",
    "from langchain_core.prompts import ChatPromptTemplate"
   ]
  },
  {
   "cell_type": "code",
   "execution_count": 6,
   "id": "da702e49-4398-4c33-a93b-5afe813a8536",
   "metadata": {
    "tags": []
   },
   "outputs": [
    {
     "name": "stdout",
     "output_type": "stream",
     "text": [
      "text=\"In the quiet stillness of the night,\\nThe moon shines bright, a celestial light.\\nThe stars, they twinkle, a heavenly sight,\\nA reminder of dreams and endless might. \\n\\nThe gentle breeze, a soft caress,\\nBrings with it the scent of dewy grass.\\nThe trees, they whisper, nature's song,\\nA soothing melody, never wrong. \\n\\nIn the distance, an owl's serene hoot,\\nBreaking the silence, a gentle salute.\\nThe night, it unfolds, a mysterious guest,\\nOffering peace and a chance to rest. \\n\\nUnder the moon's enchanting glow,\\nWe find solace in the darkness' flow.\\nFor in the quiet, our hearts find home,\\nA place of comfort, where worries roam. \\n\\nSo let us embrace the night's serene,\\nA time for reflection, a time to dream.\\nIn the stillness, our souls find peace,\\nA tranquil haven, where worries cease.\" generation_id='7d3f2ea1-9697-4a8a-b478-ae86a4d21556' citations=None documents=[] is_search_required=None search_queries=None search_results=None finish_reason='COMPLETE' tool_calls=None chat_history=[Message_User(message='write me a poem', tool_calls=None, role='USER'), Message_Chatbot(message=\"In the quiet stillness of the night,\\nThe moon shines bright, a celestial light.\\nThe stars, they twinkle, a heavenly sight,\\nA reminder of dreams and endless might. \\n\\nThe gentle breeze, a soft caress,\\nBrings with it the scent of dewy grass.\\nThe trees, they whisper, nature's song,\\nA soothing melody, never wrong. \\n\\nIn the distance, an owl's serene hoot,\\nBreaking the silence, a gentle salute.\\nThe night, it unfolds, a mysterious guest,\\nOffering peace and a chance to rest. \\n\\nUnder the moon's enchanting glow,\\nWe find solace in the darkness' flow.\\nFor in the quiet, our hearts find home,\\nA place of comfort, where worries roam. \\n\\nSo let us embrace the night's serene,\\nA time for reflection, a time to dream.\\nIn the stillness, our souls find peace,\\nA tranquil haven, where worries cease.\", tool_calls=None, role='CHATBOT')] prompt=None meta=ApiMeta(api_version=ApiMetaApiVersion(version='1', is_deprecated=None, is_experimental=None), billed_units=ApiMetaBilledUnits(input_tokens=4, output_tokens=206, search_units=None, classifications=None), tokens=ApiMetaTokens(input_tokens=70, output_tokens=206), warnings=None) response_id='c835c903-144b-4a7c-ad6f-dc426a256718'\n"
     ]
    }
   ],
   "source": [
    "import cohere \n",
    "import os\n",
    "co = cohere.Client('KsuMMW6erNQF5qetCQvEe8ilH9RhH0wPRlq5tqKS') # This is your trial API key\n",
    "response = co.chat( \n",
    "  message='write me a poem',\n",
    "  prompt_truncation='auto',\n",
    "  connectors=[{\"id\": \"web-search\"}]\n",
    ") \n",
    "print(response)"
   ]
  },
  {
   "cell_type": "code",
   "execution_count": null,
   "id": "413bff33-47a9-443c-bb07-f28f7b7c6d26",
   "metadata": {},
   "outputs": [],
   "source": []
  }
 ],
 "metadata": {
  "kernelspec": {
   "display_name": "Python [conda env:root] *",
   "language": "python",
   "name": "conda-root-py"
  },
  "language_info": {
   "codemirror_mode": {
    "name": "ipython",
    "version": 3
   },
   "file_extension": ".py",
   "mimetype": "text/x-python",
   "name": "python",
   "nbconvert_exporter": "python",
   "pygments_lexer": "ipython3",
   "version": "3.8.19"
  }
 },
 "nbformat": 4,
 "nbformat_minor": 5
}
