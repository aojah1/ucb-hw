{
 "cells": [
  {
   "cell_type": "markdown",
   "metadata": {
    "nbgrader": {
     "grade": false,
     "grade_id": "cell-df3789e08c2c11f0",
     "locked": true,
     "schema_version": 3,
     "solution": false
    }
   },
   "source": [
    "### Codio Activity 9.4: Comparing the Ridge to Ordinarily Least Squares (OLS)\n",
    "\n",
    "**Expected Time: 30 Minutes**\n",
    "\n",
    "**Total Points: 30**\n",
    "\n",
    "This activity focuses on comparing the models resulting from a `LinearRegression` model compared to a low penalty and high penalty `Ridge` model.  A synthetic polynomial dataset is used to compare the resulting models shapes.  You are to pay attention to the resulting complexity and size of the coefficients as the amount of regularization changes. "
   ]
  },
  {
   "cell_type": "markdown",
   "metadata": {
    "nbgrader": {
     "grade": false,
     "grade_id": "cell-037b3b689cf300f2",
     "locked": true,
     "schema_version": 3,
     "solution": false
    }
   },
   "source": [
    "#### Index\n",
    "\n",
    "- [Problem 1](#Problem-1)\n",
    "- [Problem 2](#Problem-2)\n",
    "- [Problem 3](#Problem-3)"
   ]
  },
  {
   "cell_type": "code",
   "execution_count": 1,
   "metadata": {
    "nbgrader": {
     "grade": false,
     "grade_id": "cell-7ef7387ae6992bba",
     "locked": true,
     "schema_version": 3,
     "solution": false
    },
    "tags": []
   },
   "outputs": [],
   "source": [
    "from sklearn.preprocessing import PolynomialFeatures\n",
    "from sklearn.model_selection import train_test_split\n",
    "from sklearn.linear_model import Ridge, LinearRegression\n",
    "from sklearn.metrics import mean_squared_error\n",
    "from sklearn.pipeline import Pipeline\n",
    "from sklearn import set_config\n",
    "set_config(display=\"diagram\")\n",
    "\n",
    "import matplotlib.pyplot as plt\n",
    "import pandas as pd\n",
    "import numpy as np"
   ]
  },
  {
   "cell_type": "code",
   "execution_count": 2,
   "metadata": {
    "nbgrader": {
     "grade": false,
     "grade_id": "cell-0b9fffe5c7471665",
     "locked": true,
     "schema_version": 3,
     "solution": false
    },
    "tags": []
   },
   "outputs": [],
   "source": [
    "data = pd.read_csv('data/synthetic_9.4.csv')"
   ]
  },
  {
   "cell_type": "code",
   "execution_count": 3,
   "metadata": {
    "nbgrader": {
     "grade": false,
     "grade_id": "cell-87abae19c15360bf",
     "locked": true,
     "schema_version": 3,
     "solution": false
    },
    "tags": []
   },
   "outputs": [],
   "source": [
    "X, y = data[['x']], data['y']"
   ]
  },
  {
   "cell_type": "code",
   "execution_count": 4,
   "metadata": {
    "nbgrader": {
     "grade": false,
     "grade_id": "cell-cf4c256adb042655",
     "locked": true,
     "schema_version": 3,
     "solution": false
    },
    "tags": []
   },
   "outputs": [
    {
     "data": {
      "image/png": "[encoded data removed]",
      "text/plain": [
       "<Figure size 640x480 with 1 Axes>"
      ]
     },
     "metadata": {},
     "output_type": "display_data"
    }
   ],
   "source": [
    "plt.scatter(X, y)\n",
    "plt.title('Synthetic Polynomial Data')\n",
    "plt.grid();"
   ]
  },
  {
   "cell_type": "markdown",
   "metadata": {
    "nbgrader": {
     "grade": false,
     "grade_id": "cell-fb885de724d2d5ca",
     "locked": true,
     "schema_version": 3,
     "solution": false
    }
   },
   "source": [
    "### Problem 1\n",
    "\n",
    "#### Polynomial Features and Linear Regression Pipeline\n",
    "\n",
    "**10 Points**\n",
    "\n",
    "To begin, you are to construct a `Pipeline` object with the following steps:\n",
    "\n",
    "- A  `poly_features` generated using `PolynomialFeatures()`with `degree = 5` polynomial features and `include_bias = False`.\n",
    "- A `linreg` step generated using `LinearRegression()` with default values.\n",
    "\n",
    "Assign this pipeline to `ols_pipe`.\n",
    "\n",
    "Next, use the `fit` function to train your model on `X` and `y`.\n",
    "\n",
    "Finally, use the `predict` function to calculate your predicitons of `X`, Assign your result to `ols_preds` below."
   ]
  },
  {
   "cell_type": "code",
   "execution_count": 5,
   "metadata": {
    "nbgrader": {
     "grade": false,
     "grade_id": "cell-c89d95891ebff354",
     "locked": false,
     "schema_version": 3,
     "solution": true
    },
    "tags": []
   },
   "outputs": [
    {
     "data": {
      "text/html": [
       "<style>#sk-container-id-1 {color: black;}#sk-container-id-1 pre{padding: 0;}#sk-container-id-1 div.sk-toggleable {background-color: white;}#sk-container-id-1 label.sk-toggleable__label {cursor: pointer;display: block;width: 100%;margin-bottom: 0;padding: 0.3em;box-sizing: border-box;text-align: center;}#sk-container-id-1 label.sk-toggleable__label-arrow:before {content: \"▸\";float: left;margin-right: 0.25em;color: #696969;}#sk-container-id-1 label.sk-toggleable__label-arrow:hover:before {color: black;}#sk-container-id-1 div.sk-estimator:hover label.sk-toggleable__label-arrow:before {color: black;}#sk-container-id-1 div.sk-toggleable__content {max-height: 0;max-width: 0;overflow: hidden;text-align: left;background-color: #f0f8ff;}#sk-container-id-1 div.sk-toggleable__content pre {margin: 0.2em;color: black;border-radius: 0.25em;background-color: #f0f8ff;}#sk-container-id-1 input.sk-toggleable__control:checked~div.sk-toggleable__content {max-height: 200px;max-width: 100%;overflow: auto;}#sk-container-id-1 input.sk-toggleable__control:checked~label.sk-toggleable__label-arrow:before {content: \"▾\";}#sk-container-id-1 div.sk-estimator input.sk-toggleable__control:checked~label.sk-toggleable__label {background-color: #d4ebff;}#sk-container-id-1 div.sk-label input.sk-toggleable__control:checked~label.sk-toggleable__label {background-color: #d4ebff;}#sk-container-id-1 input.sk-hidden--visually {border: 0;clip: rect(1px 1px 1px 1px);clip: rect(1px, 1px, 1px, 1px);height: 1px;margin: -1px;overflow: hidden;padding: 0;position: absolute;width: 1px;}#sk-container-id-1 div.sk-estimator {font-family: monospace;background-color: #f0f8ff;border: 1px dotted black;border-radius: 0.25em;box-sizing: border-box;margin-bottom: 0.5em;}#sk-container-id-1 div.sk-estimator:hover {background-color: #d4ebff;}#sk-container-id-1 div.sk-parallel-item::after {content: \"\";width: 100%;border-bottom: 1px solid gray;flex-grow: 1;}#sk-container-id-1 div.sk-label:hover label.sk-toggleable__label {background-color: #d4ebff;}#sk-container-id-1 div.sk-serial::before {content: \"\";position: absolute;border-left: 1px solid gray;box-sizing: border-box;top: 0;bottom: 0;left: 50%;z-index: 0;}#sk-container-id-1 div.sk-serial {display: flex;flex-direction: column;align-items: center;background-color: white;padding-right: 0.2em;padding-left: 0.2em;position: relative;}#sk-container-id-1 div.sk-item {position: relative;z-index: 1;}#sk-container-id-1 div.sk-parallel {display: flex;align-items: stretch;justify-content: center;background-color: white;position: relative;}#sk-container-id-1 div.sk-item::before, #sk-container-id-1 div.sk-parallel-item::before {content: \"\";position: absolute;border-left: 1px solid gray;box-sizing: border-box;top: 0;bottom: 0;left: 50%;z-index: -1;}#sk-container-id-1 div.sk-parallel-item {display: flex;flex-direction: column;z-index: 1;position: relative;background-color: white;}#sk-container-id-1 div.sk-parallel-item:first-child::after {align-self: flex-end;width: 50%;}#sk-container-id-1 div.sk-parallel-item:last-child::after {align-self: flex-start;width: 50%;}#sk-container-id-1 div.sk-parallel-item:only-child::after {width: 0;}#sk-container-id-1 div.sk-dashed-wrapped {border: 1px dashed gray;margin: 0 0.4em 0.5em 0.4em;box-sizing: border-box;padding-bottom: 0.4em;background-color: white;}#sk-container-id-1 div.sk-label label {font-family: monospace;font-weight: bold;display: inline-block;line-height: 1.2em;}#sk-container-id-1 div.sk-label-container {text-align: center;}#sk-container-id-1 div.sk-container {/* jupyter's `normalize.less` sets `[hidden] { display: none; }` but bootstrap.min.css set `[hidden] { display: none !important; }` so we also need the `!important` here to be able to override the default hidden behavior on the sphinx rendered scikit-learn.org. See: https://github.com/scikit-learn/scikit-learn/issues/21755 */display: inline-block !important;position: relative;}#sk-container-id-1 div.sk-text-repr-fallback {display: none;}</style><div id=\"sk-container-id-1\" class=\"sk-top-container\"><div class=\"sk-text-repr-fallback\"><pre>Pipeline(steps=[(&#x27;poly_features&#x27;,\n",
       "                 PolynomialFeatures(degree=5, include_bias=False)),\n",
       "                (&#x27;linreg&#x27;, LinearRegression())])</pre><b>In a Jupyter environment, please rerun this cell to show the HTML representation or trust the notebook. <br />On GitHub, the HTML representation is unable to render, please try loading this page with nbviewer.org.</b></div><div class=\"sk-container\" hidden><div class=\"sk-item sk-dashed-wrapped\"><div class=\"sk-label-container\"><div class=\"sk-label sk-toggleable\"><input class=\"sk-toggleable__control sk-hidden--visually\" id=\"sk-estimator-id-1\" type=\"checkbox\" ><label for=\"sk-estimator-id-1\" class=\"sk-toggleable__label sk-toggleable__label-arrow\">Pipeline</label><div class=\"sk-toggleable__content\"><pre>Pipeline(steps=[(&#x27;poly_features&#x27;,\n",
       "                 PolynomialFeatures(degree=5, include_bias=False)),\n",
       "                (&#x27;linreg&#x27;, LinearRegression())])</pre></div></div></div><div class=\"sk-serial\"><div class=\"sk-item\"><div class=\"sk-estimator sk-toggleable\"><input class=\"sk-toggleable__control sk-hidden--visually\" id=\"sk-estimator-id-2\" type=\"checkbox\" ><label for=\"sk-estimator-id-2\" class=\"sk-toggleable__label sk-toggleable__label-arrow\">PolynomialFeatures</label><div class=\"sk-toggleable__content\"><pre>PolynomialFeatures(degree=5, include_bias=False)</pre></div></div></div><div class=\"sk-item\"><div class=\"sk-estimator sk-toggleable\"><input class=\"sk-toggleable__control sk-hidden--visually\" id=\"sk-estimator-id-3\" type=\"checkbox\" ><label for=\"sk-estimator-id-3\" class=\"sk-toggleable__label sk-toggleable__label-arrow\">LinearRegression</label><div class=\"sk-toggleable__content\"><pre>LinearRegression()</pre></div></div></div></div></div></div></div>"
      ],
      "text/plain": [
       "Pipeline(steps=[('poly_features',\n",
       "                 PolynomialFeatures(degree=5, include_bias=False)),\n",
       "                ('linreg', LinearRegression())])"
      ]
     },
     "execution_count": 5,
     "metadata": {},
     "output_type": "execute_result"
    }
   ],
   "source": [
    "### GRADED\n",
    "\n",
    "ols_pipe = ''\n",
    "ols_preds = ''\n",
    "\n",
    "### BEGIN SOLUTION\n",
    "ols_pipe = Pipeline([('poly_features', PolynomialFeatures(degree = 5, include_bias= False)), \n",
    "                     ('linreg', LinearRegression())])\n",
    "ols_pipe.fit(X, y)\n",
    "ols_preds = ols_pipe.predict(X)\n",
    "### END SOLUTION\n",
    "\n",
    "# Answer check\n",
    "ols_pipe"
   ]
  },
  {
   "cell_type": "code",
   "execution_count": 6,
   "metadata": {
    "tags": []
   },
   "outputs": [],
   "source": [
    "# Uncomment to visualize solutions\n",
    "# Xnp = X.to_numpy()\n",
    "# plt.scatter(Xnp, y, label = 'data')\n",
    "# plt.plot(Xnp, ols_preds, 'r--', label = 'ols predictions')\n",
    "# plt.legend()\n",
    "# plt.grid();"
   ]
  },
  {
   "cell_type": "code",
   "execution_count": 7,
   "metadata": {
    "nbgrader": {
     "grade": true,
     "grade_id": "cell-817beaf13e367ccc",
     "locked": true,
     "points": 10,
     "schema_version": 3,
     "solution": false
    },
    "tags": []
   },
   "outputs": [],
   "source": [
    "### BEGIN HIDDEN TESTS\n",
    "ols_pipe_ = Pipeline([('poly_features', PolynomialFeatures(degree = 5, include_bias= False)), \n",
    "                     ('linreg', LinearRegression())])\n",
    "ols_pipe_.fit(X, y)\n",
    "ols_preds_ = ols_pipe.predict(X)\n",
    "#\n",
    "#\n",
    "#\n",
    "np.testing.assert_array_equal(ols_preds, ols_preds_)\n",
    "assert ols_pipe.named_steps['poly_features'].degree == ols_pipe_.named_steps['poly_features'].degree, 'Make sure you have degree = 5.'\n",
    "### END HIDDEN TESTS"
   ]
  },
  {
   "cell_type": "markdown",
   "metadata": {
    "nbgrader": {
     "grade": false,
     "grade_id": "cell-3777ac6f5b99d6ec",
     "locked": true,
     "schema_version": 3,
     "solution": false
    }
   },
   "source": [
    "### Problem 2\n",
    "\n",
    "#### Ridge model with small regularization penalty\n",
    "\n",
    "**10 Points**\n",
    "\n",
    "To begin, you are to construct a `Pipeline` object with the following steps:\n",
    "\n",
    "- A  `poly_features` generated using `PolynomialFeatures()`with `degree = 5` polynomial features and `include_bias = False`.\n",
    "- A `ridge_low` step generated using `Ridge()` with `alpha = 0.1`.\n",
    "\n",
    "Assign this pipeline to `ridge_low_pipe`.\n",
    "\n",
    "Next, use the `fit` function to train your model on `X` and `y`.\n",
    "\n",
    "Finally, use the `predict` function to calculate your predicitons of `X`, Assign your result to `ridge_low_preds` below. "
   ]
  },
  {
   "cell_type": "code",
   "execution_count": 8,
   "metadata": {
    "nbgrader": {
     "grade": false,
     "grade_id": "cell-6f4bd93473f8b792",
     "locked": false,
     "schema_version": 3,
     "solution": true
    },
    "tags": []
   },
   "outputs": [
    {
     "data": {
      "text/html": [
       "<style>#sk-container-id-2 {color: black;}#sk-container-id-2 pre{padding: 0;}#sk-container-id-2 div.sk-toggleable {background-color: white;}#sk-container-id-2 label.sk-toggleable__label {cursor: pointer;display: block;width: 100%;margin-bottom: 0;padding: 0.3em;box-sizing: border-box;text-align: center;}#sk-container-id-2 label.sk-toggleable__label-arrow:before {content: \"▸\";float: left;margin-right: 0.25em;color: #696969;}#sk-container-id-2 label.sk-toggleable__label-arrow:hover:before {color: black;}#sk-container-id-2 div.sk-estimator:hover label.sk-toggleable__label-arrow:before {color: black;}#sk-container-id-2 div.sk-toggleable__content {max-height: 0;max-width: 0;overflow: hidden;text-align: left;background-color: #f0f8ff;}#sk-container-id-2 div.sk-toggleable__content pre {margin: 0.2em;color: black;border-radius: 0.25em;background-color: #f0f8ff;}#sk-container-id-2 input.sk-toggleable__control:checked~div.sk-toggleable__content {max-height: 200px;max-width: 100%;overflow: auto;}#sk-container-id-2 input.sk-toggleable__control:checked~label.sk-toggleable__label-arrow:before {content: \"▾\";}#sk-container-id-2 div.sk-estimator input.sk-toggleable__control:checked~label.sk-toggleable__label {background-color: #d4ebff;}#sk-container-id-2 div.sk-label input.sk-toggleable__control:checked~label.sk-toggleable__label {background-color: #d4ebff;}#sk-container-id-2 input.sk-hidden--visually {border: 0;clip: rect(1px 1px 1px 1px);clip: rect(1px, 1px, 1px, 1px);height: 1px;margin: -1px;overflow: hidden;padding: 0;position: absolute;width: 1px;}#sk-container-id-2 div.sk-estimator {font-family: monospace;background-color: #f0f8ff;border: 1px dotted black;border-radius: 0.25em;box-sizing: border-box;margin-bottom: 0.5em;}#sk-container-id-2 div.sk-estimator:hover {background-color: #d4ebff;}#sk-container-id-2 div.sk-parallel-item::after {content: \"\";width: 100%;border-bottom: 1px solid gray;flex-grow: 1;}#sk-container-id-2 div.sk-label:hover label.sk-toggleable__label {background-color: #d4ebff;}#sk-container-id-2 div.sk-serial::before {content: \"\";position: absolute;border-left: 1px solid gray;box-sizing: border-box;top: 0;bottom: 0;left: 50%;z-index: 0;}#sk-container-id-2 div.sk-serial {display: flex;flex-direction: column;align-items: center;background-color: white;padding-right: 0.2em;padding-left: 0.2em;position: relative;}#sk-container-id-2 div.sk-item {position: relative;z-index: 1;}#sk-container-id-2 div.sk-parallel {display: flex;align-items: stretch;justify-content: center;background-color: white;position: relative;}#sk-container-id-2 div.sk-item::before, #sk-container-id-2 div.sk-parallel-item::before {content: \"\";position: absolute;border-left: 1px solid gray;box-sizing: border-box;top: 0;bottom: 0;left: 50%;z-index: -1;}#sk-container-id-2 div.sk-parallel-item {display: flex;flex-direction: column;z-index: 1;position: relative;background-color: white;}#sk-container-id-2 div.sk-parallel-item:first-child::after {align-self: flex-end;width: 50%;}#sk-container-id-2 div.sk-parallel-item:last-child::after {align-self: flex-start;width: 50%;}#sk-container-id-2 div.sk-parallel-item:only-child::after {width: 0;}#sk-container-id-2 div.sk-dashed-wrapped {border: 1px dashed gray;margin: 0 0.4em 0.5em 0.4em;box-sizing: border-box;padding-bottom: 0.4em;background-color: white;}#sk-container-id-2 div.sk-label label {font-family: monospace;font-weight: bold;display: inline-block;line-height: 1.2em;}#sk-container-id-2 div.sk-label-container {text-align: center;}#sk-container-id-2 div.sk-container {/* jupyter's `normalize.less` sets `[hidden] { display: none; }` but bootstrap.min.css set `[hidden] { display: none !important; }` so we also need the `!important` here to be able to override the default hidden behavior on the sphinx rendered scikit-learn.org. See: https://github.com/scikit-learn/scikit-learn/issues/21755 */display: inline-block !important;position: relative;}#sk-container-id-2 div.sk-text-repr-fallback {display: none;}</style><div id=\"sk-container-id-2\" class=\"sk-top-container\"><div class=\"sk-text-repr-fallback\"><pre>Pipeline(steps=[(&#x27;poly_features&#x27;,\n",
       "                 PolynomialFeatures(degree=5, include_bias=False)),\n",
       "                (&#x27;ridge_low&#x27;, Ridge(alpha=0.1))])</pre><b>In a Jupyter environment, please rerun this cell to show the HTML representation or trust the notebook. <br />On GitHub, the HTML representation is unable to render, please try loading this page with nbviewer.org.</b></div><div class=\"sk-container\" hidden><div class=\"sk-item sk-dashed-wrapped\"><div class=\"sk-label-container\"><div class=\"sk-label sk-toggleable\"><input class=\"sk-toggleable__control sk-hidden--visually\" id=\"sk-estimator-id-4\" type=\"checkbox\" ><label for=\"sk-estimator-id-4\" class=\"sk-toggleable__label sk-toggleable__label-arrow\">Pipeline</label><div class=\"sk-toggleable__content\"><pre>Pipeline(steps=[(&#x27;poly_features&#x27;,\n",
       "                 PolynomialFeatures(degree=5, include_bias=False)),\n",
       "                (&#x27;ridge_low&#x27;, Ridge(alpha=0.1))])</pre></div></div></div><div class=\"sk-serial\"><div class=\"sk-item\"><div class=\"sk-estimator sk-toggleable\"><input class=\"sk-toggleable__control sk-hidden--visually\" id=\"sk-estimator-id-5\" type=\"checkbox\" ><label for=\"sk-estimator-id-5\" class=\"sk-toggleable__label sk-toggleable__label-arrow\">PolynomialFeatures</label><div class=\"sk-toggleable__content\"><pre>PolynomialFeatures(degree=5, include_bias=False)</pre></div></div></div><div class=\"sk-item\"><div class=\"sk-estimator sk-toggleable\"><input class=\"sk-toggleable__control sk-hidden--visually\" id=\"sk-estimator-id-6\" type=\"checkbox\" ><label for=\"sk-estimator-id-6\" class=\"sk-toggleable__label sk-toggleable__label-arrow\">Ridge</label><div class=\"sk-toggleable__content\"><pre>Ridge(alpha=0.1)</pre></div></div></div></div></div></div></div>"
      ],
      "text/plain": [
       "Pipeline(steps=[('poly_features',\n",
       "                 PolynomialFeatures(degree=5, include_bias=False)),\n",
       "                ('ridge_low', Ridge(alpha=0.1))])"
      ]
     },
     "execution_count": 8,
     "metadata": {},
     "output_type": "execute_result"
    }
   ],
   "source": [
    "### GRADED\n",
    "\n",
    "ridge_low_pipe = ''\n",
    "ridge_low_preds = ''\n",
    "\n",
    "### BEGIN SOLUTION\n",
    "ridge_low_pipe = Pipeline([('poly_features', PolynomialFeatures(degree = 5, include_bias= False)), \n",
    "                     ('ridge_low', Ridge(alpha = 0.1))])\n",
    "ridge_low_pipe.fit(X, y)\n",
    "ridge_low_preds = ridge_low_pipe.predict(X)\n",
    "### END SOLUTION\n",
    "\n",
    "# Answer check\n",
    "ridge_low_pipe"
   ]
  },
  {
   "cell_type": "code",
   "execution_count": 54,
   "metadata": {},
   "outputs": [
    {
     "data": {
      "image/png": "[encoded data removed]",
      "text/plain": [
       "<Figure size 432x288 with 1 Axes>"
      ]
     },
     "metadata": {
      "needs_background": "light"
     },
     "output_type": "display_data"
    }
   ],
   "source": [
    "## Uncomment to visualize solutions\n",
    "# Xnp = X.to_numpy()\n",
    "# plt.scatter(Xnp, y, label = 'data')\n",
    "# plt.plot(Xnp, ridge_low_preds, '--r', label = 'ridge predictions')\n",
    "# plt.plot(Xnp, ols_preds, '--g', label = 'OLS predictions')\n",
    "# plt.legend();"
   ]
  },
  {
   "cell_type": "code",
   "execution_count": 55,
   "metadata": {
    "nbgrader": {
     "grade": true,
     "grade_id": "cell-9bd276888c091d85",
     "locked": true,
     "points": 10,
     "schema_version": 3,
     "solution": false
    }
   },
   "outputs": [],
   "source": [
    "### BEGIN HIDDEN TESTS\n",
    "ridge_low_pipe_ = Pipeline([('poly_features', PolynomialFeatures(degree = 5, include_bias= False)), \n",
    "                     ('ridge_low', Ridge(alpha = 0.1))])\n",
    "ridge_low_pipe_.fit(X, y)\n",
    "ridge_low_preds_ = ridge_low_pipe_.predict(X)\n",
    "#\n",
    "#\n",
    "#\n",
    "np.testing.assert_array_equal(ridge_low_preds, ridge_low_preds_)\n",
    "assert ridge_low_pipe.named_steps['ridge_low'].alpha == ridge_low_pipe_.named_steps['ridge_low'].alpha, 'Make sure you have alpha = 0.1.'\n",
    "### END HIDDEN TESTS"
   ]
  },
  {
   "cell_type": "markdown",
   "metadata": {
    "nbgrader": {
     "grade": false,
     "grade_id": "cell-c57bf71f9a40c343",
     "locked": true,
     "schema_version": 3,
     "solution": false
    }
   },
   "source": [
    "### Problem 3\n",
    "\n",
    "#### High Regularization Ridge \n",
    "\n",
    "**10 Points**\n",
    "\n",
    "### Problem 2\n",
    "\n",
    "#### Ridge model with small regularization penalty\n",
    "\n",
    "**10 Points**\n",
    "\n",
    "To begin, you are to construct a `Pipeline` object with the following steps:\n",
    "\n",
    "- A  `poly_features` generated using `PolynomialFeatures()`with `degree = 5` polynomial features and `include_bias = False`.\n",
    "- A `ridge_high` step generated using `Ridge()` with `alpha = 1000`.\n",
    "\n",
    "Assign this pipeline to `ridge_high_pipe`.\n",
    "\n",
    "Next, use the `fit` function to train your model on `X` and `y`.\n",
    "\n",
    "Finally, use the `predict` function to calculate your predicitons of `X`, Assign your result to `ridge_high_preds` below. "
   ]
  },
  {
   "cell_type": "code",
   "execution_count": 8,
   "metadata": {
    "nbgrader": {
     "grade": false,
     "grade_id": "cell-c46eadce84699f71",
     "locked": false,
     "schema_version": 3,
     "solution": true
    }
   },
   "outputs": [
    {
     "data": {
      "text/html": [
       "<style>#sk-1abc87ac-bc57-4fc6-bc64-5a9b297dfb0a {color: black;background-color: white;}#sk-1abc87ac-bc57-4fc6-bc64-5a9b297dfb0a pre{padding: 0;}#sk-1abc87ac-bc57-4fc6-bc64-5a9b297dfb0a div.sk-toggleable {background-color: white;}#sk-1abc87ac-bc57-4fc6-bc64-5a9b297dfb0a label.sk-toggleable__label {cursor: pointer;display: block;width: 100%;margin-bottom: 0;padding: 0.3em;box-sizing: border-box;text-align: center;}#sk-1abc87ac-bc57-4fc6-bc64-5a9b297dfb0a label.sk-toggleable__label-arrow:before {content: \"▸\";float: left;margin-right: 0.25em;color: #696969;}#sk-1abc87ac-bc57-4fc6-bc64-5a9b297dfb0a label.sk-toggleable__label-arrow:hover:before {color: black;}#sk-1abc87ac-bc57-4fc6-bc64-5a9b297dfb0a div.sk-estimator:hover label.sk-toggleable__label-arrow:before {color: black;}#sk-1abc87ac-bc57-4fc6-bc64-5a9b297dfb0a div.sk-toggleable__content {max-height: 0;max-width: 0;overflow: hidden;text-align: left;background-color: #f0f8ff;}#sk-1abc87ac-bc57-4fc6-bc64-5a9b297dfb0a div.sk-toggleable__content pre {margin: 0.2em;color: black;border-radius: 0.25em;background-color: #f0f8ff;}#sk-1abc87ac-bc57-4fc6-bc64-5a9b297dfb0a input.sk-toggleable__control:checked~div.sk-toggleable__content {max-height: 200px;max-width: 100%;overflow: auto;}#sk-1abc87ac-bc57-4fc6-bc64-5a9b297dfb0a input.sk-toggleable__control:checked~label.sk-toggleable__label-arrow:before {content: \"▾\";}#sk-1abc87ac-bc57-4fc6-bc64-5a9b297dfb0a div.sk-estimator input.sk-toggleable__control:checked~label.sk-toggleable__label {background-color: #d4ebff;}#sk-1abc87ac-bc57-4fc6-bc64-5a9b297dfb0a div.sk-label input.sk-toggleable__control:checked~label.sk-toggleable__label {background-color: #d4ebff;}#sk-1abc87ac-bc57-4fc6-bc64-5a9b297dfb0a input.sk-hidden--visually {border: 0;clip: rect(1px 1px 1px 1px);clip: rect(1px, 1px, 1px, 1px);height: 1px;margin: -1px;overflow: hidden;padding: 0;position: absolute;width: 1px;}#sk-1abc87ac-bc57-4fc6-bc64-5a9b297dfb0a div.sk-estimator {font-family: monospace;background-color: #f0f8ff;border: 1px dotted black;border-radius: 0.25em;box-sizing: border-box;margin-bottom: 0.5em;}#sk-1abc87ac-bc57-4fc6-bc64-5a9b297dfb0a div.sk-estimator:hover {background-color: #d4ebff;}#sk-1abc87ac-bc57-4fc6-bc64-5a9b297dfb0a div.sk-parallel-item::after {content: \"\";width: 100%;border-bottom: 1px solid gray;flex-grow: 1;}#sk-1abc87ac-bc57-4fc6-bc64-5a9b297dfb0a div.sk-label:hover label.sk-toggleable__label {background-color: #d4ebff;}#sk-1abc87ac-bc57-4fc6-bc64-5a9b297dfb0a div.sk-serial::before {content: \"\";position: absolute;border-left: 1px solid gray;box-sizing: border-box;top: 2em;bottom: 0;left: 50%;}#sk-1abc87ac-bc57-4fc6-bc64-5a9b297dfb0a div.sk-serial {display: flex;flex-direction: column;align-items: center;background-color: white;padding-right: 0.2em;padding-left: 0.2em;}#sk-1abc87ac-bc57-4fc6-bc64-5a9b297dfb0a div.sk-item {z-index: 1;}#sk-1abc87ac-bc57-4fc6-bc64-5a9b297dfb0a div.sk-parallel {display: flex;align-items: stretch;justify-content: center;background-color: white;}#sk-1abc87ac-bc57-4fc6-bc64-5a9b297dfb0a div.sk-parallel::before {content: \"\";position: absolute;border-left: 1px solid gray;box-sizing: border-box;top: 2em;bottom: 0;left: 50%;}#sk-1abc87ac-bc57-4fc6-bc64-5a9b297dfb0a div.sk-parallel-item {display: flex;flex-direction: column;position: relative;background-color: white;}#sk-1abc87ac-bc57-4fc6-bc64-5a9b297dfb0a div.sk-parallel-item:first-child::after {align-self: flex-end;width: 50%;}#sk-1abc87ac-bc57-4fc6-bc64-5a9b297dfb0a div.sk-parallel-item:last-child::after {align-self: flex-start;width: 50%;}#sk-1abc87ac-bc57-4fc6-bc64-5a9b297dfb0a div.sk-parallel-item:only-child::after {width: 0;}#sk-1abc87ac-bc57-4fc6-bc64-5a9b297dfb0a div.sk-dashed-wrapped {border: 1px dashed gray;margin: 0 0.4em 0.5em 0.4em;box-sizing: border-box;padding-bottom: 0.4em;background-color: white;position: relative;}#sk-1abc87ac-bc57-4fc6-bc64-5a9b297dfb0a div.sk-label label {font-family: monospace;font-weight: bold;background-color: white;display: inline-block;line-height: 1.2em;}#sk-1abc87ac-bc57-4fc6-bc64-5a9b297dfb0a div.sk-label-container {position: relative;z-index: 2;text-align: center;}#sk-1abc87ac-bc57-4fc6-bc64-5a9b297dfb0a div.sk-container {/* jupyter's `normalize.less` sets `[hidden] { display: none; }` but bootstrap.min.css set `[hidden] { display: none !important; }` so we also need the `!important` here to be able to override the default hidden behavior on the sphinx rendered scikit-learn.org. See: https://github.com/scikit-learn/scikit-learn/issues/21755 */display: inline-block !important;position: relative;}#sk-1abc87ac-bc57-4fc6-bc64-5a9b297dfb0a div.sk-text-repr-fallback {display: none;}</style><div id=\"sk-1abc87ac-bc57-4fc6-bc64-5a9b297dfb0a\" class=\"sk-top-container\"><div class=\"sk-text-repr-fallback\"><pre>Pipeline(steps=[(&#x27;poly_features&#x27;,\n",
       "                 PolynomialFeatures(degree=5, include_bias=False)),\n",
       "                (&#x27;ridge_high&#x27;, Ridge(alpha=1000))])</pre><b>Please rerun this cell to show the HTML repr or trust the notebook.</b></div><div class=\"sk-container\" hidden><div class=\"sk-item sk-dashed-wrapped\"><div class=\"sk-label-container\"><div class=\"sk-label sk-toggleable\"><input class=\"sk-toggleable__control sk-hidden--visually\" id=\"c255618d-b99e-4986-a706-f3932be3c4b8\" type=\"checkbox\" ><label for=\"c255618d-b99e-4986-a706-f3932be3c4b8\" class=\"sk-toggleable__label sk-toggleable__label-arrow\">Pipeline</label><div class=\"sk-toggleable__content\"><pre>Pipeline(steps=[(&#x27;poly_features&#x27;,\n",
       "                 PolynomialFeatures(degree=5, include_bias=False)),\n",
       "                (&#x27;ridge_high&#x27;, Ridge(alpha=1000))])</pre></div></div></div><div class=\"sk-serial\"><div class=\"sk-item\"><div class=\"sk-estimator sk-toggleable\"><input class=\"sk-toggleable__control sk-hidden--visually\" id=\"d094e1f3-f552-4386-b06e-18caaab9bfd1\" type=\"checkbox\" ><label for=\"d094e1f3-f552-4386-b06e-18caaab9bfd1\" class=\"sk-toggleable__label sk-toggleable__label-arrow\">PolynomialFeatures</label><div class=\"sk-toggleable__content\"><pre>PolynomialFeatures(degree=5, include_bias=False)</pre></div></div></div><div class=\"sk-item\"><div class=\"sk-estimator sk-toggleable\"><input class=\"sk-toggleable__control sk-hidden--visually\" id=\"ed59252c-234b-4fb9-9827-ee2ceff77967\" type=\"checkbox\" ><label for=\"ed59252c-234b-4fb9-9827-ee2ceff77967\" class=\"sk-toggleable__label sk-toggleable__label-arrow\">Ridge</label><div class=\"sk-toggleable__content\"><pre>Ridge(alpha=1000)</pre></div></div></div></div></div></div></div>"
      ],
      "text/plain": [
       "Pipeline(steps=[('poly_features',\n",
       "                 PolynomialFeatures(degree=5, include_bias=False)),\n",
       "                ('ridge_high', Ridge(alpha=1000))])"
      ]
     },
     "execution_count": 8,
     "metadata": {},
     "output_type": "execute_result"
    }
   ],
   "source": [
    "### GRADED\n",
    "\n",
    "ridge_high_pipe = ''\n",
    "ridge_high_preds = ''\n",
    "\n",
    "### BEGIN SOLUTION\n",
    "ridge_high_pipe = Pipeline([('poly_features', PolynomialFeatures(degree = 5, include_bias= False)), \n",
    "                     ('ridge_high', Ridge(alpha = 1000))])\n",
    "ridge_high_pipe.fit(X, y)\n",
    "ridge_high_preds = ridge_high_pipe.predict(X)\n",
    "### END SOLUTION\n",
    "\n",
    "# Answer check\n",
    "ridge_high_pipe"
   ]
  },
  {
   "cell_type": "code",
   "execution_count": 9,
   "metadata": {
    "nbgrader": {
     "grade": true,
     "grade_id": "cell-c3e8c7eabda1e267",
     "locked": true,
     "points": 10,
     "schema_version": 3,
     "solution": false
    }
   },
   "outputs": [],
   "source": [
    "### BEGIN HIDDEN TESTS\n",
    "ridge_high_pipe_ = Pipeline([('poly_features', PolynomialFeatures(degree = 5, include_bias= False)), \n",
    "                     ('ridge_high', Ridge(alpha = 1000))])\n",
    "ridge_high_pipe_.fit(X, y)\n",
    "ridge_high_preds_ = ridge_high_pipe_.predict(X)\n",
    "#\n",
    "#\n",
    "#\n",
    "np.testing.assert_array_equal(ridge_high_preds, ridge_high_preds_)\n",
    "assert ridge_high_pipe.named_steps['ridge_high'].alpha == ridge_high_pipe_.named_steps['ridge_high'].alpha, 'Make sure you have alpha = 0.1.'\n",
    "### END HIDDEN TESTS"
   ]
  },
  {
   "cell_type": "code",
   "execution_count": 10,
   "metadata": {},
   "outputs": [],
   "source": [
    "## Uncomment to visualize solutions\n",
    "# Xnp = X.to_numpy()\n",
    "# fig, ax = plt.subplots(1, 2, figsize = (15, 5))\n",
    "# ax[0].scatter(Xnp, y, label = 'data')\n",
    "# ax[0].plot(Xnp, ridge_low_preds, '--r', label = 'ridge low predictions')\n",
    "# ax[0].plot(Xnp, ols_preds, '--g', label = 'OLS predictions')\n",
    "# ax[0].plot(Xnp, ridge_high_preds, '--', color = 'purple', label = 'ridge high predictions')\n",
    "# ax[0].set_title('Comparing the shape of different models')\n",
    "# ax[0].legend();\n",
    "# ax[0].grid();\n",
    "# ax[1].plot(ols_pipe.named_steps['linreg'].coef_, 'o', markersize = 10, label = 'OLS Coefs')\n",
    "# ax[1].plot(ridge_low_pipe.named_steps['ridge_low'].coef_, 'v', markersize = 10, label = 'ridge low')\n",
    "# ax[1].plot(ridge_high_pipe.named_steps['ridge_high'].coef_, '^', markersize = 10, label = 'ridge high')\n",
    "# ax[1].legend();\n",
    "# ax[1].axhline(color = 'black')\n",
    "# ax[1].grid();\n",
    "# ax[1].set_title('Comparing the Coefficients');"
   ]
  },
  {
   "cell_type": "code",
   "execution_count": null,
   "metadata": {},
   "outputs": [],
   "source": []
  }
 ],
 "metadata": {
  "celltoolbar": "Create Assignment",
  "kernelspec": {
   "display_name": "Python 3 (ipykernel)",
   "language": "python",
   "name": "python3"
  },
  "language_info": {
   "codemirror_mode": {
    "name": "ipython",
    "version": 3
   },
   "file_extension": ".py",
   "mimetype": "text/x-python",
   "name": "python",
   "nbconvert_exporter": "python",
   "pygments_lexer": "ipython3",
   "version": "3.8.19"
  },
  "widgets": {
   "application/vnd.jupyter.widget-state+json": {
    "state": {},
    "version_major": 2,
    "version_minor": 0
   }
  }
 },
 "nbformat": 4,
 "nbformat_minor": 4
}
