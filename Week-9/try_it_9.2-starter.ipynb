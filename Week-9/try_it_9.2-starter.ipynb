{
 "cells": [
  {
   "cell_type": "markdown",
   "metadata": {},
   "source": [
    "### Try-it 9.2: Predicting Wages\n",
    "\n",
    "This activity is meant to summarize your work with regularized regression models.  You will use your earlier work with data preparation and pipelines together with what you've learned with grid searches to determine an optimal model.  In addition to the prior strategies, this example is an excellent opportunity to utilize the `TransformedTargetRegressor` estimator in scikitlearn."
   ]
  },
  {
   "cell_type": "markdown",
   "metadata": {},
   "source": [
    "### The Data\n",
    "\n",
    "This dataset is loaded from the openml resource library.  Originally from census data, the data contains wage and demographic information on 534 individuals. From the dataset documentation [here](https://www.openml.org/d/534)\n",
    "\n",
    "```\n",
    "The Current Population Survey (CPS) is used to supplement census information between census years. These data consist of a random sample of 534 persons from the CPS, with information on wages and other characteristics of the workers, including sex, number of years of education, years of work experience, occupational status, region of residence and union membership. \n",
    "```"
   ]
  },
  {
   "cell_type": "code",
   "execution_count": 38,
   "metadata": {
    "tags": []
   },
   "outputs": [],
   "source": [
    "from sklearn.datasets import fetch_openml"
   ]
  },
  {
   "cell_type": "code",
   "execution_count": 39,
   "metadata": {
    "tags": []
   },
   "outputs": [
    {
     "name": "stderr",
     "output_type": "stream",
     "text": [
      "/opt/conda/lib/python3.8/site-packages/sklearn/datasets/_openml.py:1022: FutureWarning: The default value of `parser` will change from `'liac-arff'` to `'auto'` in 1.4. You can set `parser='auto'` to silence this warning. Therefore, an `ImportError` will be raised from 1.4 if the dataset is dense and pandas is not installed. Note that the pandas parser may return different data types. See the Notes Section in fetch_openml's API doc for details.\n",
      "  warn(\n"
     ]
    },
    {
     "data": {
      "text/html": [
       "<div>\n",
       "<style scoped>\n",
       "    .dataframe tbody tr th:only-of-type {\n",
       "        vertical-align: middle;\n",
       "    }\n",
       "\n",
       "    .dataframe tbody tr th {\n",
       "        vertical-align: top;\n",
       "    }\n",
       "\n",
       "    .dataframe thead th {\n",
       "        text-align: right;\n",
       "    }\n",
       "</style>\n",
       "<table border=\"1\" class=\"dataframe\">\n",
       "  <thead>\n",
       "    <tr style=\"text-align: right;\">\n",
       "      <th></th>\n",
       "      <th>EDUCATION</th>\n",
       "      <th>SOUTH</th>\n",
       "      <th>SEX</th>\n",
       "      <th>EXPERIENCE</th>\n",
       "      <th>UNION</th>\n",
       "      <th>WAGE</th>\n",
       "      <th>AGE</th>\n",
       "      <th>RACE</th>\n",
       "      <th>OCCUPATION</th>\n",
       "      <th>SECTOR</th>\n",
       "      <th>MARR</th>\n",
       "    </tr>\n",
       "  </thead>\n",
       "  <tbody>\n",
       "    <tr>\n",
       "      <th>0</th>\n",
       "      <td>8</td>\n",
       "      <td>no</td>\n",
       "      <td>female</td>\n",
       "      <td>21</td>\n",
       "      <td>not_member</td>\n",
       "      <td>5.10</td>\n",
       "      <td>35</td>\n",
       "      <td>Hispanic</td>\n",
       "      <td>Other</td>\n",
       "      <td>Manufacturing</td>\n",
       "      <td>Married</td>\n",
       "    </tr>\n",
       "    <tr>\n",
       "      <th>1</th>\n",
       "      <td>9</td>\n",
       "      <td>no</td>\n",
       "      <td>female</td>\n",
       "      <td>42</td>\n",
       "      <td>not_member</td>\n",
       "      <td>4.95</td>\n",
       "      <td>57</td>\n",
       "      <td>White</td>\n",
       "      <td>Other</td>\n",
       "      <td>Manufacturing</td>\n",
       "      <td>Married</td>\n",
       "    </tr>\n",
       "    <tr>\n",
       "      <th>2</th>\n",
       "      <td>12</td>\n",
       "      <td>no</td>\n",
       "      <td>male</td>\n",
       "      <td>1</td>\n",
       "      <td>not_member</td>\n",
       "      <td>6.67</td>\n",
       "      <td>19</td>\n",
       "      <td>White</td>\n",
       "      <td>Other</td>\n",
       "      <td>Manufacturing</td>\n",
       "      <td>Unmarried</td>\n",
       "    </tr>\n",
       "    <tr>\n",
       "      <th>3</th>\n",
       "      <td>12</td>\n",
       "      <td>no</td>\n",
       "      <td>male</td>\n",
       "      <td>4</td>\n",
       "      <td>not_member</td>\n",
       "      <td>4.00</td>\n",
       "      <td>22</td>\n",
       "      <td>White</td>\n",
       "      <td>Other</td>\n",
       "      <td>Other</td>\n",
       "      <td>Unmarried</td>\n",
       "    </tr>\n",
       "    <tr>\n",
       "      <th>4</th>\n",
       "      <td>12</td>\n",
       "      <td>no</td>\n",
       "      <td>male</td>\n",
       "      <td>17</td>\n",
       "      <td>not_member</td>\n",
       "      <td>7.50</td>\n",
       "      <td>35</td>\n",
       "      <td>White</td>\n",
       "      <td>Other</td>\n",
       "      <td>Other</td>\n",
       "      <td>Married</td>\n",
       "    </tr>\n",
       "  </tbody>\n",
       "</table>\n",
       "</div>"
      ],
      "text/plain": [
       "   EDUCATION SOUTH     SEX  EXPERIENCE       UNION  WAGE  AGE      RACE  \\\n",
       "0          8    no  female          21  not_member  5.10   35  Hispanic   \n",
       "1          9    no  female          42  not_member  4.95   57     White   \n",
       "2         12    no    male           1  not_member  6.67   19     White   \n",
       "3         12    no    male           4  not_member  4.00   22     White   \n",
       "4         12    no    male          17  not_member  7.50   35     White   \n",
       "\n",
       "  OCCUPATION         SECTOR       MARR  \n",
       "0      Other  Manufacturing    Married  \n",
       "1      Other  Manufacturing    Married  \n",
       "2      Other  Manufacturing  Unmarried  \n",
       "3      Other          Other  Unmarried  \n",
       "4      Other          Other    Married  "
      ]
     },
     "execution_count": 39,
     "metadata": {},
     "output_type": "execute_result"
    }
   ],
   "source": [
    "wages = fetch_openml(data_id=534, as_frame=True)\n",
    "df = wages.frame\n",
    "\n",
    "# Display the first few rows of the dataset\n",
    "df.head()"
   ]
  },
  {
   "cell_type": "code",
   "execution_count": 40,
   "metadata": {
    "tags": []
   },
   "outputs": [
    {
     "data": {
      "text/html": [
       "<div>\n",
       "<style scoped>\n",
       "    .dataframe tbody tr th:only-of-type {\n",
       "        vertical-align: middle;\n",
       "    }\n",
       "\n",
       "    .dataframe tbody tr th {\n",
       "        vertical-align: top;\n",
       "    }\n",
       "\n",
       "    .dataframe thead th {\n",
       "        text-align: right;\n",
       "    }\n",
       "</style>\n",
       "<table border=\"1\" class=\"dataframe\">\n",
       "  <thead>\n",
       "    <tr style=\"text-align: right;\">\n",
       "      <th></th>\n",
       "      <th>EDUCATION</th>\n",
       "      <th>SOUTH</th>\n",
       "      <th>SEX</th>\n",
       "      <th>EXPERIENCE</th>\n",
       "      <th>UNION</th>\n",
       "      <th>WAGE</th>\n",
       "      <th>AGE</th>\n",
       "      <th>RACE</th>\n",
       "      <th>OCCUPATION</th>\n",
       "      <th>SECTOR</th>\n",
       "      <th>MARR</th>\n",
       "    </tr>\n",
       "  </thead>\n",
       "  <tbody>\n",
       "    <tr>\n",
       "      <th>0</th>\n",
       "      <td>8</td>\n",
       "      <td>no</td>\n",
       "      <td>female</td>\n",
       "      <td>21</td>\n",
       "      <td>not_member</td>\n",
       "      <td>5.10</td>\n",
       "      <td>35</td>\n",
       "      <td>Hispanic</td>\n",
       "      <td>Other</td>\n",
       "      <td>Manufacturing</td>\n",
       "      <td>Married</td>\n",
       "    </tr>\n",
       "    <tr>\n",
       "      <th>1</th>\n",
       "      <td>9</td>\n",
       "      <td>no</td>\n",
       "      <td>female</td>\n",
       "      <td>42</td>\n",
       "      <td>not_member</td>\n",
       "      <td>4.95</td>\n",
       "      <td>57</td>\n",
       "      <td>White</td>\n",
       "      <td>Other</td>\n",
       "      <td>Manufacturing</td>\n",
       "      <td>Married</td>\n",
       "    </tr>\n",
       "    <tr>\n",
       "      <th>2</th>\n",
       "      <td>12</td>\n",
       "      <td>no</td>\n",
       "      <td>male</td>\n",
       "      <td>1</td>\n",
       "      <td>not_member</td>\n",
       "      <td>6.67</td>\n",
       "      <td>19</td>\n",
       "      <td>White</td>\n",
       "      <td>Other</td>\n",
       "      <td>Manufacturing</td>\n",
       "      <td>Unmarried</td>\n",
       "    </tr>\n",
       "    <tr>\n",
       "      <th>3</th>\n",
       "      <td>12</td>\n",
       "      <td>no</td>\n",
       "      <td>male</td>\n",
       "      <td>4</td>\n",
       "      <td>not_member</td>\n",
       "      <td>4.00</td>\n",
       "      <td>22</td>\n",
       "      <td>White</td>\n",
       "      <td>Other</td>\n",
       "      <td>Other</td>\n",
       "      <td>Unmarried</td>\n",
       "    </tr>\n",
       "    <tr>\n",
       "      <th>4</th>\n",
       "      <td>12</td>\n",
       "      <td>no</td>\n",
       "      <td>male</td>\n",
       "      <td>17</td>\n",
       "      <td>not_member</td>\n",
       "      <td>7.50</td>\n",
       "      <td>35</td>\n",
       "      <td>White</td>\n",
       "      <td>Other</td>\n",
       "      <td>Other</td>\n",
       "      <td>Married</td>\n",
       "    </tr>\n",
       "  </tbody>\n",
       "</table>\n",
       "</div>"
      ],
      "text/plain": [
       "   EDUCATION SOUTH     SEX  EXPERIENCE       UNION  WAGE  AGE      RACE  \\\n",
       "0          8    no  female          21  not_member  5.10   35  Hispanic   \n",
       "1          9    no  female          42  not_member  4.95   57     White   \n",
       "2         12    no    male           1  not_member  6.67   19     White   \n",
       "3         12    no    male           4  not_member  4.00   22     White   \n",
       "4         12    no    male          17  not_member  7.50   35     White   \n",
       "\n",
       "  OCCUPATION         SECTOR       MARR  \n",
       "0      Other  Manufacturing    Married  \n",
       "1      Other  Manufacturing    Married  \n",
       "2      Other  Manufacturing  Unmarried  \n",
       "3      Other          Other  Unmarried  \n",
       "4      Other          Other    Married  "
      ]
     },
     "execution_count": 40,
     "metadata": {},
     "output_type": "execute_result"
    }
   ],
   "source": [
    "wages.frame.head()"
   ]
  },
  {
   "cell_type": "markdown",
   "metadata": {},
   "source": [
    "#### Task\n",
    "\n",
    "Build regression models to predict `WAGE`.  Incorporate the categorical features and transform the target using a logarithm.  Build `Ridge` models and consider some different amounts of regularization.  \n",
    "\n",
    "After fitting your model, interpret the model and try to understand what features led to higher wages.  Consider using `permutation_importance` that you encountered in module 8.  Discuss your findings in the class forum.\n",
    "\n",
    "For an in depth example discussing the perils of interpreting the coefficients see the example in scikitlearn examples [here](https://scikit-learn.org/stable/auto_examples/inspection/plot_linear_model_coefficient_interpretation.html)."
   ]
  },
  {
   "cell_type": "code",
   "execution_count": 41,
   "metadata": {
    "tags": []
   },
   "outputs": [],
   "source": [
    "import pandas as pd\n",
    "import numpy as np\n",
    "from sklearn.model_selection import train_test_split\n",
    "from sklearn.preprocessing import OneHotEncoder\n",
    "from sklearn.linear_model import Ridge\n",
    "from sklearn.pipeline import Pipeline\n",
    "from sklearn.compose import ColumnTransformer\n",
    "from sklearn.metrics import mean_squared_error\n",
    "from sklearn.inspection import permutation_importance\n",
    "import matplotlib.pyplot as plt\n",
    "import seaborn as sns\n",
    "from sklearn.datasets import fetch_openml\n",
    "import warnings"
   ]
  },
  {
   "cell_type": "code",
   "execution_count": 42,
   "metadata": {
    "tags": []
   },
   "outputs": [],
   "source": [
    "# Set random seed for reproducibility\n",
    "np.random.seed(42)"
   ]
  },
  {
   "cell_type": "code",
   "execution_count": 43,
   "metadata": {
    "tags": []
   },
   "outputs": [],
   "source": [
    "#Encode Categorical Features"
   ]
  },
  {
   "cell_type": "code",
   "execution_count": 44,
   "metadata": {
    "tags": []
   },
   "outputs": [
    {
     "data": {
      "text/html": [
       "<div>\n",
       "<style scoped>\n",
       "    .dataframe tbody tr th:only-of-type {\n",
       "        vertical-align: middle;\n",
       "    }\n",
       "\n",
       "    .dataframe tbody tr th {\n",
       "        vertical-align: top;\n",
       "    }\n",
       "\n",
       "    .dataframe thead th {\n",
       "        text-align: right;\n",
       "    }\n",
       "</style>\n",
       "<table border=\"1\" class=\"dataframe\">\n",
       "  <thead>\n",
       "    <tr style=\"text-align: right;\">\n",
       "      <th></th>\n",
       "      <th>EDUCATION</th>\n",
       "      <th>SOUTH</th>\n",
       "      <th>SEX</th>\n",
       "      <th>EXPERIENCE</th>\n",
       "      <th>UNION</th>\n",
       "      <th>AGE</th>\n",
       "      <th>RACE</th>\n",
       "      <th>OCCUPATION</th>\n",
       "      <th>SECTOR</th>\n",
       "      <th>MARR</th>\n",
       "    </tr>\n",
       "  </thead>\n",
       "  <tbody>\n",
       "    <tr>\n",
       "      <th>0</th>\n",
       "      <td>8</td>\n",
       "      <td>no</td>\n",
       "      <td>female</td>\n",
       "      <td>21</td>\n",
       "      <td>not_member</td>\n",
       "      <td>35</td>\n",
       "      <td>Hispanic</td>\n",
       "      <td>Other</td>\n",
       "      <td>Manufacturing</td>\n",
       "      <td>Married</td>\n",
       "    </tr>\n",
       "    <tr>\n",
       "      <th>1</th>\n",
       "      <td>9</td>\n",
       "      <td>no</td>\n",
       "      <td>female</td>\n",
       "      <td>42</td>\n",
       "      <td>not_member</td>\n",
       "      <td>57</td>\n",
       "      <td>White</td>\n",
       "      <td>Other</td>\n",
       "      <td>Manufacturing</td>\n",
       "      <td>Married</td>\n",
       "    </tr>\n",
       "    <tr>\n",
       "      <th>2</th>\n",
       "      <td>12</td>\n",
       "      <td>no</td>\n",
       "      <td>male</td>\n",
       "      <td>1</td>\n",
       "      <td>not_member</td>\n",
       "      <td>19</td>\n",
       "      <td>White</td>\n",
       "      <td>Other</td>\n",
       "      <td>Manufacturing</td>\n",
       "      <td>Unmarried</td>\n",
       "    </tr>\n",
       "    <tr>\n",
       "      <th>3</th>\n",
       "      <td>12</td>\n",
       "      <td>no</td>\n",
       "      <td>male</td>\n",
       "      <td>4</td>\n",
       "      <td>not_member</td>\n",
       "      <td>22</td>\n",
       "      <td>White</td>\n",
       "      <td>Other</td>\n",
       "      <td>Other</td>\n",
       "      <td>Unmarried</td>\n",
       "    </tr>\n",
       "    <tr>\n",
       "      <th>4</th>\n",
       "      <td>12</td>\n",
       "      <td>no</td>\n",
       "      <td>male</td>\n",
       "      <td>17</td>\n",
       "      <td>not_member</td>\n",
       "      <td>35</td>\n",
       "      <td>White</td>\n",
       "      <td>Other</td>\n",
       "      <td>Other</td>\n",
       "      <td>Married</td>\n",
       "    </tr>\n",
       "    <tr>\n",
       "      <th>...</th>\n",
       "      <td>...</td>\n",
       "      <td>...</td>\n",
       "      <td>...</td>\n",
       "      <td>...</td>\n",
       "      <td>...</td>\n",
       "      <td>...</td>\n",
       "      <td>...</td>\n",
       "      <td>...</td>\n",
       "      <td>...</td>\n",
       "      <td>...</td>\n",
       "    </tr>\n",
       "    <tr>\n",
       "      <th>529</th>\n",
       "      <td>18</td>\n",
       "      <td>no</td>\n",
       "      <td>male</td>\n",
       "      <td>5</td>\n",
       "      <td>not_member</td>\n",
       "      <td>29</td>\n",
       "      <td>White</td>\n",
       "      <td>Professional</td>\n",
       "      <td>Other</td>\n",
       "      <td>Unmarried</td>\n",
       "    </tr>\n",
       "    <tr>\n",
       "      <th>530</th>\n",
       "      <td>12</td>\n",
       "      <td>no</td>\n",
       "      <td>female</td>\n",
       "      <td>33</td>\n",
       "      <td>not_member</td>\n",
       "      <td>51</td>\n",
       "      <td>Other</td>\n",
       "      <td>Professional</td>\n",
       "      <td>Other</td>\n",
       "      <td>Married</td>\n",
       "    </tr>\n",
       "    <tr>\n",
       "      <th>531</th>\n",
       "      <td>17</td>\n",
       "      <td>no</td>\n",
       "      <td>female</td>\n",
       "      <td>25</td>\n",
       "      <td>member</td>\n",
       "      <td>48</td>\n",
       "      <td>Other</td>\n",
       "      <td>Professional</td>\n",
       "      <td>Other</td>\n",
       "      <td>Married</td>\n",
       "    </tr>\n",
       "    <tr>\n",
       "      <th>532</th>\n",
       "      <td>12</td>\n",
       "      <td>yes</td>\n",
       "      <td>male</td>\n",
       "      <td>13</td>\n",
       "      <td>member</td>\n",
       "      <td>31</td>\n",
       "      <td>White</td>\n",
       "      <td>Professional</td>\n",
       "      <td>Other</td>\n",
       "      <td>Married</td>\n",
       "    </tr>\n",
       "    <tr>\n",
       "      <th>533</th>\n",
       "      <td>16</td>\n",
       "      <td>no</td>\n",
       "      <td>male</td>\n",
       "      <td>33</td>\n",
       "      <td>not_member</td>\n",
       "      <td>55</td>\n",
       "      <td>White</td>\n",
       "      <td>Professional</td>\n",
       "      <td>Manufacturing</td>\n",
       "      <td>Married</td>\n",
       "    </tr>\n",
       "  </tbody>\n",
       "</table>\n",
       "<p>534 rows × 10 columns</p>\n",
       "</div>"
      ],
      "text/plain": [
       "     EDUCATION SOUTH     SEX  EXPERIENCE       UNION  AGE      RACE  \\\n",
       "0            8    no  female          21  not_member   35  Hispanic   \n",
       "1            9    no  female          42  not_member   57     White   \n",
       "2           12    no    male           1  not_member   19     White   \n",
       "3           12    no    male           4  not_member   22     White   \n",
       "4           12    no    male          17  not_member   35     White   \n",
       "..         ...   ...     ...         ...         ...  ...       ...   \n",
       "529         18    no    male           5  not_member   29     White   \n",
       "530         12    no  female          33  not_member   51     Other   \n",
       "531         17    no  female          25      member   48     Other   \n",
       "532         12   yes    male          13      member   31     White   \n",
       "533         16    no    male          33  not_member   55     White   \n",
       "\n",
       "       OCCUPATION         SECTOR       MARR  \n",
       "0           Other  Manufacturing    Married  \n",
       "1           Other  Manufacturing    Married  \n",
       "2           Other  Manufacturing  Unmarried  \n",
       "3           Other          Other  Unmarried  \n",
       "4           Other          Other    Married  \n",
       "..            ...            ...        ...  \n",
       "529  Professional          Other  Unmarried  \n",
       "530  Professional          Other    Married  \n",
       "531  Professional          Other    Married  \n",
       "532  Professional          Other    Married  \n",
       "533  Professional  Manufacturing    Married  \n",
       "\n",
       "[534 rows x 10 columns]"
      ]
     },
     "execution_count": 44,
     "metadata": {},
     "output_type": "execute_result"
    }
   ],
   "source": [
    "# Identify categorical and numerical features\n",
    "categorical_features = df.select_dtypes(include=['object']).columns\n",
    "numerical_features = df.select_dtypes(include=['float64', 'int64']).columns.drop('WAGE')\n",
    "\n",
    "# One-hot encode categorical features\n",
    "preprocessor = ColumnTransformer(\n",
    "    transformers=[\n",
    "        ('num', 'passthrough', numerical_features),\n",
    "        ('cat', OneHotEncoder(drop='FIRST'), categorical_features)\n",
    "    ])\n",
    "\n",
    "# Transform target variable\n",
    "df['LOG_WAGE'] = np.log(df['WAGE'])\n",
    "\n",
    "# Split the dataset into features and target\n",
    "X = df.drop(columns=['WAGE', 'LOG_WAGE'])\n",
    "y = df['LOG_WAGE']\n",
    "X"
   ]
  },
  {
   "cell_type": "code",
   "execution_count": 45,
   "metadata": {
    "tags": []
   },
   "outputs": [],
   "source": [
    "#Split the Dataset into Training and Testing Sets"
   ]
  },
  {
   "cell_type": "code",
   "execution_count": 46,
   "metadata": {
    "tags": []
   },
   "outputs": [],
   "source": [
    "X_train, X_test, y_train, y_test = train_test_split(X, y, test_size=0.2, random_state=42)\n"
   ]
  },
  {
   "cell_type": "code",
   "execution_count": 47,
   "metadata": {
    "tags": []
   },
   "outputs": [],
   "source": [
    "#Build Ridge Regression Models with Different Regularization"
   ]
  },
  {
   "cell_type": "code",
   "execution_count": 48,
   "metadata": {
    "tags": []
   },
   "outputs": [
    {
     "name": "stdout",
     "output_type": "stream",
     "text": [
      "[('EDUCATION', 0.1), ('SOUTH', 1.0), ('SEX', 10.0), ('EXPERIENCE', 100.0)]\n"
     ]
    }
   ],
   "source": [
    "# Create a Ridge regression model\n",
    "ridge = Ridge()\n",
    "\n",
    "# Create a pipeline\n",
    "model = Pipeline(steps=[('preprocessor', preprocessor),\n",
    "                        ('regressor', ridge)])\n",
    "\n",
    "# Fit the model with different regularization strengths\n",
    "alphas = [0.1, 1.0, 10.0, 100.0]\n",
    "ridge_models = {}\n",
    "for alpha in alphas:\n",
    "    ridge.set_params(alpha=alpha)\n",
    "    ridge_models[alpha] = model.fit(X_train, y_train)\n",
    "\n",
    "# Evaluate the models\n",
    "ridge_scores = {}\n",
    "for alpha, model in ridge_models.items():\n",
    "    y_pred = model.predict(X_test)\n",
    "    mse = mean_squared_error(y_test, y_pred)\n",
    "    ridge_scores[alpha] = mse\n",
    "\n",
    "ridge_scores\n",
    "print(list(zip(X_test.columns, ridge_scores)))"
   ]
  },
  {
   "cell_type": "code",
   "execution_count": 51,
   "metadata": {
    "tags": []
   },
   "outputs": [],
   "source": [
    "#Interpret the Model Using Permutation Importance"
   ]
  },
  {
   "cell_type": "code",
   "execution_count": 52,
   "metadata": {
    "tags": []
   },
   "outputs": [
    {
     "name": "stdout",
     "output_type": "stream",
     "text": [
      "Pipeline(steps=[('preprocessor',\n",
      "                 ColumnTransformer(transformers=[('num', 'passthrough',\n",
      "                                                  Index(['EDUCATION', 'EXPERIENCE', 'AGE'], dtype='object')),\n",
      "                                                 ('cat',\n",
      "                                                  OneHotEncoder(drop='FIRST'),\n",
      "                                                  Index([], dtype='object'))])),\n",
      "                ('regressor', Ridge(alpha=100.0))])\n"
     ]
    },
    {
     "data": {
      "text/plain": [
       "{'importances_mean': array([0.28939061, 0.        , 0.        , 0.28957277, 0.        ,\n",
       "        0.51261138, 0.        , 0.        , 0.        , 0.        ]),\n",
       " 'importances_std': array([0.0380835 , 0.        , 0.        , 0.05857234, 0.        ,\n",
       "        0.12085218, 0.        , 0.        , 0.        , 0.        ]),\n",
       " 'importances': array([[0.27647376, 0.26082209, 0.3144757 , 0.21762639, 0.34259804,\n",
       "         0.32092463, 0.28644715, 0.28345362, 0.33910915, 0.25197554],\n",
       "        [0.        , 0.        , 0.        , 0.        , 0.        ,\n",
       "         0.        , 0.        , 0.        , 0.        , 0.        ],\n",
       "        [0.        , 0.        , 0.        , 0.        , 0.        ,\n",
       "         0.        , 0.        , 0.        , 0.        , 0.        ],\n",
       "        [0.33371445, 0.23879404, 0.26588164, 0.15493432, 0.34532026,\n",
       "         0.25836747, 0.30447893, 0.32211252, 0.30954443, 0.36257961],\n",
       "        [0.        , 0.        , 0.        , 0.        , 0.        ,\n",
       "         0.        , 0.        , 0.        , 0.        , 0.        ],\n",
       "        [0.58152838, 0.45478479, 0.56137608, 0.77719278, 0.56240511,\n",
       "         0.55288151, 0.4662414 , 0.40827213, 0.2981117 , 0.46331993],\n",
       "        [0.        , 0.        , 0.        , 0.        , 0.        ,\n",
       "         0.        , 0.        , 0.        , 0.        , 0.        ],\n",
       "        [0.        , 0.        , 0.        , 0.        , 0.        ,\n",
       "         0.        , 0.        , 0.        , 0.        , 0.        ],\n",
       "        [0.        , 0.        , 0.        , 0.        , 0.        ,\n",
       "         0.        , 0.        , 0.        , 0.        , 0.        ],\n",
       "        [0.        , 0.        , 0.        , 0.        , 0.        ,\n",
       "         0.        , 0.        , 0.        , 0.        , 0.        ]])}"
      ]
     },
     "execution_count": 52,
     "metadata": {},
     "output_type": "execute_result"
    }
   ],
   "source": [
    "# Choose the best model based on the lowest MSE\n",
    "best_alpha = min(ridge_scores, key=ridge_scores.get)\n",
    "best_model = ridge_models[best_alpha]\n",
    "print (best_model)\n",
    "# Calculate permutation importance\n",
    "result = permutation_importance(best_model, X_test, y_test, n_repeats=10, random_state=42, n_jobs=-1)\n",
    "result\n",
    "\n"
   ]
  },
  {
   "cell_type": "code",
   "execution_count": 34,
   "metadata": {
    "tags": []
   },
   "outputs": [
    {
     "data": {
      "image/png": "[encoded data removed]",
      "text/plain": [
       "<Figure size 1000x800 with 1 Axes>"
      ]
     },
     "metadata": {},
     "output_type": "display_data"
    }
   ],
   "source": [
    "# Extract and plot the permutation importance\n",
    "sorted_idx = result.importances_mean.argsort()\n",
    "fig, ax = plt.subplots(figsize=(10, 8))\n",
    "ax.boxplot(result.importances[sorted_idx].T, vert=False, labels=X_test.columns[sorted_idx])\n",
    "ax.set_title(\"Permutation Importances (test set)\")\n",
    "fig.tight_layout()\n",
    "plt.savefig('pitest.png')\n",
    "plt.show()"
   ]
  },
  {
   "cell_type": "code",
   "execution_count": null,
   "metadata": {},
   "outputs": [],
   "source": []
  }
 ],
 "metadata": {
  "kernelspec": {
   "display_name": "Python 3 (ipykernel)",
   "language": "python",
   "name": "python3"
  },
  "language_info": {
   "codemirror_mode": {
    "name": "ipython",
    "version": 3
   },
   "file_extension": ".py",
   "mimetype": "text/x-python",
   "name": "python",
   "nbconvert_exporter": "python",
   "pygments_lexer": "ipython3",
   "version": "3.8.19"
  },
  "widgets": {
   "application/vnd.jupyter.widget-state+json": {
    "state": {},
    "version_major": 2,
    "version_minor": 0
   }
  }
 },
 "nbformat": 4,
 "nbformat_minor": 4
}
