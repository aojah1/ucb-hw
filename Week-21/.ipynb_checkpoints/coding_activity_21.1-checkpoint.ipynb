{
 "cells": [
  {
   "cell_type": "markdown",
   "metadata": {},
   "source": [
    "### Wisdom of the Crowd: Sampling and Describing\n",
    "\n",
    "This activity focuses on tracking the results of sampling from a known distribution and examining the mean and variance of the sample as the sample size increases.  You will generate a normal distribution using `scipy.stats`.  Using this distribution you will generate samples and determine the mean and variance of these, resulting in plots similar to those from the lectures."
   ]
  },
  {
   "cell_type": "markdown",
   "metadata": {},
   "source": [
    "#### Index\n",
    "\n",
    "- [Problem 1](#-Problem-1)\n",
    "- [Problem 2](#-Problem-2)\n",
    "- [Problem 3](#-Problem-3)\n",
    "\n"
   ]
  },
  {
   "cell_type": "code",
   "execution_count": 2,
   "metadata": {},
   "outputs": [],
   "source": [
    "import matplotlib.pyplot as plt\n",
    "import numpy as np\n",
    "import pandas as pd\n",
    "import scipy.stats as stats"
   ]
  },
  {
   "cell_type": "markdown",
   "metadata": {},
   "source": [
    "[Back to top](#-Index)\n",
    "\n",
    "### Problem 1\n",
    "\n",
    "#### $N(10, 4)$\n",
    "\n",
    "**10 Points**\n",
    "\n",
    "Below, use `scipy.stats.norm` to create a normal distribution with mean = 10 and scale = 4.  Assign this as `dist`.  Then, perform 1000 iterations where you sample the loop index as the sample size with the `.rvs()` method on dist also using the iteration as the `random_state` parameter in `.rvs()`.  Keep track of the sample means with the list `means`.  Uncomment the code to visualize the results.  "
   ]
  },
  {
   "cell_type": "code",
   "execution_count": 3,
   "metadata": {},
   "outputs": [
    {
     "name": "stdout",
     "output_type": "stream",
     "text": [
      "[16.497381454652967, 9.0539506507364, 13.095514389352422, 10.248202617565216, 11.91891698717907]\n"
     ]
    }
   ],
   "source": [
    "### GRADED\n",
    "dist = ''\n",
    "means = []\n",
    "for i in range(1, 1000):\n",
    "    pass\n",
    "    \n",
    "### BEGIN SOLUTION\n",
    "dist = stats.norm(10, 4)\n",
    "means = []\n",
    "for i in range(1, 1000):\n",
    "    sample = dist.rvs(i, random_state = i)\n",
    "    means.append(np.mean(sample))\n",
    "### END SOLUTION\n",
    "\n",
    "### ANSWER CHECK\n",
    "print(means[:5])\n",
    "\n",
    "# plt.plot(range(1, 1000), means)\n",
    "# plt.axhline(10, label = 'True Mean', color = 'red')\n",
    "# plt.xlabel('N Participants')\n",
    "# plt.ylabel('Sample Mean')\n",
    "# plt.legend();"
   ]
  },
  {
   "cell_type": "code",
   "execution_count": 4,
   "metadata": {},
   "outputs": [],
   "source": [
    "### BEGIN HIDDEN TESTS\n",
    "dist_ = stats.norm(10, 4)\n",
    "means_ = []\n",
    "for i in range(1, 1000):\n",
    "    sample_ = dist_.rvs(i, random_state = i)\n",
    "    means_.append(np.mean(sample_))\n",
    "#\n",
    "#\n",
    "#\n",
    "assert means == means_\n",
    "### END HIDDEN TESTS"
   ]
  },
  {
   "cell_type": "markdown",
   "metadata": {},
   "source": [
    "[Back to top](#-Index)\n",
    "\n",
    "### Problem 2\n",
    "\n",
    "#### Mean and Variance of samples\n",
    "\n",
    "\n",
    "Compute the variance of samples drawn from a normal distribution with mean = 10 and scale (standard deviation) = 4. The sample sizes will vary from 1 to 999.\n",
    "\n",
    "\n",
    "Follow these steps to complete the task:\n",
    "\n",
    "1. Utilize the `dist` object created in Problem 1.\n",
    "2. Iterate over sample sizes ranging from 1 to 999.\n",
    "3. For each sample size, generate a sample from the normal distribution using the `.rvs()` method on `dist`.\n",
    "4. Calculate the variance of each sample using the `np.var()` function.\n",
    "5. Store the computed variances in a list named `variances`.\n",
    "\n",
    "Ensure that each sample is generated with the same random state (e.g., `random_state=1`) to maintain consistency throughout the iterations.\n"
   ]
  },
  {
   "cell_type": "code",
   "execution_count": 5,
   "metadata": {},
   "outputs": [
    {
     "name": "stdout",
     "output_type": "stream",
     "text": [
      "[0.0, 0.25990755125959586, 2.848675869599996, 1.7100201767562866, 3.28810836749552]\n"
     ]
    }
   ],
   "source": [
    "### GRADED\n",
    "variances = []\n",
    "    \n",
    "### BEGIN SOLUTION\n",
    "variances = []\n",
    "for i in range(1, 1000):\n",
    "    sample = dist.rvs(i, random_state = i)\n",
    "    variances.append(np.var(sample)/i)\n",
    "### END SOLUTION\n",
    "\n",
    "### ANSWER CHECK\n",
    "print(variances[:5])"
   ]
  },
  {
   "cell_type": "code",
   "execution_count": 6,
   "metadata": {},
   "outputs": [],
   "source": [
    "# fig, ax = plt.subplots(1, 2, figsize = (20, 5))\n",
    "# ax[0].plot(range(5, 1500), means)\n",
    "# ax[0].axhline(10, label = 'True Mean', color = 'red')\n",
    "# ax[0].set_xlabel('N Participants')\n",
    "# ax[0].set_ylabel('Sample Mean')\n",
    "# ax[0].legend();\n",
    "\n",
    "# ax[1].plot(range(5, 1500), variances)\n",
    "# ax[1].set_xlabel('N Participants (log)')\n",
    "# ax[1].set_ylabel('Sample Variance (log)')\n",
    "# ax[1].set_xscale('log')\n",
    "# ax[1].set_yscale('log')"
   ]
  },
  {
   "cell_type": "code",
   "execution_count": 7,
   "metadata": {},
   "outputs": [],
   "source": [
    "### BEGIN HIDDEN TESTS\n",
    "variances_ = []\n",
    "for i in range(1, 1000):\n",
    "    sample_ = dist_.rvs(i, random_state = i)\n",
    "    variances_.append(np.var(sample_)/i)\n",
    "#\n",
    "#\n",
    "#\n",
    "assert variances == variances_\n",
    "### END HIDDEN TESTS"
   ]
  },
  {
   "cell_type": "markdown",
   "metadata": {},
   "source": [
    "[Back to top](#-Index)\n",
    "\n",
    "### Problem 3\n",
    "\n",
    "#### Interpreting the Results\n",
    "\n",
    "Here, we can interpret the mean as the estimator or model to describe our data with.  As we increase the number of participants in the samples, does our estimator get closer to the truth?  Answer \"yes\" or \"no\" as a string below for `ans3`. "
   ]
  },
  {
   "cell_type": "code",
   "execution_count": 8,
   "metadata": {},
   "outputs": [
    {
     "name": "stdout",
     "output_type": "stream",
     "text": [
      "<class 'str'>\n"
     ]
    }
   ],
   "source": [
    "### GRADED\n",
    "ans3 = ''\n",
    "    \n",
    "### BEGIN SOLUTION\n",
    "ans3 = 'yes'\n",
    "### END SOLUTION\n",
    "\n",
    "### ANSWER CHECK\n",
    "print(type(ans3))"
   ]
  },
  {
   "cell_type": "code",
   "execution_count": 9,
   "metadata": {},
   "outputs": [],
   "source": [
    "### BEGIN HIDDEN TESTS\n",
    "ans_ = 'yes'\n",
    "#\n",
    "#\n",
    "#\n",
    "assert ans3 == ans_\n",
    "### END HIDDEN TESTS"
   ]
  }
 ],
 "metadata": {
  "kernelspec": {
   "display_name": "Python 3 (ipykernel)",
   "language": "python",
   "name": "python3"
  },
  "language_info": {
   "codemirror_mode": {
    "name": "ipython",
    "version": 3
   },
   "file_extension": ".py",
   "mimetype": "text/x-python",
   "name": "python",
   "nbconvert_exporter": "python",
   "pygments_lexer": "ipython3",
   "version": "3.9.11"
  }
 },
 "nbformat": 4,
 "nbformat_minor": 4
}
