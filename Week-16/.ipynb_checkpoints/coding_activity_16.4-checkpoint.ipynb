{
 "cells": [
  {
   "cell_type": "markdown",
   "metadata": {
    "nbgrader": {
     "grade": false,
     "grade_id": "cell-9feeb9ef6cb32d51",
     "locked": true,
     "schema_version": 3,
     "solution": false
    }
   },
   "source": [
    "### Codio Activity 16.4: Using Scikit-learn's Kernel Functions\n",
    "\n",
    "**Expected Time = 30 minutes**\n",
    "\n",
    "**Total Points = 30**\n",
    "\n",
    "Similar to the previous assignment, kernelized `LogisticRegression` can be performed with functions from scikit-learn.  In this activity, you will use the `polynomial_kernel` and `rbf` kernel functions to transform the data and use the transformed data in a `LogisticRegression` estimator.  \n",
    "\n",
    "#### Index\n",
    "\n",
    "- [Problem 1](#-Problem-1)\n",
    "- [Problem 2](#-Problem-2)\n",
    "- [Problem 3](#-Problem-3)"
   ]
  },
  {
   "cell_type": "code",
   "execution_count": 1,
   "metadata": {},
   "outputs": [],
   "source": [
    "import numpy as np\n",
    "import pandas as pd\n",
    "import matplotlib.pyplot as plt\n",
    "\n",
    "from sklearn.datasets import load_wine\n",
    "from sklearn.linear_model import LogisticRegression, LinearRegression\n",
    "from sklearn.model_selection import train_test_split\n",
    "from sklearn.metrics.pairwise import polynomial_kernel, rbf_kernel\n",
    "\n",
    "import seaborn as sns"
   ]
  },
  {
   "cell_type": "markdown",
   "metadata": {
    "nbgrader": {
     "grade": false,
     "grade_id": "cell-0b9bf7e005d6bc88",
     "locked": true,
     "schema_version": 3,
     "solution": false
    }
   },
   "source": [
    "### A Regression Example\n",
    "\n",
    "Below, a small synthetic quadratic dataset is created.  Using the `x` variable, a quadratic polynomial kernel is used to transform the data as `ktrain`.  Then, a `LinearRegression` estimator is fit on the transformed data.  The results of the model are visualized following the model fit."
   ]
  },
  {
   "cell_type": "code",
   "execution_count": 2,
   "metadata": {},
   "outputs": [
    {
     "data": {
      "image/png": "[encoded data removed]",
      "text/plain": [
       "<Figure size 432x288 with 1 Axes>"
      ]
     },
     "metadata": {
      "needs_background": "light"
     },
     "output_type": "display_data"
    }
   ],
   "source": [
    "x = np.linspace(-4, 4, 40)\n",
    "def quad_x(x): return x**2 + np.random.normal(size = len(x))\n",
    "plt.scatter(x, quad_x(x))\n",
    "plt.title('Synthetic Quadratic Dataset');"
   ]
  },
  {
   "cell_type": "code",
   "execution_count": 3,
   "metadata": {},
   "outputs": [],
   "source": [
    "#polynomial kernel\n",
    "ktrain = polynomial_kernel(x.reshape(-1, 1), x.reshape(-1, 1), degree = 2)\n",
    "#fit regressor on kernel data\n",
    "lr = LinearRegression().fit(ktrain, quad_x(x))"
   ]
  },
  {
   "cell_type": "code",
   "execution_count": 4,
   "metadata": {},
   "outputs": [
    {
     "data": {
      "image/png": "[encoded data removed]",
      "text/plain": [
       "<Figure size 432x288 with 1 Axes>"
      ]
     },
     "metadata": {
      "needs_background": "light"
     },
     "output_type": "display_data"
    }
   ],
   "source": [
    "#visualize the predictions\n",
    "plt.plot(x, lr.predict(ktrain), '--r', label = 'Quadratic Kernel Regressor')\n",
    "plt.scatter(x, quad_x(x))\n",
    "plt.title('Synthetic Quadratic Data and Kernel Model')\n",
    "plt.legend();"
   ]
  },
  {
   "cell_type": "markdown",
   "metadata": {
    "nbgrader": {
     "grade": false,
     "grade_id": "cell-e441198b6cab189e",
     "locked": true,
     "schema_version": 3,
     "solution": false
    }
   },
   "source": [
    "#### Loading the Wine Data\n",
    "\n",
    "The wine data is loaded and the `X`, `y` variables created to use in applying the kernels for classification models below."
   ]
  },
  {
   "cell_type": "code",
   "execution_count": 5,
   "metadata": {},
   "outputs": [],
   "source": [
    "X, y = load_wine(return_X_y=True, as_frame=True)\n",
    "X, y = X[['total_phenols', 'color_intensity']].values, y"
   ]
  },
  {
   "cell_type": "markdown",
   "metadata": {
    "nbgrader": {
     "grade": false,
     "grade_id": "cell-e64072e35de21071",
     "locked": true,
     "schema_version": 3,
     "solution": false
    }
   },
   "source": [
    "[Back to top](#-Index)\n",
    "\n",
    "### Problem 1\n",
    "\n",
    "#### Logistic Regression with Linear Kernel\n",
    "\n",
    "**10 Points**\n",
    "\n",
    "Below, build a transformed version of the data under a first degree polynomial kernel.  Assign the transformed data as `ktrain` below. Use the transformed data to build a `LogisticRegression` estimator with `max_iter = 1000` named `linear_logistic`, and examine the accuracy score of the estimator.  \n",
    "\n",
    "HINT: although the example above reshapes the data, there is no need to reshape the data in this execise."
   ]
  },
  {
   "cell_type": "code",
   "execution_count": 7,
   "metadata": {
    "nbgrader": {
     "grade": false,
     "grade_id": "cell-8d07258c96e8b31a",
     "locked": false,
     "schema_version": 3,
     "solution": true
    }
   },
   "outputs": [
    {
     "name": "stdout",
     "output_type": "stream",
     "text": [
      "0.8820224719101124\n"
     ]
    }
   ],
   "source": [
    "### GRADED\n",
    "ktrain = ''\n",
    "linear_logistic = ''\n",
    "\n",
    "### BEGIN SOLUTION\n",
    "ktrain = polynomial_kernel(X, X, degree = 1)\n",
    "linear_logistic = LogisticRegression(max_iter = 1000).fit(ktrain, y)\n",
    "### END SOLUTION\n",
    "\n",
    "### ANSWER CHECK\n",
    "print(linear_logistic.score(ktrain, y))"
   ]
  },
  {
   "cell_type": "code",
   "execution_count": 9,
   "metadata": {
    "nbgrader": {
     "grade": true,
     "grade_id": "cell-7af0c8211cd930d8",
     "locked": true,
     "points": 10,
     "schema_version": 3,
     "solution": false
    }
   },
   "outputs": [],
   "source": [
    "### BEGIN HIDDEN TESTS\n",
    "ktrain_ = polynomial_kernel(X, X, degree = 1)\n",
    "linear_logistic_ = LogisticRegression(max_iter = 1000).fit(ktrain_, y)\n",
    "#\n",
    "#\n",
    "#\n",
    "np.testing.assert_array_equal(ktrain, ktrain_)\n",
    "np.testing.assert_array_equal(linear_logistic.predict(ktrain), linear_logistic_.predict(ktrain_))\n",
    "### END HIDDEN TESTS"
   ]
  },
  {
   "cell_type": "markdown",
   "metadata": {
    "nbgrader": {
     "grade": false,
     "grade_id": "cell-2524fe28cd09d841",
     "locked": true,
     "schema_version": 3,
     "solution": false
    }
   },
   "source": [
    "[Back to top](#-Index)\n",
    "\n",
    "### Problem 2\n",
    "\n",
    "#### Logistic Regression with Cubic Kernel\n",
    "\n",
    "**10 Points**\n",
    "\n",
    "Below, build a transformed version of the data under a third degree polynomial kernel. Assign the transformed data as `ktrain_cubic` below. Use the transformed data to build a `LogisticRegression` estimator with `max_iter = 1000` named `cubic_logistic`, and examine the accuracy score of the estimator."
   ]
  },
  {
   "cell_type": "code",
   "execution_count": 10,
   "metadata": {
    "nbgrader": {
     "grade": false,
     "grade_id": "cell-d331acc1500088b1",
     "locked": false,
     "schema_version": 3,
     "solution": true
    }
   },
   "outputs": [
    {
     "name": "stdout",
     "output_type": "stream",
     "text": [
      "0.9157303370786517\n"
     ]
    }
   ],
   "source": [
    "### GRADED\n",
    "ktrain_cubic = ''\n",
    "cubic_logistic = ''\n",
    "\n",
    "### BEGIN SOLUTION\n",
    "ktrain_cubic = polynomial_kernel(X, X, degree = 3)\n",
    "cubic_logistic = LogisticRegression(max_iter = 1000).fit(ktrain_cubic, y)\n",
    "### END SOLUTION\n",
    "\n",
    "### ANSWER CHECK\n",
    "print(cubic_logistic.score(ktrain_cubic, y))"
   ]
  },
  {
   "cell_type": "code",
   "execution_count": 11,
   "metadata": {
    "nbgrader": {
     "grade": true,
     "grade_id": "cell-39a2d04fe94fc491",
     "locked": true,
     "points": 10,
     "schema_version": 3,
     "solution": false
    }
   },
   "outputs": [],
   "source": [
    "### BEGIN HIDDEN TESTS\n",
    "ktrain_cubic_ = polynomial_kernel(X, X, degree = 3)\n",
    "cubic_logistic_ = LogisticRegression(max_iter = 1000).fit(ktrain_cubic_, y)\n",
    "#\n",
    "#\n",
    "#\n",
    "np.testing.assert_array_equal(ktrain_cubic_, ktrain_cubic)\n",
    "### END HIDDEN TESTS"
   ]
  },
  {
   "cell_type": "markdown",
   "metadata": {
    "nbgrader": {
     "grade": false,
     "grade_id": "cell-2d147c9234349949",
     "locked": true,
     "schema_version": 3,
     "solution": false
    }
   },
   "source": [
    "[Back to top](#-Index)\n",
    "\n",
    "### Problem 3\n",
    "\n",
    "#### Logistic Regression with Gaussian Kernel\n",
    "\n",
    "**10 Points**\n",
    "\n",
    "Below, build a transformed version of the data under a gaussian kernel -- `rbf_kernel`. Assign the transformed data as `ktrain_rbf` below. Use the transformed data to build a `LogisticRegression` estimator named `rbf_logistic`, and examine the accuracy score of the estimator."
   ]
  },
  {
   "cell_type": "code",
   "execution_count": 12,
   "metadata": {
    "nbgrader": {
     "grade": false,
     "grade_id": "cell-3750d3172110e5c9",
     "locked": false,
     "schema_version": 3,
     "solution": true
    }
   },
   "outputs": [
    {
     "name": "stdout",
     "output_type": "stream",
     "text": [
      "0.9101123595505618\n"
     ]
    }
   ],
   "source": [
    "### GRADED\n",
    "ktrain_rbf = ''\n",
    "rbf_logistic = ''\n",
    "\n",
    "### BEGIN SOLUTION\n",
    "ktrain_rbf = rbf_kernel(X, X)\n",
    "rbf_logistic = LogisticRegression().fit(ktrain_rbf, y)\n",
    "### END SOLUTION\n",
    "\n",
    "### ANSWER CHECK\n",
    "print(rbf_logistic.score(ktrain_rbf, y))"
   ]
  },
  {
   "cell_type": "code",
   "execution_count": 13,
   "metadata": {
    "nbgrader": {
     "grade": true,
     "grade_id": "cell-9c80d095b0f57712",
     "locked": true,
     "points": 10,
     "schema_version": 3,
     "solution": false
    }
   },
   "outputs": [],
   "source": [
    "### BEGIN HIDDEN TESTS\n",
    "ktrain_rbf_ = rbf_kernel(X, X)\n",
    "rbf_logistic_ = LogisticRegression().fit(ktrain_rbf_, y)#\n",
    "#\n",
    "#\n",
    "np.testing.assert_array_equal(ktrain_rbf_, ktrain_rbf)\n",
    "### END HIDDEN TESTS"
   ]
  }
 ],
 "metadata": {
  "celltoolbar": "Create Assignment",
  "kernelspec": {
   "display_name": "Python 3 (ipykernel)",
   "language": "python",
   "name": "python3"
  },
  "language_info": {
   "codemirror_mode": {
    "name": "ipython",
    "version": 3
   },
   "file_extension": ".py",
   "mimetype": "text/x-python",
   "name": "python",
   "nbconvert_exporter": "python",
   "pygments_lexer": "ipython3",
   "version": "3.9.11"
  },
  "widgets": {
   "application/vnd.jupyter.widget-state+json": {
    "state": {},
    "version_major": 2,
    "version_minor": 0
   }
  }
 },
 "nbformat": 4,
 "nbformat_minor": 4
}
