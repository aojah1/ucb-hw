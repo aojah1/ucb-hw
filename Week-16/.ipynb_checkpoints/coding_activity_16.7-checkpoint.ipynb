{
 "cells": [
  {
   "cell_type": "markdown",
   "metadata": {
    "nbgrader": {
     "grade": false,
     "grade_id": "cell-eb900c312db42473",
     "locked": true,
     "schema_version": 3,
     "solution": false
    }
   },
   "source": [
    "### Codio Activity 16.7: Visualizing Decision Boundaries\n",
    "\n",
    "**Expected Time = 60 minutes**\n",
    "\n",
    "**Total Points = 40**\n",
    "\n",
    "This activity focuses on visualizing the decision boundaries of the available kernel function in the `SVC` class.  You are given a function `decision_boundary` that takes in a fit `SVC` estimator and will draw the boundary of the decision function in a similar way to that from the previous assignment.  Examine this function below -- most of the code is directly available in examples from the scikitlearn documentation [here](https://scikit-learn.org/stable/auto_examples/svm/plot_separating_hyperplane.html#sphx-glr-auto-examples-svm-plot-separating-hyperplane-py) and [here](https://scikit-learn.org/stable/auto_examples/svm/plot_svm_nonlinear.html#sphx-glr-auto-examples-svm-plot-svm-nonlinear-py) for example.\n",
    "\n",
    "\n",
    "#### Index\n",
    "\n",
    "- [Problem 1](#-Problem-1)\n",
    "- [Problem 2](#-Problem-2)\n",
    "- [Problem 3](#-Problem-3)\n",
    "- [Problem 4](#-Problem-4)"
   ]
  },
  {
   "cell_type": "code",
   "execution_count": 1,
   "metadata": {},
   "outputs": [],
   "source": [
    "import numpy as np\n",
    "import pandas as pd\n",
    "import matplotlib.pyplot as plt\n",
    "\n",
    "from sklearn.svm import SVC\n",
    "from sklearn.model_selection import train_test_split\n",
    "from sklearn.datasets import make_blobs"
   ]
  },
  {
   "cell_type": "markdown",
   "metadata": {
    "nbgrader": {
     "grade": false,
     "grade_id": "cell-94cdd08364395ff0",
     "locked": true,
     "schema_version": 3,
     "solution": false
    }
   },
   "source": [
    "### The Data\n",
    "\n",
    "A similar synthetic dataset is created below to fit different versions of the `SVC` class.  The simple dataset demonstrates the different basic geometries of the decision boundary from each available kernel.  In the next assignment you will tune these boundaries using parameters of the support vector classifier."
   ]
  },
  {
   "cell_type": "code",
   "execution_count": 2,
   "metadata": {},
   "outputs": [],
   "source": [
    "X, y = make_blobs(centers = 2, cluster_std = 3, random_state = 42)"
   ]
  },
  {
   "cell_type": "code",
   "execution_count": 3,
   "metadata": {},
   "outputs": [
    {
     "data": {
      "image/png": "[encoded data removed]",
      "text/plain": [
       "<Figure size 432x288 with 1 Axes>"
      ]
     },
     "metadata": {
      "needs_background": "light"
     },
     "output_type": "display_data"
    }
   ],
   "source": [
    "plt.scatter(X[:, 0], X[:, 1], c = y)\n",
    "plt.title('Binary Classification: Synthetic Data')\n",
    "plt.xlabel('X1')\n",
    "plt.ylabel('X2')\n",
    "plt.grid();"
   ]
  },
  {
   "cell_type": "code",
   "execution_count": 4,
   "metadata": {},
   "outputs": [],
   "source": [
    "def decision_boundary(svc, kernel = 'linear'):\n",
    "    '''\n",
    "    This function takes in a fit SVC classifier\n",
    "    and draws a decision boundary based on the first \n",
    "    two features in array X.\n",
    "    '''\n",
    "    h = 0.1\n",
    "    x_min, x_max = X[:, 0].min() - 1, X[:, 0].max() + 1\n",
    "    y_min, y_max = X[:, 1].min() - 1, X[:, 1].max() + 1\n",
    "    xx, yy = np.meshgrid(np.arange(x_min, x_max, h),\n",
    "                         np.arange(y_min, y_max, h))\n",
    "    Z3 = svc.predict(np.c_[xx.ravel(), yy.ravel()]).reshape(xx.shape)\n",
    "    plt.contourf(xx, yy,  Z3, cmap = 'Blues', alpha = 0.4)\n",
    "    plt.scatter(X[:, 0], X[:, 1], c = y)\n",
    "    plt.title(f'{kernel} Boundary from SVC');"
   ]
  },
  {
   "cell_type": "markdown",
   "metadata": {
    "nbgrader": {
     "grade": false,
     "grade_id": "cell-31caa9ede9c780ab",
     "locked": true,
     "schema_version": 3,
     "solution": false
    }
   },
   "source": [
    "[Back to top](#-Index)\n",
    "\n",
    "### Problem 1\n",
    "\n",
    "#### Linear Decision Boundary\n",
    "\n",
    "**10 Points**\n",
    "\n",
    "Below, fit an `SVC` classifier with `kernel = 'linear'` and assign to the variable `svc_linear`.  Use the `decision_boundary` function to visualize this."
   ]
  },
  {
   "cell_type": "code",
   "execution_count": 5,
   "metadata": {
    "nbgrader": {
     "grade": false,
     "grade_id": "cell-a0c079e6d73c3d48",
     "locked": false,
     "schema_version": 3,
     "solution": true
    }
   },
   "outputs": [],
   "source": [
    "### GRADED\n",
    "svc_linear = ''\n",
    "    \n",
    "### BEGIN SOLUTION\n",
    "svc_linear = SVC(kernel = 'linear').fit(X, y)\n",
    "### END SOLUTION\n",
    "\n",
    "### ANSWER CHECK\n",
    "#decision_boundary(svc_linear)"
   ]
  },
  {
   "cell_type": "code",
   "execution_count": 6,
   "metadata": {
    "nbgrader": {
     "grade": true,
     "grade_id": "cell-1c43a7eaa364894f",
     "locked": true,
     "points": 10,
     "schema_version": 3,
     "solution": false
    }
   },
   "outputs": [],
   "source": [
    "### BEGIN HIDDEN TESTS\n",
    "svc_linear_ = SVC(kernel = 'linear').fit(X, y)\n",
    "#\n",
    "#\n",
    "#\n",
    "assert svc_linear.kernel == svc_linear_.kernel\n",
    "### END HIDDEN TESTS"
   ]
  },
  {
   "cell_type": "markdown",
   "metadata": {
    "nbgrader": {
     "grade": false,
     "grade_id": "cell-bdf2562c254e1a68",
     "locked": true,
     "schema_version": 3,
     "solution": false
    }
   },
   "source": [
    "[Back to top](#-Index)\n",
    "\n",
    "### Problem 2\n",
    "\n",
    "#### Polynomial Decision Boundary\n",
    "\n",
    "**10 Points**\n",
    "\n",
    "Below, fit an `SVC` classifier with `kernel = 'poly'` and assign to the variable `svc_poly`.  Use the `decision_boundary` function to visualize this. Note that the default degree polynomial is 3.  Use `decision_boundary` to visualize the results and pass the `kernel = 'Polynomial'` argument to adjust the title."
   ]
  },
  {
   "cell_type": "code",
   "execution_count": 7,
   "metadata": {
    "nbgrader": {
     "grade": false,
     "grade_id": "cell-dd8f40de0606513b",
     "locked": false,
     "schema_version": 3,
     "solution": true
    }
   },
   "outputs": [],
   "source": [
    "### GRADED\n",
    "svc_poly = ''\n",
    "    \n",
    "### BEGIN SOLUTION\n",
    "svc_poly = SVC(kernel = 'poly').fit(X, y)\n",
    "### END SOLUTION\n",
    "\n",
    "### ANSWER CHECK\n",
    "#decision_boundary(svc_poly)"
   ]
  },
  {
   "cell_type": "code",
   "execution_count": 8,
   "metadata": {
    "nbgrader": {
     "grade": true,
     "grade_id": "cell-c2016cbc4c98dfdd",
     "locked": true,
     "points": 10,
     "schema_version": 3,
     "solution": false
    }
   },
   "outputs": [],
   "source": [
    "### BEGIN HIDDEN TESTS\n",
    "svc_poly_ = SVC(kernel = 'poly').fit(X, y)\n",
    "#\n",
    "#\n",
    "#\n",
    "assert svc_poly.kernel == svc_poly_.kernel\n",
    "### END HIDDEN TESTS"
   ]
  },
  {
   "cell_type": "markdown",
   "metadata": {
    "nbgrader": {
     "grade": false,
     "grade_id": "cell-7d3cccc775329b75",
     "locked": true,
     "schema_version": 3,
     "solution": false
    }
   },
   "source": [
    "[Back to top](#-Index)\n",
    "\n",
    "### Problem 3\n",
    "\n",
    "#### Gaussian Decision Boundary\n",
    "\n",
    "**10 Points**\n",
    "\n",
    "Below, fit an `SVC` classifier with `kernel = 'rbf'` and assign to the variable `svc_gauss`.  Use the `decision_boundary` function to visualize this. Note that this is the default kernel for the `SVC`.  Use `decision_boundary` to visualize the results and pass the `kernel = 'Gaussian'` argument to adjust the title. "
   ]
  },
  {
   "cell_type": "code",
   "execution_count": 9,
   "metadata": {
    "nbgrader": {
     "grade": false,
     "grade_id": "cell-623f1498ca547b8a",
     "locked": false,
     "schema_version": 3,
     "solution": true
    }
   },
   "outputs": [],
   "source": [
    "### GRADED\n",
    "svc_gauss = ''\n",
    "    \n",
    "### BEGIN SOLUTION\n",
    "svc_gauss = SVC(kernel = 'rbf').fit(X, y)\n",
    "### END SOLUTION\n",
    "\n",
    "### ANSWER CHECK\n",
    "#decision_boundary(svc_gauss)"
   ]
  },
  {
   "cell_type": "code",
   "execution_count": 10,
   "metadata": {
    "nbgrader": {
     "grade": true,
     "grade_id": "cell-7181e9cfbd3e89db",
     "locked": true,
     "points": 10,
     "schema_version": 3,
     "solution": false
    }
   },
   "outputs": [],
   "source": [
    "### BEGIN HIDDEN TESTS\n",
    "svc_gauss_ = SVC(kernel = 'rbf').fit(X, y)\n",
    "#\n",
    "#\n",
    "#\n",
    "assert svc_gauss.kernel == svc_gauss_.kernel\n",
    "### END HIDDEN TESTS"
   ]
  },
  {
   "cell_type": "markdown",
   "metadata": {
    "nbgrader": {
     "grade": false,
     "grade_id": "cell-c7dbf29831ec4acf",
     "locked": true,
     "schema_version": 3,
     "solution": false
    }
   },
   "source": [
    "[Back to top](#-Index)\n",
    "\n",
    "### Problem 4\n",
    "\n",
    "#### Sigmoid Decision Boundary\n",
    "\n",
    "**10 Points**\n",
    "\n",
    "Below, fit an `SVC` classifier with `kernel = 'sigmoid'` and assign to the variable `svc_sigmoid`.  Use the `decision_boundary` function to visualize this. Use `decision_boundary` to visualize the results and pass the `kernel = 'Sigmoid'` argument to adjust the title. "
   ]
  },
  {
   "cell_type": "code",
   "execution_count": 11,
   "metadata": {
    "nbgrader": {
     "grade": false,
     "grade_id": "cell-b9c94ce18e922883",
     "locked": false,
     "schema_version": 3,
     "solution": true
    }
   },
   "outputs": [],
   "source": [
    "### GRADED\n",
    "svc_sigmoid = ''\n",
    "    \n",
    "### BEGIN SOLUTION\n",
    "svc_sigmoid = SVC(kernel = 'sigmoid').fit(X, y)\n",
    "### END SOLUTION\n",
    "\n",
    "### ANSWER CHECK\n",
    "#decision_boundary(svc_sigmoid)"
   ]
  },
  {
   "cell_type": "code",
   "execution_count": 12,
   "metadata": {
    "nbgrader": {
     "grade": true,
     "grade_id": "cell-ba05fa6ab0ae1797",
     "locked": true,
     "points": 10,
     "schema_version": 3,
     "solution": false
    }
   },
   "outputs": [],
   "source": [
    "### BEGIN HIDDEN TESTS\n",
    "svc_sigmoid_ = SVC(kernel = 'sigmoid').fit(X, y)\n",
    "#\n",
    "#\n",
    "#\n",
    "assert svc_sigmoid.kernel == svc_sigmoid_.kernel\n",
    "### END HIDDEN TESTS"
   ]
  }
 ],
 "metadata": {
  "celltoolbar": "Create Assignment",
  "kernelspec": {
   "display_name": "Python 3 (ipykernel)",
   "language": "python",
   "name": "python3"
  },
  "language_info": {
   "codemirror_mode": {
    "name": "ipython",
    "version": 3
   },
   "file_extension": ".py",
   "mimetype": "text/x-python",
   "name": "python",
   "nbconvert_exporter": "python",
   "pygments_lexer": "ipython3",
   "version": "3.9.11"
  }
 },
 "nbformat": 4,
 "nbformat_minor": 4
}
