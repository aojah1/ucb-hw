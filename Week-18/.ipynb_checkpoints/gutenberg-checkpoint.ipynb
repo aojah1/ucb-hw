{
 "cells": [
  {
   "cell_type": "code",
   "execution_count": null,
   "id": "2ad0586c",
   "metadata": {},
   "outputs": [],
   "source": [
    "# import nltk\n",
    "# from nltk.corpus import gutenberg\n",
    "# from pprint import pprint\n",
    "\n",
    "# nltk.download('gutenberg')\n",
    "\n",
    "# # loading text corpora\n",
    "# alice = gutenberg.raw(fileids='carroll-alice.txt')\n",
    "# sample_text = 'We will discuss briefly about the basic syntax,\\\n",
    "#  structure and design philosophies. \\\n",
    "#  There is a defined hierarchical syntax for Python code which you should remember \\\n",
    "#  when writing code! Python is a really powerful programming language!'"
   ]
  },
  {
   "cell_type": "code",
   "execution_count": null,
   "id": "de3538cf",
   "metadata": {},
   "outputs": [],
   "source": []
  },
  {
   "cell_type": "code",
   "execution_count": null,
   "id": "248bf06a",
   "metadata": {},
   "outputs": [],
   "source": [
    "import random\n",
    "from nltk.classify.scikitlearn import SklearnClassifier\n",
    "import pickle\n",
    "from sklearn.naive_bayes import MultinomialNB, BernoulliNB\n",
    "from sklearn.linear_model import LogisticRegression, SGDClassifier\n",
    "from sklearn.svm import SVC, LinearSVC, NuSVC\n",
    "from nltk.classify import ClassifierI\n",
    "from statistics import mode\n",
    "from nltk.tokenize import word_tokenize\n",
    "import re\n",
    "\n",
    "# Type: 'texts()' or 'sents()' to list the materials.\n",
    "# text1: Moby Dick by Herman Melville 1851\n",
    "# text2: Sense and Sensibility by Jane Austen 1811\n",
    "# text3: The Book of Genesis\n",
    "# text4: Inaugural Address Corpus\n",
    "# text5: Chat Corpus\n",
    "# text6: Monty Python and the Holy Grail\n",
    "# text7: Wall Street Journal\n",
    "# text8: Personals Corpus\n",
    "# text9: The Man Who Was Thursday by G . K . Chesterton 1908"
   ]
  },
  {
   "cell_type": "code",
   "execution_count": null,
   "id": "358b5159",
   "metadata": {},
   "outputs": [],
   "source": []
  },
  {
   "cell_type": "code",
   "execution_count": null,
   "id": "b69f2b6f",
   "metadata": {},
   "outputs": [],
   "source": []
  },
  {
   "cell_type": "code",
   "execution_count": null,
   "id": "bc42ccc0",
   "metadata": {},
   "outputs": [],
   "source": []
  }
 ],
 "metadata": {
  "kernelspec": {
   "display_name": "Python 3 (ipykernel)",
   "language": "python",
   "name": "python3"
  },
  "language_info": {
   "codemirror_mode": {
    "name": "ipython",
    "version": 3
   },
   "file_extension": ".py",
   "mimetype": "text/x-python",
   "name": "python",
   "nbconvert_exporter": "python",
   "pygments_lexer": "ipython3",
   "version": "3.10.1"
  }
 },
 "nbformat": 4,
 "nbformat_minor": 5
}
