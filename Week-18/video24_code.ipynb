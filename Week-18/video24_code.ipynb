{
 "cells": [
  {
   "cell_type": "code",
   "execution_count": 1,
   "id": "81a5df23",
   "metadata": {},
   "outputs": [],
   "source": [
    "import nltk\n",
    "import numpy as np"
   ]
  },
  {
   "cell_type": "code",
   "execution_count": 2,
   "id": "11750b69",
   "metadata": {},
   "outputs": [
    {
     "name": "stderr",
     "output_type": "stream",
     "text": [
      "[nltk_data] Downloading package maxent_ne_chunker to\n",
      "[nltk_data]     /home/gomes/nltk_data...\n",
      "[nltk_data]   Package maxent_ne_chunker is already up-to-date!\n",
      "[nltk_data] Downloading package words to /home/gomes/nltk_data...\n",
      "[nltk_data]   Package words is already up-to-date!\n",
      "[nltk_data] Downloading package punkt to /home/gomes/nltk_data...\n",
      "[nltk_data]   Package punkt is already up-to-date!\n",
      "[nltk_data] Downloading package stopwords to /home/gomes/nltk_data...\n",
      "[nltk_data]   Package stopwords is already up-to-date!\n",
      "[nltk_data] Downloading package wordnet to /home/gomes/nltk_data...\n",
      "[nltk_data]   Package wordnet is already up-to-date!\n",
      "[nltk_data] Downloading package omw-1.4 to /home/gomes/nltk_data...\n",
      "[nltk_data]   Package omw-1.4 is already up-to-date!\n",
      "[nltk_data] Downloading package averaged_perceptron_tagger to\n",
      "[nltk_data]     /home/gomes/nltk_data...\n",
      "[nltk_data]   Package averaged_perceptron_tagger is already up-to-\n",
      "[nltk_data]       date!\n"
     ]
    },
    {
     "data": {
      "text/plain": [
       "True"
      ]
     },
     "execution_count": 2,
     "metadata": {},
     "output_type": "execute_result"
    }
   ],
   "source": [
    "nltk.download('maxent_ne_chunker')\n",
    "nltk.download('words')\n",
    "nltk.download('punkt')\n",
    "nltk.download('stopwords')\n",
    "nltk.download('wordnet')\n",
    "nltk.download('omw-1.4')\n",
    "nltk.download('averaged_perceptron_tagger')"
   ]
  },
  {
   "cell_type": "markdown",
   "id": "435c512f",
   "metadata": {},
   "source": [
    "# Positive review"
   ]
  },
  {
   "cell_type": "code",
   "execution_count": 3,
   "id": "29242f15",
   "metadata": {},
   "outputs": [
    {
     "name": "stdout",
     "output_type": "stream",
     "text": [
      "I enjoyed 'Minority Report'. Tom Cruise didn't disappoint, and Steven Spielberg is at the top of his game. The movie was long but it wasn't boring. GREAT MOVIE!\n"
     ]
    }
   ],
   "source": [
    "text = \"I enjoyed 'Minority Report'. Tom Cruise didn't disappoint, and Steven Spielberg is at the top of his game. The movie was long but it wasn't boring. GREAT MOVIE!\"\n",
    "print(text)"
   ]
  },
  {
   "cell_type": "markdown",
   "id": "d113d2b2",
   "metadata": {},
   "source": [
    "## sentence tokenize"
   ]
  },
  {
   "cell_type": "code",
   "execution_count": 4,
   "id": "37ae8269",
   "metadata": {},
   "outputs": [
    {
     "name": "stdout",
     "output_type": "stream",
     "text": [
      "4\n",
      "I enjoyed 'Minority Report'.\n",
      "Tom Cruise didn't disappoint, and Steven Spielberg is at the top of his game.\n",
      "The movie was long but it wasn't boring.\n",
      "GREAT MOVIE!\n"
     ]
    }
   ],
   "source": [
    "sentences = nltk.sent_tokenize(text)\n",
    "\n",
    "print(len(sentences))\n",
    "for sentence in sentences:\n",
    "    print(sentence)"
   ]
  },
  {
   "cell_type": "markdown",
   "id": "a445b1b4",
   "metadata": {},
   "source": [
    "## word tokenize"
   ]
  },
  {
   "cell_type": "code",
   "execution_count": 54,
   "id": "cf2081cf",
   "metadata": {},
   "outputs": [
    {
     "name": "stdout",
     "output_type": "stream",
     "text": [
      "36\n",
      "['I', 'enjoyed', \"'Minority\", 'Report', \"'\", '.', 'Tom', 'Cruise', 'did', \"n't\"]\n",
      "['disappoint', ',', 'and', 'Steven', 'Spielberg', 'is', 'at', 'the', 'top', 'of']\n",
      "['his', 'game', '.', 'The', 'movie', 'was', 'long', 'but', 'it', 'was', \"n't\", 'boring']\n",
      "['.', 'GREAT', 'MOVIE', '!']\n"
     ]
    }
   ],
   "source": [
    "words = nltk.word_tokenize(text)\n",
    "print(len(words))\n",
    "print(words[:10])\n",
    "print(words[10:20])\n",
    "print(words[20:32])\n",
    "print(words[32:])"
   ]
  },
  {
   "cell_type": "markdown",
   "id": "73b470c8",
   "metadata": {},
   "source": [
    "# Parts of speech"
   ]
  },
  {
   "cell_type": "code",
   "execution_count": 6,
   "id": "243509bc",
   "metadata": {},
   "outputs": [
    {
     "name": "stdout",
     "output_type": "stream",
     "text": [
      "PRP$: pronoun, possessive\n",
      "    her his mine my our ours their thy your\n"
     ]
    },
    {
     "name": "stderr",
     "output_type": "stream",
     "text": [
      "[nltk_data] Downloading package tagsets to /home/gomes/nltk_data...\n",
      "[nltk_data]   Package tagsets is already up-to-date!\n"
     ]
    }
   ],
   "source": [
    "nltk.download('tagsets')\n",
    "nltk.help.upenn_tagset('PRP$')"
   ]
  },
  {
   "cell_type": "code",
   "execution_count": 7,
   "id": "4b7c76af",
   "metadata": {},
   "outputs": [
    {
     "name": "stdout",
     "output_type": "stream",
     "text": [
      "PRP$: pronoun, possessive\n",
      "    her his mine my our ours their thy your\n"
     ]
    }
   ],
   "source": [
    "nltk.help.upenn_tagset('PRP$')"
   ]
  },
  {
   "cell_type": "code",
   "execution_count": 8,
   "id": "c48b5904",
   "metadata": {},
   "outputs": [
    {
     "data": {
      "text/plain": [
       "[('The', 'DT'),\n",
       " ('movie', 'NN'),\n",
       " ('was', 'VBD'),\n",
       " ('long', 'RB'),\n",
       " ('but', 'CC'),\n",
       " ('it', 'PRP'),\n",
       " ('was', 'VBD'),\n",
       " ('not', 'RB'),\n",
       " ('boring', 'JJ')]"
      ]
     },
     "execution_count": 8,
     "metadata": {},
     "output_type": "execute_result"
    }
   ],
   "source": [
    "nltk.pos_tag(nltk.word_tokenize('The movie was long but it was not boring'))"
   ]
  },
  {
   "cell_type": "code",
   "execution_count": 9,
   "id": "acc2cd63",
   "metadata": {},
   "outputs": [
    {
     "data": {
      "text/plain": [
       "[('I', 'PRP'),\n",
       " ('enjoyed', 'VBP'),\n",
       " (\"'Minority\", 'JJ'),\n",
       " ('Report', 'NNP'),\n",
       " (\"'\", 'POS'),\n",
       " ('.', '.'),\n",
       " ('Tom', 'NNP'),\n",
       " ('Cruise', 'NNP'),\n",
       " ('did', 'VBD'),\n",
       " (\"n't\", 'RB'),\n",
       " ('disappoint', 'VB'),\n",
       " (',', ','),\n",
       " ('and', 'CC'),\n",
       " ('Steven', 'NNP'),\n",
       " ('Spielberg', 'NNP'),\n",
       " ('is', 'VBZ'),\n",
       " ('at', 'IN'),\n",
       " ('the', 'DT'),\n",
       " ('top', 'NN'),\n",
       " ('of', 'IN'),\n",
       " ('his', 'PRP$'),\n",
       " ('game', 'NN'),\n",
       " ('.', '.'),\n",
       " ('The', 'DT'),\n",
       " ('movie', 'NN'),\n",
       " ('was', 'VBD'),\n",
       " ('long', 'RB'),\n",
       " ('but', 'CC'),\n",
       " ('it', 'PRP'),\n",
       " ('was', 'VBD'),\n",
       " (\"n't\", 'RB'),\n",
       " ('boring', 'JJ'),\n",
       " ('.', '.'),\n",
       " ('GREAT', 'JJ'),\n",
       " ('MOVIE', 'NN'),\n",
       " ('!', '.')]"
      ]
     },
     "execution_count": 9,
     "metadata": {},
     "output_type": "execute_result"
    }
   ],
   "source": [
    "words_pos = nltk.pos_tag(words)\n",
    "words_pos"
   ]
  },
  {
   "cell_type": "markdown",
   "id": "a080f5b0",
   "metadata": {},
   "source": [
    "# Named entity recognition"
   ]
  },
  {
   "cell_type": "code",
   "execution_count": 10,
   "id": "0943edad",
   "metadata": {},
   "outputs": [
    {
     "name": "stdout",
     "output_type": "stream",
     "text": [
      "[('Report', 'ORGANIZATION'), ('Tom Cruise', 'PERSON'), ('Steven Spielberg', 'PERSON'), ('GREAT', 'ORGANIZATION'), ('MOVIE', 'ORGANIZATION')]\n"
     ]
    }
   ],
   "source": [
    "named_entities = []\n",
    "for t in nltk.ne_chunk(words_pos):\n",
    "    if hasattr(t,'label'):\n",
    "        e_name = ' '.join(c[0] for c in t.leaves());\n",
    "        e_type = t.label()\n",
    "        named_entities.append((e_name, e_type))\n",
    "        \n",
    "print(named_entities)"
   ]
  },
  {
   "cell_type": "markdown",
   "id": "11858595",
   "metadata": {},
   "source": [
    "## Remove named entities and lower case\n"
   ]
  },
  {
   "cell_type": "code",
   "execution_count": 24,
   "id": "c5013436",
   "metadata": {},
   "outputs": [],
   "source": [
    "words_nonames = words.copy()\n",
    "for ne in named_entities:\n",
    "    if ne[1]=='PERSON':\n",
    "        for name in nltk.word_tokenize(ne[0]):\n",
    "            words_nonames.remove(name)"
   ]
  },
  {
   "cell_type": "code",
   "execution_count": 25,
   "id": "f421dce7",
   "metadata": {},
   "outputs": [
    {
     "data": {
      "text/plain": [
       "\"i enjoyed 'minority report ' . did n't disappoint , and is at the top of his game . the movie was long but it was n't boring . great movie !\""
      ]
     },
     "execution_count": 25,
     "metadata": {},
     "output_type": "execute_result"
    }
   ],
   "source": [
    "words_nonames_lower = [word.lower() for word in words_nonames]\n",
    "' '.join(words_nonames_lower)"
   ]
  },
  {
   "cell_type": "markdown",
   "id": "337dc0ae",
   "metadata": {},
   "source": [
    "## Remove stopwords"
   ]
  },
  {
   "cell_type": "code",
   "execution_count": 13,
   "id": "bd7e1c00",
   "metadata": {},
   "outputs": [],
   "source": [
    "from nltk.corpus import stopwords\n",
    "swords = stopwords.words('english') "
   ]
  },
  {
   "cell_type": "code",
   "execution_count": 14,
   "id": "cf596ef6",
   "metadata": {},
   "outputs": [
    {
     "name": "stdout",
     "output_type": "stream",
     "text": [
      "enjoyed 'minority report ' . n't disappoint , top game . movie long n't boring . great movie !\n"
     ]
    }
   ],
   "source": [
    "words_nonames_lower_nostop = [w for w in words_nonames_lower if not w in swords]\n",
    "print(' '.join(words_nonames_lower_nostop))"
   ]
  },
  {
   "cell_type": "code",
   "execution_count": 26,
   "id": "a3253f55",
   "metadata": {},
   "outputs": [
    {
     "name": "stdout",
     "output_type": "stream",
     "text": [
      "19\n"
     ]
    }
   ],
   "source": [
    "print(len(words_nonames_lower_nostop))"
   ]
  },
  {
   "cell_type": "markdown",
   "id": "faeffa94",
   "metadata": {},
   "source": [
    "## Stemming"
   ]
  },
  {
   "cell_type": "code",
   "execution_count": 15,
   "id": "d6d19f20",
   "metadata": {},
   "outputs": [],
   "source": [
    "from nltk.stem import PorterStemmer\n",
    "stemmer = PorterStemmer()"
   ]
  },
  {
   "cell_type": "code",
   "execution_count": 16,
   "id": "96fd8a54",
   "metadata": {},
   "outputs": [
    {
     "data": {
      "text/plain": [
       "['joy', 'joy', 'joy', 'joyou', 'gees']"
      ]
     },
     "execution_count": 16,
     "metadata": {},
     "output_type": "execute_result"
    }
   ],
   "source": [
    "A = ['joy','joyful','joyfully','joyous','geese']\n",
    "[stemmer.stem(w) for w in A]"
   ]
  },
  {
   "cell_type": "code",
   "execution_count": 17,
   "id": "06856980",
   "metadata": {},
   "outputs": [
    {
     "data": {
      "text/plain": [
       "['run', 'runner', 'run', 'ran']"
      ]
     },
     "execution_count": 17,
     "metadata": {},
     "output_type": "execute_result"
    }
   ],
   "source": [
    "A = ['run','runner','running','ran']\n",
    "[stemmer.stem(w) for w in A]"
   ]
  },
  {
   "cell_type": "code",
   "execution_count": 18,
   "id": "426e367f",
   "metadata": {},
   "outputs": [
    {
     "name": "stdout",
     "output_type": "stream",
     "text": [
      "enjoy 'minor report ' . n't disappoint , top game . movi long n't bore . great movi !\n"
     ]
    }
   ],
   "source": [
    "words_nonames_lower_nostop_stem = [stemmer.stem(w) for w in words_nonames_lower_nostop]\n",
    "print(' '.join(words_nonames_lower_nostop_stem))"
   ]
  },
  {
   "cell_type": "markdown",
   "id": "35d06372",
   "metadata": {},
   "source": [
    "## Lemmatization"
   ]
  },
  {
   "cell_type": "code",
   "execution_count": 19,
   "id": "23650946",
   "metadata": {},
   "outputs": [],
   "source": [
    "from nltk.stem import WordNetLemmatizer\n",
    "lemma = WordNetLemmatizer()"
   ]
  },
  {
   "cell_type": "code",
   "execution_count": 20,
   "id": "6ced7c6a",
   "metadata": {},
   "outputs": [
    {
     "data": {
      "text/plain": [
       "['joy', 'joyful', 'joyfully', 'joyous', 'goose']"
      ]
     },
     "execution_count": 20,
     "metadata": {},
     "output_type": "execute_result"
    }
   ],
   "source": [
    "A = ['joy','joyful','joyfully','joyous','geese']\n",
    "[lemma.lemmatize(w) for w in A]"
   ]
  },
  {
   "cell_type": "code",
   "execution_count": 21,
   "id": "f874bdac",
   "metadata": {},
   "outputs": [
    {
     "name": "stdout",
     "output_type": "stream",
     "text": [
      "enjoyed 'minority report ' . n't disappoint , top game . movie long n't boring . great movie !\n"
     ]
    }
   ],
   "source": [
    "words_nonames_lower_nostop_lemma = [lemma.lemmatize(w) for w in words_nonames_lower_nostop]\n",
    "print(' '.join(words_nonames_lower_nostop_lemma))"
   ]
  },
  {
   "cell_type": "code",
   "execution_count": 27,
   "id": "df3e85ad",
   "metadata": {},
   "outputs": [
    {
     "data": {
      "text/plain": [
       "\"enjoy 'minor report ' . n't disappoint , top game . movi long n't bore . great movi !\""
      ]
     },
     "execution_count": 27,
     "metadata": {},
     "output_type": "execute_result"
    }
   ],
   "source": [
    "' '.join([stemmer.stem(w) for w in words_nonames_lower_nostop])"
   ]
  },
  {
   "cell_type": "code",
   "execution_count": 28,
   "id": "3df66175",
   "metadata": {},
   "outputs": [
    {
     "data": {
      "text/plain": [
       "\"enjoyed 'minority report ' . n't disappoint , top game . movie long n't boring . great movie !\""
      ]
     },
     "execution_count": 28,
     "metadata": {},
     "output_type": "execute_result"
    }
   ],
   "source": [
    "' '.join([lemma.lemmatize(w) for w in words_nonames_lower_nostop])"
   ]
  },
  {
   "cell_type": "markdown",
   "id": "34012ae8",
   "metadata": {},
   "source": [
    "# Bag of words"
   ]
  },
  {
   "cell_type": "code",
   "execution_count": 22,
   "id": "dd021b71",
   "metadata": {},
   "outputs": [],
   "source": [
    "doc1 = [w for w in words_nonames_lower_nostop_stem if (w!=\"'\") and (w!=\".\") and (w!=\",\") and (w!=\"!\")]"
   ]
  },
  {
   "cell_type": "code",
   "execution_count": 23,
   "id": "244aaf7c",
   "metadata": {},
   "outputs": [
    {
     "data": {
      "text/plain": [
       "['enjoy',\n",
       " \"'minor\",\n",
       " 'report',\n",
       " \"n't\",\n",
       " 'disappoint',\n",
       " 'top',\n",
       " 'game',\n",
       " 'movi',\n",
       " 'long',\n",
       " \"n't\",\n",
       " 'bore',\n",
       " 'great',\n",
       " 'movi']"
      ]
     },
     "execution_count": 23,
     "metadata": {},
     "output_type": "execute_result"
    }
   ],
   "source": [
    "doc1"
   ]
  },
  {
   "cell_type": "markdown",
   "id": "c785fca7",
   "metadata": {},
   "source": [
    "# idf"
   ]
  },
  {
   "cell_type": "code",
   "execution_count": 60,
   "id": "9795b931",
   "metadata": {},
   "outputs": [
    {
     "name": "stderr",
     "output_type": "stream",
     "text": [
      "/tmp/ipykernel_14407/3020353884.py:3: RuntimeWarning: divide by zero encountered in log\n",
      "  plt.plot(x,-np.log(x))\n"
     ]
    },
    {
     "data": {
      "image/png": "[encoded data removed]",
      "text/plain": [
       "<Figure size 432x288 with 1 Axes>"
      ]
     },
     "metadata": {
      "needs_background": "light"
     },
     "output_type": "display_data"
    }
   ],
   "source": [
    "import matplotlib.pyplot as plt\n",
    "x = np.linspace(0,1)\n",
    "plt.plot(x,-np.log(x))\n",
    "plt.ylabel('idf(t)',fontsize=14)\n",
    "plt.xlabel('proportion of documents that contain t',fontsize=14)\n",
    "plt.grid(':')"
   ]
  },
  {
   "cell_type": "code",
   "execution_count": null,
   "id": "053d63a5",
   "metadata": {},
   "outputs": [],
   "source": []
  }
 ],
 "metadata": {
  "kernelspec": {
   "display_name": "Python 3 (ipykernel)",
   "language": "python",
   "name": "python3"
  },
  "language_info": {
   "codemirror_mode": {
    "name": "ipython",
    "version": 3
   },
   "file_extension": ".py",
   "mimetype": "text/x-python",
   "name": "python",
   "nbconvert_exporter": "python",
   "pygments_lexer": "ipython3",
   "version": "3.10.1"
  }
 },
 "nbformat": 4,
 "nbformat_minor": 5
}
