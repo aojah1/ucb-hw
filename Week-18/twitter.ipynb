{
 "cells": [
  {
   "cell_type": "code",
   "execution_count": 65,
   "id": "4098f495",
   "metadata": {},
   "outputs": [],
   "source": [
    "import numpy as np\n",
    "import matplotlib.pyplot as plt\n",
    "import pandas as pd\n",
    "from sklearn.metrics import ConfusionMatrixDisplay\n"
   ]
  },
  {
   "cell_type": "markdown",
   "id": "2e7ccba5",
   "metadata": {},
   "source": [
    "# Import NLTK and download the data"
   ]
  },
  {
   "cell_type": "code",
   "execution_count": 2,
   "id": "3d5d5d2b",
   "metadata": {},
   "outputs": [
    {
     "name": "stderr",
     "output_type": "stream",
     "text": [
      "[nltk_data] Downloading package twitter_samples to\n",
      "[nltk_data]     /home/gomes/nltk_data...\n",
      "[nltk_data]   Package twitter_samples is already up-to-date!\n"
     ]
    },
    {
     "data": {
      "text/plain": [
       "True"
      ]
     },
     "execution_count": 2,
     "metadata": {},
     "output_type": "execute_result"
    }
   ],
   "source": [
    "import nltk\n",
    "nltk.download('twitter_samples')"
   ]
  },
  {
   "cell_type": "markdown",
   "id": "6234f6db",
   "metadata": {},
   "source": [
    "# Load Twitter data"
   ]
  },
  {
   "cell_type": "code",
   "execution_count": 3,
   "id": "32bde5fb",
   "metadata": {},
   "outputs": [],
   "source": [
    "from nltk.corpus import twitter_samples\n",
    "tweets_pos = twitter_samples.strings('positive_tweets.json')     #  5000\n",
    "tweets_neg = twitter_samples.strings('negative_tweets.json')     #  5000\n",
    "tweets_all = tweets_pos + tweets_neg                             # 10000"
   ]
  },
  {
   "cell_type": "code",
   "execution_count": 4,
   "id": "b7841a99",
   "metadata": {},
   "outputs": [],
   "source": [
    "labels_pos = np.ones ((len(tweets_pos),1), dtype=np.int8)  # positive labels (1)\n",
    "labels_neg = np.zeros((len(tweets_neg),1), dtype=np.int8)  # negative labels (0)\n",
    "labels_all = np.append(labels_pos,labels_neg)              # all labels"
   ]
  },
  {
   "cell_type": "code",
   "execution_count": 5,
   "id": "c20f4431",
   "metadata": {},
   "outputs": [
    {
     "data": {
      "text/html": [
       "<div>\n",
       "<style scoped>\n",
       "    .dataframe tbody tr th:only-of-type {\n",
       "        vertical-align: middle;\n",
       "    }\n",
       "\n",
       "    .dataframe tbody tr th {\n",
       "        vertical-align: top;\n",
       "    }\n",
       "\n",
       "    .dataframe thead th {\n",
       "        text-align: right;\n",
       "    }\n",
       "</style>\n",
       "<table border=\"1\" class=\"dataframe\">\n",
       "  <thead>\n",
       "    <tr style=\"text-align: right;\">\n",
       "      <th></th>\n",
       "      <th>tweet</th>\n",
       "      <th>label</th>\n",
       "    </tr>\n",
       "  </thead>\n",
       "  <tbody>\n",
       "    <tr>\n",
       "      <th>0</th>\n",
       "      <td>#FollowFriday @France_Inte @PKuchly57 @Milipol...</td>\n",
       "      <td>1</td>\n",
       "    </tr>\n",
       "    <tr>\n",
       "      <th>1</th>\n",
       "      <td>@Lamb2ja Hey James! How odd :/ Please call our...</td>\n",
       "      <td>1</td>\n",
       "    </tr>\n",
       "    <tr>\n",
       "      <th>2</th>\n",
       "      <td>@DespiteOfficial we had a listen last night :)...</td>\n",
       "      <td>1</td>\n",
       "    </tr>\n",
       "    <tr>\n",
       "      <th>3</th>\n",
       "      <td>@97sides CONGRATS :)</td>\n",
       "      <td>1</td>\n",
       "    </tr>\n",
       "    <tr>\n",
       "      <th>4</th>\n",
       "      <td>yeaaaah yippppy!!!  my accnt verified rqst has...</td>\n",
       "      <td>1</td>\n",
       "    </tr>\n",
       "    <tr>\n",
       "      <th>...</th>\n",
       "      <td>...</td>\n",
       "      <td>...</td>\n",
       "    </tr>\n",
       "    <tr>\n",
       "      <th>9995</th>\n",
       "      <td>I wanna change my avi but uSanele :(</td>\n",
       "      <td>0</td>\n",
       "    </tr>\n",
       "    <tr>\n",
       "      <th>9996</th>\n",
       "      <td>MY PUPPY BROKE HER FOOT :(</td>\n",
       "      <td>0</td>\n",
       "    </tr>\n",
       "    <tr>\n",
       "      <th>9997</th>\n",
       "      <td>where's all the jaebum baby pictures :((</td>\n",
       "      <td>0</td>\n",
       "    </tr>\n",
       "    <tr>\n",
       "      <th>9998</th>\n",
       "      <td>But but Mr Ahmad Maslan cooks too :( https://t...</td>\n",
       "      <td>0</td>\n",
       "    </tr>\n",
       "    <tr>\n",
       "      <th>9999</th>\n",
       "      <td>@eawoman As a Hull supporter I am expecting a ...</td>\n",
       "      <td>0</td>\n",
       "    </tr>\n",
       "  </tbody>\n",
       "</table>\n",
       "<p>10000 rows × 2 columns</p>\n",
       "</div>"
      ],
      "text/plain": [
       "                                                  tweet  label\n",
       "0     #FollowFriday @France_Inte @PKuchly57 @Milipol...      1\n",
       "1     @Lamb2ja Hey James! How odd :/ Please call our...      1\n",
       "2     @DespiteOfficial we had a listen last night :)...      1\n",
       "3                                  @97sides CONGRATS :)      1\n",
       "4     yeaaaah yippppy!!!  my accnt verified rqst has...      1\n",
       "...                                                 ...    ...\n",
       "9995               I wanna change my avi but uSanele :(      0\n",
       "9996                         MY PUPPY BROKE HER FOOT :(      0\n",
       "9997           where's all the jaebum baby pictures :((      0\n",
       "9998  But but Mr Ahmad Maslan cooks too :( https://t...      0\n",
       "9999  @eawoman As a Hull supporter I am expecting a ...      0\n",
       "\n",
       "[10000 rows x 2 columns]"
      ]
     },
     "execution_count": 5,
     "metadata": {},
     "output_type": "execute_result"
    }
   ],
   "source": [
    "pd.DataFrame(data={'tweet':tweets_all,'label':labels_all})"
   ]
  },
  {
   "cell_type": "markdown",
   "id": "b75428bd",
   "metadata": {},
   "source": [
    "# Test train split"
   ]
  },
  {
   "cell_type": "code",
   "execution_count": 6,
   "id": "db661769",
   "metadata": {},
   "outputs": [
    {
     "data": {
      "text/plain": [
       "(7500, 2500, 7500, 2500)"
      ]
     },
     "execution_count": 6,
     "metadata": {},
     "output_type": "execute_result"
    }
   ],
   "source": [
    "from sklearn.model_selection import train_test_split\n",
    "X_train, X_test, y_train, y_test = train_test_split(tweets_all, labels_all,\n",
    "                                                    test_size=0.25, \n",
    "                                                    random_state=243824)\n",
    "\n",
    "len(X_train), len(X_test), len(y_train), len(y_test)"
   ]
  },
  {
   "cell_type": "markdown",
   "id": "684682ce",
   "metadata": {},
   "source": [
    "# Process"
   ]
  },
  {
   "cell_type": "markdown",
   "id": "891ee441",
   "metadata": {},
   "source": [
    "## 1) Tokenize"
   ]
  },
  {
   "cell_type": "code",
   "execution_count": 8,
   "id": "623979f0",
   "metadata": {},
   "outputs": [],
   "source": [
    "TweetTokenizer?"
   ]
  },
  {
   "cell_type": "code",
   "execution_count": 7,
   "id": "ed147b24",
   "metadata": {},
   "outputs": [],
   "source": [
    "from nltk.tokenize import TweetTokenizer\n",
    "tokenizer = TweetTokenizer(preserve_case=False, strip_handles=True, reduce_len=True)\n",
    "X_train_tok = [tokenizer.tokenize(tweet) for tweet in X_train]"
   ]
  },
  {
   "cell_type": "code",
   "execution_count": 13,
   "id": "06042fcf",
   "metadata": {},
   "outputs": [
    {
     "data": {
      "text/plain": [
       "(\"@hawkins_g omg you're so mean, he's fine :(\",\n",
       " ['omg', \"you're\", 'so', 'mean', ',', \"he's\", 'fine', ':('])"
      ]
     },
     "execution_count": 13,
     "metadata": {},
     "output_type": "execute_result"
    }
   ],
   "source": [
    "n = 47\n",
    "X_train[n],X_train_tok[n]"
   ]
  },
  {
   "cell_type": "code",
   "execution_count": 29,
   "id": "f6aece7a",
   "metadata": {},
   "outputs": [
    {
     "data": {
      "text/plain": [
       "'@TOBMAST3R @inspchin @koeitecmoeurope @TanikoHorigome @GoldxFierce @Kronin1 @Addictrian @chako33 @MatthewRumple thx Tobi-bro! :D'"
      ]
     },
     "execution_count": 29,
     "metadata": {},
     "output_type": "execute_result"
    }
   ],
   "source": [
    "X_train[89]"
   ]
  },
  {
   "cell_type": "code",
   "execution_count": 28,
   "id": "a45d5bc8",
   "metadata": {},
   "outputs": [
    {
     "data": {
      "text/plain": [
       "['thx', 'tobi-bro', '!', ':D']"
      ]
     },
     "execution_count": 28,
     "metadata": {},
     "output_type": "execute_result"
    }
   ],
   "source": [
    "X_train_tok[89]"
   ]
  },
  {
   "cell_type": "markdown",
   "id": "73b6c8a8",
   "metadata": {},
   "source": [
    "## 2) Remove stopwords"
   ]
  },
  {
   "cell_type": "code",
   "execution_count": 30,
   "id": "c94fc1a5",
   "metadata": {},
   "outputs": [],
   "source": [
    "from nltk.corpus import stopwords\n",
    "swords = stopwords.words('english')\n",
    "\n",
    "X_train_tok_nostop = []\n",
    "for tweet in X_train_tok:\n",
    "    words = [word for word in tweet if word not in swords]\n",
    "    X_train_tok_nostop.append(words)"
   ]
  },
  {
   "cell_type": "code",
   "execution_count": 33,
   "id": "66c37f85",
   "metadata": {},
   "outputs": [
    {
     "data": {
      "text/plain": [
       "['thx', 'tobi-bro', '!', ':D']"
      ]
     },
     "execution_count": 33,
     "metadata": {},
     "output_type": "execute_result"
    }
   ],
   "source": [
    "X_train_tok_nostop[89]"
   ]
  },
  {
   "cell_type": "markdown",
   "id": "e924822a",
   "metadata": {},
   "source": [
    "## 2) Stemming"
   ]
  },
  {
   "cell_type": "code",
   "execution_count": 31,
   "id": "235723e3",
   "metadata": {},
   "outputs": [],
   "source": [
    "from nltk.stem import PorterStemmer\n",
    "stemmer = PorterStemmer()\n",
    "\n",
    "X_train_tok_nostop_stem = []\n",
    "for tweet in X_train_tok_nostop:\n",
    "    words = [stemmer.stem(word) for word in tweet]\n",
    "    X_train_tok_nostop_stem.append(words)"
   ]
  },
  {
   "cell_type": "code",
   "execution_count": 32,
   "id": "a5f4c580",
   "metadata": {},
   "outputs": [
    {
     "data": {
      "text/plain": [
       "['thx', 'tobi-bro', '!', ':d']"
      ]
     },
     "execution_count": 32,
     "metadata": {},
     "output_type": "execute_result"
    }
   ],
   "source": [
    "X_train_tok_nostop_stem[89]"
   ]
  },
  {
   "cell_type": "markdown",
   "id": "2d70a2d4",
   "metadata": {},
   "source": [
    "\n",
    "# Put it all into a function"
   ]
  },
  {
   "cell_type": "code",
   "execution_count": 35,
   "id": "9bd1c8de",
   "metadata": {},
   "outputs": [],
   "source": [
    "def preprocess_text(tweets):\n",
    "\n",
    "    tokenizer = TweetTokenizer(preserve_case=False, strip_handles=True, reduce_len=True)\n",
    "    stemmer = PorterStemmer()\n",
    "    swords = stopwords.words('english')\n",
    "\n",
    "    X = []\n",
    "    for tweet in tweets:\n",
    "        tokens = tokenizer.tokenize(tweet)\n",
    "        X.append([stemmer.stem(word) for word in tokens if word not in swords]) \n",
    "        \n",
    "    return X"
   ]
  },
  {
   "cell_type": "code",
   "execution_count": 36,
   "id": "a2b14c55",
   "metadata": {},
   "outputs": [],
   "source": [
    "X_train_pp = preprocess_text(X_train)"
   ]
  },
  {
   "cell_type": "markdown",
   "id": "7c80b1d7",
   "metadata": {},
   "source": [
    "# Word frequencies"
   ]
  },
  {
   "cell_type": "code",
   "execution_count": 37,
   "id": "97591003",
   "metadata": {},
   "outputs": [
    {
     "data": {
      "text/plain": [
       "10225"
      ]
     },
     "execution_count": 37,
     "metadata": {},
     "output_type": "execute_result"
    }
   ],
   "source": [
    "unique_words = set()\n",
    "for tweet in X_train_pp:\n",
    "    unique_words.update(tweet)\n",
    "len(unique_words)"
   ]
  },
  {
   "cell_type": "code",
   "execution_count": 38,
   "id": "fad52c9e",
   "metadata": {},
   "outputs": [
    {
     "name": "stdout",
     "output_type": "stream",
     "text": [
      "['stat' 'day' 'arriv' '.' '1' 'new']\n",
      "['one' 'want' 'go' 'ant' 'man' ':(']\n"
     ]
    }
   ],
   "source": [
    "words_pos = []\n",
    "words_neg = []\n",
    "\n",
    "for tweet, label in zip(X_train_pp,y_train):\n",
    "    if label==0:\n",
    "        words_neg.extend(tweet)\n",
    "    else:\n",
    "        words_pos.extend(tweet)\n",
    "        \n",
    "unique_words = np.array(list(unique_words))\n",
    "words_pos = np.array(words_pos)\n",
    "words_neg = np.array(words_neg)\n",
    "\n",
    "print(words_pos[:6])\n",
    "print(words_neg[:6])"
   ]
  },
  {
   "cell_type": "code",
   "execution_count": 49,
   "id": "43508942",
   "metadata": {},
   "outputs": [
    {
     "data": {
      "text/plain": [
       "61487"
      ]
     },
     "execution_count": 49,
     "metadata": {},
     "output_type": "execute_result"
    }
   ],
   "source": [
    "len(words_pos) + len(words_neg)"
   ]
  },
  {
   "cell_type": "code",
   "execution_count": null,
   "id": "bb44edee",
   "metadata": {},
   "outputs": [],
   "source": []
  },
  {
   "cell_type": "code",
   "execution_count": 39,
   "id": "ff671176",
   "metadata": {},
   "outputs": [],
   "source": [
    "word_count = { w: [0,0] for w in unique_words }\n",
    "for word in words_pos:\n",
    "    word_count[word][1] += 1\n",
    "for word in words_neg:\n",
    "    word_count[word][0] += 1"
   ]
  },
  {
   "cell_type": "code",
   "execution_count": 40,
   "id": "28b684fb",
   "metadata": {},
   "outputs": [
    {
     "name": "stdout",
     "output_type": "stream",
     "text": [
      "['!' '.' '(' ':(']\n",
      "[',' '.' '!' ':)']\n"
     ]
    },
    {
     "data": {
      "text/plain": [
       "[3442, 1]"
      ]
     },
     "execution_count": 40,
     "metadata": {},
     "output_type": "execute_result"
    }
   ],
   "source": [
    "word_count_matrix = np.array([val for key,val in word_count.items()])\n",
    "\n",
    "ind_neg = np.argsort(word_count_matrix[:,0])\n",
    "ind_pos = np.argsort(word_count_matrix[:,1])\n",
    "\n",
    "print(unique_words[ind_neg[-4:]])\n",
    "print(unique_words[ind_pos[-4:]])\n",
    "\n",
    "word_count[':(']"
   ]
  },
  {
   "cell_type": "code",
   "execution_count": 41,
   "id": "59501355",
   "metadata": {},
   "outputs": [
    {
     "data": {
      "text/plain": [
       "[813, 980]"
      ]
     },
     "execution_count": 41,
     "metadata": {},
     "output_type": "execute_result"
    }
   ],
   "source": [
    "word_count['.']"
   ]
  },
  {
   "cell_type": "markdown",
   "id": "feaf28c4",
   "metadata": {},
   "source": [
    "# Plot a sample"
   ]
  },
  {
   "cell_type": "code",
   "execution_count": 44,
   "id": "4354f79e",
   "metadata": {},
   "outputs": [
    {
     "data": {
      "image/png": "[encoded data removed]",
      "text/plain": [
       "<Figure size 720x720 with 1 Axes>"
      ]
     },
     "metadata": {
      "needs_background": "light"
     },
     "output_type": "display_data"
    }
   ],
   "source": [
    "keys = ['❤', '😍', '😒', ':)', ':(','great','bad','scari','bore','best','worst','omg','lol','come','go']\\\n",
    "\n",
    "A = np.array([word_count[key] for key in keys])\n",
    "\n",
    "plt.figure(figsize=(10,10))\n",
    "plt.loglog(A[:,0],A[:,1],'.',markersize=0)  \n",
    "xlim = plt.xlim()\n",
    "ylim = plt.ylim()\n",
    "plt.loglog(xlim,ylim,'--')\n",
    "plt.xlim(xlim)\n",
    "plt.ylim(ylim)\n",
    "\n",
    "plt.xticks(fontsize=14)\n",
    "plt.yticks(fontsize=14)\n",
    "\n",
    "plt.ylabel(\"Count in positive tweets\", fontsize=18)\n",
    "plt.xlabel(\"Count in negative tweets\", fontsize=18)\n",
    "\n",
    "for i in range(0, len(keys)):\n",
    "    plt.annotate(keys[i], A[i,:], fontsize=16)"
   ]
  },
  {
   "cell_type": "markdown",
   "id": "29656084",
   "metadata": {},
   "source": [
    "# Full bag of words"
   ]
  },
  {
   "cell_type": "code",
   "execution_count": 56,
   "id": "db73df87",
   "metadata": {},
   "outputs": [],
   "source": [
    "bow_matrix_train = np.zeros((len(X_train_pp),len(unique_words)))\n",
    "for i, tweet in enumerate(X_train_pp):\n",
    "    for word in tweet:\n",
    "        bow_matrix_train[i,unique_words==word] += 1"
   ]
  },
  {
   "cell_type": "code",
   "execution_count": 74,
   "id": "ddc592bc",
   "metadata": {},
   "outputs": [
    {
     "data": {
      "text/plain": [
       "0.0007450105949470253"
      ]
     },
     "execution_count": 74,
     "metadata": {},
     "output_type": "execute_result"
    }
   ],
   "source": [
    "np.sum(bow_matrix_train!=0)/np.prod(bow_matrix_train.shape)"
   ]
  },
  {
   "cell_type": "code",
   "execution_count": 57,
   "id": "9e093fa1",
   "metadata": {},
   "outputs": [
    {
     "data": {
      "text/plain": [
       "76687500"
      ]
     },
     "execution_count": 57,
     "metadata": {},
     "output_type": "execute_result"
    }
   ],
   "source": []
  },
  {
   "cell_type": "code",
   "execution_count": 58,
   "id": "f9299345",
   "metadata": {},
   "outputs": [
    {
     "data": {
      "text/html": [
       "<div>\n",
       "<style scoped>\n",
       "    .dataframe tbody tr th:only-of-type {\n",
       "        vertical-align: middle;\n",
       "    }\n",
       "\n",
       "    .dataframe tbody tr th {\n",
       "        vertical-align: top;\n",
       "    }\n",
       "\n",
       "    .dataframe thead th {\n",
       "        text-align: right;\n",
       "    }\n",
       "</style>\n",
       "<table border=\"1\" class=\"dataframe\">\n",
       "  <thead>\n",
       "    <tr style=\"text-align: right;\">\n",
       "      <th></th>\n",
       "      <th>promot</th>\n",
       "      <th>http://t.co/gnw1lwjfk1</th>\n",
       "      <th>meee</th>\n",
       "      <th>rted</th>\n",
       "      <th>heechul</th>\n",
       "      <th>http://t.co/q404e06zet</th>\n",
       "      <th>teret</th>\n",
       "      <th>might</th>\n",
       "      <th>didnt</th>\n",
       "      <th>http://t.co/tchmtf8om4</th>\n",
       "      <th>...</th>\n",
       "      <th>2-0</th>\n",
       "      <th>x'</th>\n",
       "      <th>tunaita</th>\n",
       "      <th>ahhh</th>\n",
       "      <th>2am</th>\n",
       "      <th>http://t.co/mnykjgxbpa</th>\n",
       "      <th>yunni</th>\n",
       "      <th>realli</th>\n",
       "      <th>yisss</th>\n",
       "      <th>jennyjean</th>\n",
       "    </tr>\n",
       "  </thead>\n",
       "  <tbody>\n",
       "    <tr>\n",
       "      <th>0</th>\n",
       "      <td>0.0</td>\n",
       "      <td>0.0</td>\n",
       "      <td>0.0</td>\n",
       "      <td>0.0</td>\n",
       "      <td>0.0</td>\n",
       "      <td>0.0</td>\n",
       "      <td>0.0</td>\n",
       "      <td>0.0</td>\n",
       "      <td>0.0</td>\n",
       "      <td>0.0</td>\n",
       "      <td>...</td>\n",
       "      <td>0.0</td>\n",
       "      <td>0.0</td>\n",
       "      <td>0.0</td>\n",
       "      <td>0.0</td>\n",
       "      <td>0.0</td>\n",
       "      <td>0.0</td>\n",
       "      <td>0.0</td>\n",
       "      <td>0.0</td>\n",
       "      <td>0.0</td>\n",
       "      <td>0.0</td>\n",
       "    </tr>\n",
       "    <tr>\n",
       "      <th>1</th>\n",
       "      <td>0.0</td>\n",
       "      <td>0.0</td>\n",
       "      <td>0.0</td>\n",
       "      <td>0.0</td>\n",
       "      <td>0.0</td>\n",
       "      <td>0.0</td>\n",
       "      <td>0.0</td>\n",
       "      <td>0.0</td>\n",
       "      <td>0.0</td>\n",
       "      <td>0.0</td>\n",
       "      <td>...</td>\n",
       "      <td>0.0</td>\n",
       "      <td>0.0</td>\n",
       "      <td>0.0</td>\n",
       "      <td>0.0</td>\n",
       "      <td>0.0</td>\n",
       "      <td>0.0</td>\n",
       "      <td>0.0</td>\n",
       "      <td>0.0</td>\n",
       "      <td>0.0</td>\n",
       "      <td>0.0</td>\n",
       "    </tr>\n",
       "    <tr>\n",
       "      <th>2</th>\n",
       "      <td>0.0</td>\n",
       "      <td>0.0</td>\n",
       "      <td>0.0</td>\n",
       "      <td>0.0</td>\n",
       "      <td>0.0</td>\n",
       "      <td>0.0</td>\n",
       "      <td>0.0</td>\n",
       "      <td>0.0</td>\n",
       "      <td>0.0</td>\n",
       "      <td>0.0</td>\n",
       "      <td>...</td>\n",
       "      <td>0.0</td>\n",
       "      <td>0.0</td>\n",
       "      <td>0.0</td>\n",
       "      <td>0.0</td>\n",
       "      <td>0.0</td>\n",
       "      <td>0.0</td>\n",
       "      <td>0.0</td>\n",
       "      <td>0.0</td>\n",
       "      <td>0.0</td>\n",
       "      <td>0.0</td>\n",
       "    </tr>\n",
       "    <tr>\n",
       "      <th>3</th>\n",
       "      <td>0.0</td>\n",
       "      <td>0.0</td>\n",
       "      <td>0.0</td>\n",
       "      <td>0.0</td>\n",
       "      <td>0.0</td>\n",
       "      <td>0.0</td>\n",
       "      <td>0.0</td>\n",
       "      <td>0.0</td>\n",
       "      <td>0.0</td>\n",
       "      <td>0.0</td>\n",
       "      <td>...</td>\n",
       "      <td>0.0</td>\n",
       "      <td>0.0</td>\n",
       "      <td>0.0</td>\n",
       "      <td>0.0</td>\n",
       "      <td>0.0</td>\n",
       "      <td>0.0</td>\n",
       "      <td>0.0</td>\n",
       "      <td>0.0</td>\n",
       "      <td>0.0</td>\n",
       "      <td>0.0</td>\n",
       "    </tr>\n",
       "    <tr>\n",
       "      <th>4</th>\n",
       "      <td>0.0</td>\n",
       "      <td>0.0</td>\n",
       "      <td>0.0</td>\n",
       "      <td>0.0</td>\n",
       "      <td>0.0</td>\n",
       "      <td>0.0</td>\n",
       "      <td>0.0</td>\n",
       "      <td>0.0</td>\n",
       "      <td>0.0</td>\n",
       "      <td>0.0</td>\n",
       "      <td>...</td>\n",
       "      <td>0.0</td>\n",
       "      <td>0.0</td>\n",
       "      <td>0.0</td>\n",
       "      <td>0.0</td>\n",
       "      <td>0.0</td>\n",
       "      <td>0.0</td>\n",
       "      <td>0.0</td>\n",
       "      <td>0.0</td>\n",
       "      <td>0.0</td>\n",
       "      <td>0.0</td>\n",
       "    </tr>\n",
       "    <tr>\n",
       "      <th>...</th>\n",
       "      <td>...</td>\n",
       "      <td>...</td>\n",
       "      <td>...</td>\n",
       "      <td>...</td>\n",
       "      <td>...</td>\n",
       "      <td>...</td>\n",
       "      <td>...</td>\n",
       "      <td>...</td>\n",
       "      <td>...</td>\n",
       "      <td>...</td>\n",
       "      <td>...</td>\n",
       "      <td>...</td>\n",
       "      <td>...</td>\n",
       "      <td>...</td>\n",
       "      <td>...</td>\n",
       "      <td>...</td>\n",
       "      <td>...</td>\n",
       "      <td>...</td>\n",
       "      <td>...</td>\n",
       "      <td>...</td>\n",
       "      <td>...</td>\n",
       "    </tr>\n",
       "    <tr>\n",
       "      <th>7495</th>\n",
       "      <td>0.0</td>\n",
       "      <td>0.0</td>\n",
       "      <td>0.0</td>\n",
       "      <td>0.0</td>\n",
       "      <td>0.0</td>\n",
       "      <td>0.0</td>\n",
       "      <td>0.0</td>\n",
       "      <td>0.0</td>\n",
       "      <td>0.0</td>\n",
       "      <td>0.0</td>\n",
       "      <td>...</td>\n",
       "      <td>0.0</td>\n",
       "      <td>0.0</td>\n",
       "      <td>0.0</td>\n",
       "      <td>0.0</td>\n",
       "      <td>0.0</td>\n",
       "      <td>0.0</td>\n",
       "      <td>0.0</td>\n",
       "      <td>0.0</td>\n",
       "      <td>0.0</td>\n",
       "      <td>0.0</td>\n",
       "    </tr>\n",
       "    <tr>\n",
       "      <th>7496</th>\n",
       "      <td>0.0</td>\n",
       "      <td>0.0</td>\n",
       "      <td>0.0</td>\n",
       "      <td>0.0</td>\n",
       "      <td>0.0</td>\n",
       "      <td>0.0</td>\n",
       "      <td>0.0</td>\n",
       "      <td>0.0</td>\n",
       "      <td>0.0</td>\n",
       "      <td>0.0</td>\n",
       "      <td>...</td>\n",
       "      <td>0.0</td>\n",
       "      <td>0.0</td>\n",
       "      <td>0.0</td>\n",
       "      <td>0.0</td>\n",
       "      <td>0.0</td>\n",
       "      <td>0.0</td>\n",
       "      <td>0.0</td>\n",
       "      <td>0.0</td>\n",
       "      <td>0.0</td>\n",
       "      <td>0.0</td>\n",
       "    </tr>\n",
       "    <tr>\n",
       "      <th>7497</th>\n",
       "      <td>0.0</td>\n",
       "      <td>0.0</td>\n",
       "      <td>0.0</td>\n",
       "      <td>0.0</td>\n",
       "      <td>0.0</td>\n",
       "      <td>0.0</td>\n",
       "      <td>0.0</td>\n",
       "      <td>0.0</td>\n",
       "      <td>0.0</td>\n",
       "      <td>0.0</td>\n",
       "      <td>...</td>\n",
       "      <td>0.0</td>\n",
       "      <td>0.0</td>\n",
       "      <td>0.0</td>\n",
       "      <td>0.0</td>\n",
       "      <td>0.0</td>\n",
       "      <td>0.0</td>\n",
       "      <td>0.0</td>\n",
       "      <td>0.0</td>\n",
       "      <td>0.0</td>\n",
       "      <td>0.0</td>\n",
       "    </tr>\n",
       "    <tr>\n",
       "      <th>7498</th>\n",
       "      <td>0.0</td>\n",
       "      <td>0.0</td>\n",
       "      <td>0.0</td>\n",
       "      <td>0.0</td>\n",
       "      <td>0.0</td>\n",
       "      <td>0.0</td>\n",
       "      <td>0.0</td>\n",
       "      <td>0.0</td>\n",
       "      <td>0.0</td>\n",
       "      <td>0.0</td>\n",
       "      <td>...</td>\n",
       "      <td>0.0</td>\n",
       "      <td>0.0</td>\n",
       "      <td>0.0</td>\n",
       "      <td>0.0</td>\n",
       "      <td>0.0</td>\n",
       "      <td>0.0</td>\n",
       "      <td>0.0</td>\n",
       "      <td>0.0</td>\n",
       "      <td>0.0</td>\n",
       "      <td>0.0</td>\n",
       "    </tr>\n",
       "    <tr>\n",
       "      <th>7499</th>\n",
       "      <td>0.0</td>\n",
       "      <td>0.0</td>\n",
       "      <td>0.0</td>\n",
       "      <td>0.0</td>\n",
       "      <td>0.0</td>\n",
       "      <td>0.0</td>\n",
       "      <td>0.0</td>\n",
       "      <td>0.0</td>\n",
       "      <td>0.0</td>\n",
       "      <td>0.0</td>\n",
       "      <td>...</td>\n",
       "      <td>0.0</td>\n",
       "      <td>0.0</td>\n",
       "      <td>0.0</td>\n",
       "      <td>0.0</td>\n",
       "      <td>0.0</td>\n",
       "      <td>0.0</td>\n",
       "      <td>0.0</td>\n",
       "      <td>0.0</td>\n",
       "      <td>0.0</td>\n",
       "      <td>0.0</td>\n",
       "    </tr>\n",
       "  </tbody>\n",
       "</table>\n",
       "<p>7500 rows × 10225 columns</p>\n",
       "</div>"
      ],
      "text/plain": [
       "      promot  http://t.co/gnw1lwjfk1  meee  rted  heechul  \\\n",
       "0        0.0                     0.0   0.0   0.0      0.0   \n",
       "1        0.0                     0.0   0.0   0.0      0.0   \n",
       "2        0.0                     0.0   0.0   0.0      0.0   \n",
       "3        0.0                     0.0   0.0   0.0      0.0   \n",
       "4        0.0                     0.0   0.0   0.0      0.0   \n",
       "...      ...                     ...   ...   ...      ...   \n",
       "7495     0.0                     0.0   0.0   0.0      0.0   \n",
       "7496     0.0                     0.0   0.0   0.0      0.0   \n",
       "7497     0.0                     0.0   0.0   0.0      0.0   \n",
       "7498     0.0                     0.0   0.0   0.0      0.0   \n",
       "7499     0.0                     0.0   0.0   0.0      0.0   \n",
       "\n",
       "      http://t.co/q404e06zet  teret  might  didnt  http://t.co/tchmtf8om4  \\\n",
       "0                        0.0    0.0    0.0    0.0                     0.0   \n",
       "1                        0.0    0.0    0.0    0.0                     0.0   \n",
       "2                        0.0    0.0    0.0    0.0                     0.0   \n",
       "3                        0.0    0.0    0.0    0.0                     0.0   \n",
       "4                        0.0    0.0    0.0    0.0                     0.0   \n",
       "...                      ...    ...    ...    ...                     ...   \n",
       "7495                     0.0    0.0    0.0    0.0                     0.0   \n",
       "7496                     0.0    0.0    0.0    0.0                     0.0   \n",
       "7497                     0.0    0.0    0.0    0.0                     0.0   \n",
       "7498                     0.0    0.0    0.0    0.0                     0.0   \n",
       "7499                     0.0    0.0    0.0    0.0                     0.0   \n",
       "\n",
       "      ...  2-0   x'  tunaita  ahhh  2am  http://t.co/mnykjgxbpa  yunni  \\\n",
       "0     ...  0.0  0.0      0.0   0.0  0.0                     0.0    0.0   \n",
       "1     ...  0.0  0.0      0.0   0.0  0.0                     0.0    0.0   \n",
       "2     ...  0.0  0.0      0.0   0.0  0.0                     0.0    0.0   \n",
       "3     ...  0.0  0.0      0.0   0.0  0.0                     0.0    0.0   \n",
       "4     ...  0.0  0.0      0.0   0.0  0.0                     0.0    0.0   \n",
       "...   ...  ...  ...      ...   ...  ...                     ...    ...   \n",
       "7495  ...  0.0  0.0      0.0   0.0  0.0                     0.0    0.0   \n",
       "7496  ...  0.0  0.0      0.0   0.0  0.0                     0.0    0.0   \n",
       "7497  ...  0.0  0.0      0.0   0.0  0.0                     0.0    0.0   \n",
       "7498  ...  0.0  0.0      0.0   0.0  0.0                     0.0    0.0   \n",
       "7499  ...  0.0  0.0      0.0   0.0  0.0                     0.0    0.0   \n",
       "\n",
       "      realli  yisss  jennyjean  \n",
       "0        0.0    0.0        0.0  \n",
       "1        0.0    0.0        0.0  \n",
       "2        0.0    0.0        0.0  \n",
       "3        0.0    0.0        0.0  \n",
       "4        0.0    0.0        0.0  \n",
       "...      ...    ...        ...  \n",
       "7495     0.0    0.0        0.0  \n",
       "7496     0.0    0.0        0.0  \n",
       "7497     0.0    0.0        0.0  \n",
       "7498     0.0    0.0        0.0  \n",
       "7499     0.0    0.0        0.0  \n",
       "\n",
       "[7500 rows x 10225 columns]"
      ]
     },
     "execution_count": 58,
     "metadata": {},
     "output_type": "execute_result"
    }
   ],
   "source": [
    "df = pd.DataFrame(data=bow_matrix_train,columns=unique_words)\n",
    "df"
   ]
  },
  {
   "cell_type": "markdown",
   "id": "0f2ef226",
   "metadata": {},
   "source": [
    "# Test data"
   ]
  },
  {
   "cell_type": "code",
   "execution_count": 59,
   "id": "24657d31",
   "metadata": {},
   "outputs": [],
   "source": [
    "X_test_pp = preprocess_text(X_test)\n",
    "bow_matrix_test = np.zeros((len(X_test_pp),len(unique_words)))\n",
    "for i, tweet in enumerate(X_test_pp):\n",
    "    for word in tweet:\n",
    "        if word in unique_words:\n",
    "            bow_matrix_test[i,unique_words==word] += 1"
   ]
  },
  {
   "cell_type": "markdown",
   "id": "f31a7aba",
   "metadata": {},
   "source": [
    "# Naive Bayes"
   ]
  },
  {
   "cell_type": "code",
   "execution_count": 60,
   "id": "e6287485",
   "metadata": {},
   "outputs": [
    {
     "name": "stdout",
     "output_type": "stream",
     "text": [
      "[ -9.03142899  -9.94771973 -10.64086691 ...  -6.5804239   -9.94771973\n",
      "  -9.94771973]\n"
     ]
    }
   ],
   "source": [
    "alpha = 1 # smooting fact\n",
    "M = bow_matrix_train.shape[1]\n",
    "\n",
    "# indices of positive tweets\n",
    "ind_pos = y_train==1\n",
    "\n",
    "# Word count for each term i in positive and negative tweets\n",
    "N_pos_i = bow_matrix_train[ ind_pos,:].sum(axis=0)\n",
    "N_neg_i = bow_matrix_train[~ind_pos,:].sum(axis=0)\n",
    "\n",
    "# Total word count in positive and negative tweets\n",
    "N_pos = N_pos_i.sum()\n",
    "N_neg = N_neg_i.sum()\n",
    "\n",
    "# Coefficients for positive and negative classes\n",
    "logp_pos_i = np.log( (N_pos_i+alpha)/(N_pos+M*alpha) )\n",
    "logp_neg_i = np.log( (N_neg_i+alpha)/(N_neg+M*alpha) )\n",
    "\n",
    "# Intercepts for positive and negative classes\n",
    "logp_pos = np.log( N_pos/(N_pos + N_neg) )\n",
    "logp_neg = np.log( N_neg/(N_pos + N_neg) )\n",
    "\n",
    "print(logp_pos_i)"
   ]
  },
  {
   "cell_type": "code",
   "execution_count": 61,
   "id": "fff33f52",
   "metadata": {},
   "outputs": [],
   "source": [
    "from sklearn.naive_bayes import MultinomialNB\n",
    "naive_bayes = MultinomialNB(alpha=1.0, fit_prior=False).fit(bow_matrix_train,y_train)"
   ]
  },
  {
   "cell_type": "code",
   "execution_count": 62,
   "id": "efb133cd",
   "metadata": {},
   "outputs": [
    {
     "name": "stdout",
     "output_type": "stream",
     "text": [
      "[ -9.03142899  -9.94771973 -10.64086691 ...  -6.5804239   -9.94771973\n",
      "  -9.94771973]\n"
     ]
    }
   ],
   "source": [
    "print(naive_bayes.feature_log_prob_[1])"
   ]
  },
  {
   "cell_type": "code",
   "execution_count": 63,
   "id": "06a755ff",
   "metadata": {},
   "outputs": [
    {
     "name": "stdout",
     "output_type": "stream",
     "text": [
      "0.998\n"
     ]
    }
   ],
   "source": [
    "naive_bayes.score(bow_matrix_test, y_test)"
   ]
  },
  {
   "cell_type": "code",
   "execution_count": 66,
   "id": "ac8d60a3",
   "metadata": {},
   "outputs": [
    {
     "data": {
      "text/plain": [
       "<sklearn.metrics._plot.confusion_matrix.ConfusionMatrixDisplay at 0x7f7b179300a0>"
      ]
     },
     "execution_count": 66,
     "metadata": {},
     "output_type": "execute_result"
    },
    {
     "data": {
      "image/png": "[encoded data removed]",
      "text/plain": [
       "<Figure size 432x288 with 2 Axes>"
      ]
     },
     "metadata": {
      "needs_background": "light"
     },
     "output_type": "display_data"
    }
   ],
   "source": [
    "ConfusionMatrixDisplay.from_estimator(naive_bayes, bow_matrix_test, y_test)"
   ]
  },
  {
   "cell_type": "markdown",
   "id": "886545b5",
   "metadata": {},
   "source": [
    "# Logistic regression"
   ]
  },
  {
   "cell_type": "code",
   "execution_count": 67,
   "id": "bb57392b",
   "metadata": {},
   "outputs": [],
   "source": [
    "from sklearn.linear_model import LogisticRegression\n",
    "lr_full = LogisticRegression().fit(bow_matrix_train,y_train)"
   ]
  },
  {
   "cell_type": "code",
   "execution_count": 68,
   "id": "56158cc3",
   "metadata": {},
   "outputs": [
    {
     "data": {
      "image/png": "[encoded data removed]",
      "text/plain": [
       "<Figure size 1080x360 with 1 Axes>"
      ]
     },
     "metadata": {
      "needs_background": "light"
     },
     "output_type": "display_data"
    },
    {
     "data": {
      "image/png": "[encoded data removed]",
      "text/plain": [
       "<Figure size 1080x360 with 1 Axes>"
      ]
     },
     "metadata": {
      "needs_background": "light"
     },
     "output_type": "display_data"
    }
   ],
   "source": [
    "ind = np.argsort(lr_full.coef_[0])\n",
    "\n",
    "n = 10\n",
    "plt.figure(figsize=(15,5))\n",
    "plt.bar([unique_words[i] for i in ind[:n]], lr_full.coef_[0,ind[:n]])\n",
    "plt.yticks(fontsize=14)\n",
    "plt.xticks(fontsize=14)\n",
    "\n",
    "plt.figure(figsize=(15,5))\n",
    "plt.bar([unique_words[i] for i in ind[-n:]], lr_full.coef_[0,ind[-n:]])\n",
    "plt.yticks(fontsize=14)\n",
    "plt.xticks(fontsize=14)\n",
    "plt.show()"
   ]
  },
  {
   "cell_type": "code",
   "execution_count": 69,
   "id": "e6260ebf",
   "metadata": {},
   "outputs": [
    {
     "data": {
      "text/plain": [
       "0.9992"
      ]
     },
     "execution_count": 69,
     "metadata": {},
     "output_type": "execute_result"
    }
   ],
   "source": [
    "lr_full.score(bow_matrix_test, y_test)"
   ]
  },
  {
   "cell_type": "code",
   "execution_count": 70,
   "id": "017dcd00",
   "metadata": {},
   "outputs": [
    {
     "data": {
      "text/plain": [
       "<sklearn.metrics._plot.confusion_matrix.ConfusionMatrixDisplay at 0x7f7b179e2950>"
      ]
     },
     "execution_count": 70,
     "metadata": {},
     "output_type": "execute_result"
    },
    {
     "data": {
      "image/png": "[encoded data removed]",
      "text/plain": [
       "<Figure size 432x288 with 2 Axes>"
      ]
     },
     "metadata": {
      "needs_background": "light"
     },
     "output_type": "display_data"
    }
   ],
   "source": [
    "ConfusionMatrixDisplay.from_estimator(lr_full, bow_matrix_test, y_test)"
   ]
  },
  {
   "cell_type": "markdown",
   "id": "1bdbc97f",
   "metadata": {},
   "source": [
    "# Reduced bag of words (2 best features)"
   ]
  },
  {
   "cell_type": "code",
   "execution_count": 75,
   "id": "e148d4ec",
   "metadata": {},
   "outputs": [
    {
     "data": {
      "text/plain": [
       "(5976, 2)"
      ]
     },
     "execution_count": 75,
     "metadata": {},
     "output_type": "execute_result"
    }
   ],
   "source": [
    "keep_words = [':(', ':)']\n",
    "bow_matrix_train = np.zeros((len(X_train_pp),len(keep_words)))\n",
    "for i, tweet in enumerate(X_train_pp):\n",
    "    for word in tweet:\n",
    "        if word in keep_words:\n",
    "            bow_matrix_train[i,keep_words.index(word)] += 1\n",
    "            \n",
    "# throw away tweets with none of these features\n",
    "ind_has_feat = bow_matrix_train.sum(axis=1)>0\n",
    "bow_matrix_train_red = bow_matrix_train[ind_has_feat,:]\n",
    "y_train_red = y_train[ind_has_feat]\n",
    "\n",
    "bow_matrix_train_red.shape"
   ]
  },
  {
   "cell_type": "code",
   "execution_count": 76,
   "id": "bdc2740d",
   "metadata": {},
   "outputs": [
    {
     "data": {
      "text/plain": [
       "0.3984"
      ]
     },
     "execution_count": 76,
     "metadata": {},
     "output_type": "execute_result"
    }
   ],
   "source": [
    "np.sum(bow_matrix_train!=0)/np.prod(bow_matrix_train.shape)"
   ]
  },
  {
   "cell_type": "markdown",
   "id": "67ddd9c4",
   "metadata": {},
   "source": [
    "# Reduced test data"
   ]
  },
  {
   "cell_type": "code",
   "execution_count": null,
   "id": "9afcd546",
   "metadata": {},
   "outputs": [],
   "source": [
    "bow_matrix_test = np.zeros((len(X_test_pp),len(keep_words)))\n",
    "for i, tweet in enumerate(X_test_pp):\n",
    "    for word in tweet:\n",
    "        if word in keep_words:\n",
    "            bow_matrix_test[i,keep_words.index(word)] += 1\n",
    "            \n",
    "# throw away tweets with none of these features\n",
    "ind_has_feat = bow_matrix_test.sum(axis=1)>0\n",
    "bow_matrix_test_red = bow_matrix_test[ind_has_feat,:]\n",
    "y_test_red = y_test[ind_has_feat]\n",
    "\n",
    "sum(~ind_has_feat), bow_matrix_test_red.shape"
   ]
  },
  {
   "cell_type": "markdown",
   "id": "c204c1f4",
   "metadata": {},
   "source": [
    "# Reduced logistic regression"
   ]
  },
  {
   "cell_type": "code",
   "execution_count": null,
   "id": "850263a6",
   "metadata": {},
   "outputs": [],
   "source": [
    "LogisticRegression() \\\n",
    "    .fit(bow_matrix_train_red,y_train_red) \\\n",
    "    .score(bow_matrix_test_red, y_test_red)"
   ]
  },
  {
   "cell_type": "code",
   "execution_count": null,
   "id": "d1b28a8c",
   "metadata": {},
   "outputs": [],
   "source": [
    "MultinomialNB(alpha=1.0, fit_prior=False) \\\n",
    "    .fit(bow_matrix_train_red,y_train_red) \\\n",
    "    .score(bow_matrix_test_red, y_test_red)"
   ]
  },
  {
   "cell_type": "code",
   "execution_count": null,
   "id": "484263a4",
   "metadata": {},
   "outputs": [],
   "source": [
    "ConfusionMatrixDisplay.from_estimator(lr_red, bow_matrix_test_red, y_test_red)"
   ]
  },
  {
   "cell_type": "markdown",
   "id": "3408cdd6",
   "metadata": {},
   "source": [
    "# Words only"
   ]
  },
  {
   "cell_type": "code",
   "execution_count": null,
   "id": "7a77ca92",
   "metadata": {},
   "outputs": [],
   "source": [
    "alpha_words = [word for word in unique_words if word.isalpha()]\n",
    "len(alpha_words), len(unique_words)"
   ]
  },
  {
   "cell_type": "markdown",
   "id": "32443ea1",
   "metadata": {},
   "source": [
    "## Train and test data"
   ]
  },
  {
   "cell_type": "code",
   "execution_count": null,
   "id": "7a3491d9",
   "metadata": {},
   "outputs": [],
   "source": [
    "bow_matrix_train = np.zeros((len(X_train_pp),len(alpha_words)))\n",
    "for i, tweet in enumerate(X_train_pp):\n",
    "    for word in tweet:\n",
    "        if word in alpha_words:\n",
    "            bow_matrix_train[i,alpha_words.index(word)] += 1\n",
    "            \n",
    "            \n",
    "# throw away tweets with none of these features\n",
    "ind_has_feat = bow_matrix_train.sum(axis=1)>0\n",
    "bow_matrix_train_words = bow_matrix_train[ind_has_feat,:]\n",
    "y_train_words = y_train[ind_has_feat]"
   ]
  },
  {
   "cell_type": "code",
   "execution_count": null,
   "id": "de47ae08",
   "metadata": {},
   "outputs": [],
   "source": [
    "bow_matrix_test = np.zeros((len(X_test_pp),len(alpha_words)))\n",
    "for i, tweet in enumerate(X_test_pp):\n",
    "    for word in tweet:\n",
    "        if word in alpha_words:\n",
    "            bow_matrix_test[i,alpha_words.index(word)] += 1\n",
    "            \n",
    "# throw away tweets with none of these features\n",
    "ind_has_feat = bow_matrix_test.sum(axis=1)>0\n",
    "bow_matrix_test_words = bow_matrix_test[ind_has_feat,:]\n",
    "y_test_words = y_test[ind_has_feat]\n",
    "\n",
    "sum(~ind_has_feat), bow_matrix_test_red.shape"
   ]
  },
  {
   "cell_type": "markdown",
   "id": "9329b6c7",
   "metadata": {},
   "source": [
    "## Logistic regression"
   ]
  },
  {
   "cell_type": "code",
   "execution_count": null,
   "id": "437e8a26",
   "metadata": {},
   "outputs": [],
   "source": [
    "LogisticRegression() \\\n",
    "    .fit(bow_matrix_train_words,y_train_words) \\\n",
    "    .score(bow_matrix_test_words, y_test_words)"
   ]
  },
  {
   "cell_type": "code",
   "execution_count": null,
   "id": "54bf87f2",
   "metadata": {},
   "outputs": [],
   "source": [
    "MultinomialNB(alpha=1.0, fit_prior=False) \\\n",
    "    .fit(bow_matrix_train_words,y_train_words) \\\n",
    "    .score(bow_matrix_test_words, y_test_words)"
   ]
  },
  {
   "cell_type": "code",
   "execution_count": null,
   "id": "59dbd7bd",
   "metadata": {},
   "outputs": [],
   "source": [
    "ConfusionMatrixDisplay.from_estimator(lr_alpha, bow_matrix_test_words, y_test_words)"
   ]
  },
  {
   "cell_type": "code",
   "execution_count": null,
   "id": "38530c3c",
   "metadata": {},
   "outputs": [],
   "source": [
    "ind = np.argsort(lr_alpha.coef_[0])\n",
    "print([alpha_words[i] for i in ind[:5]])\n",
    "print([alpha_words[i] for i in ind[-5:]])"
   ]
  },
  {
   "cell_type": "code",
   "execution_count": null,
   "id": "83be53e6",
   "metadata": {},
   "outputs": [],
   "source": [
    "\n",
    "n = 10\n",
    "plt.figure(figsize=(15,5))\n",
    "plt.bar([alpha_words[i] for i in ind[:n]], lr_alpha.coef_[0,ind[:n]])\n",
    "plt.xticks(fontsize=14)\n",
    "\n",
    "plt.figure(figsize=(15,5))\n",
    "plt.bar([alpha_words[i] for i in ind[-n:]], lr_alpha.coef_[0,ind[-n:]])\n",
    "plt.xticks(fontsize=14)\n",
    "plt.show()"
   ]
  },
  {
   "cell_type": "markdown",
   "id": "0d10e854",
   "metadata": {},
   "source": [
    "# TF IDF"
   ]
  },
  {
   "cell_type": "code",
   "execution_count": null,
   "id": "6fd5a9c6",
   "metadata": {},
   "outputs": [],
   "source": []
  },
  {
   "cell_type": "code",
   "execution_count": null,
   "id": "51021990",
   "metadata": {},
   "outputs": [],
   "source": []
  }
 ],
 "metadata": {
  "kernelspec": {
   "display_name": "Python 3 (ipykernel)",
   "language": "python",
   "name": "python3"
  },
  "language_info": {
   "codemirror_mode": {
    "name": "ipython",
    "version": 3
   },
   "file_extension": ".py",
   "mimetype": "text/x-python",
   "name": "python",
   "nbconvert_exporter": "python",
   "pygments_lexer": "ipython3",
   "version": "3.10.1"
  }
 },
 "nbformat": 4,
 "nbformat_minor": 5
}
