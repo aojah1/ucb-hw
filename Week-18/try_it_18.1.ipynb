{
 "cells": [
  {
   "cell_type": "markdown",
   "metadata": {},
   "source": [
    "### Comparing Models and Vectorization Strategies for Text Classification\n",
    "\n",
    "This try-it focuses on weighing the positives and negatives of different estimators and vectorization strategies for a text classification problem.  In order to consider each of these components, you should make use of the `Pipeline` and `GridSearchCV` objects in scikitlearn to try different combinations of vectorizers with different estimators.  For each of these, you also want to use the `.cv_results_` to examine the time for the estimator to fit the data."
   ]
  },
  {
   "cell_type": "markdown",
   "metadata": {},
   "source": [
    "### The Data\n",
    "\n",
    "The dataset below is from [kaggle]() and contains a dataset named the \"ColBert Dataset\" created for this [paper](https://arxiv.org/pdf/2004.12765.pdf).  You are to use the text column to classify whether or not the text was humorous.  It is loaded and displayed below.\n",
    "\n",
    "**Note:** The original dataset contains 200K rows of data. It is best to try to use the full dtaset. If the original dataset is too large for your computer, please use the 'dataset-minimal.csv', which has been reduced to 100K."
   ]
  },
  {
   "cell_type": "code",
   "execution_count": 4,
   "metadata": {
    "tags": []
   },
   "outputs": [],
   "source": [
    "import pandas as pd"
   ]
  },
  {
   "cell_type": "code",
   "execution_count": 6,
   "metadata": {
    "tags": []
   },
   "outputs": [],
   "source": [
    "df = pd.read_csv('data/dataset.csv')"
   ]
  },
  {
   "cell_type": "code",
   "execution_count": 7,
   "metadata": {
    "tags": []
   },
   "outputs": [
    {
     "data": {
      "text/html": [
       "<div>\n",
       "<style scoped>\n",
       "    .dataframe tbody tr th:only-of-type {\n",
       "        vertical-align: middle;\n",
       "    }\n",
       "\n",
       "    .dataframe tbody tr th {\n",
       "        vertical-align: top;\n",
       "    }\n",
       "\n",
       "    .dataframe thead th {\n",
       "        text-align: right;\n",
       "    }\n",
       "</style>\n",
       "<table border=\"1\" class=\"dataframe\">\n",
       "  <thead>\n",
       "    <tr style=\"text-align: right;\">\n",
       "      <th></th>\n",
       "      <th>text</th>\n",
       "      <th>humor</th>\n",
       "    </tr>\n",
       "  </thead>\n",
       "  <tbody>\n",
       "    <tr>\n",
       "      <th>0</th>\n",
       "      <td>Joe biden rules out 2020 bid: 'guys, i'm not r...</td>\n",
       "      <td>False</td>\n",
       "    </tr>\n",
       "    <tr>\n",
       "      <th>1</th>\n",
       "      <td>Watch: darvish gave hitter whiplash with slow ...</td>\n",
       "      <td>False</td>\n",
       "    </tr>\n",
       "    <tr>\n",
       "      <th>2</th>\n",
       "      <td>What do you call a turtle without its shell? d...</td>\n",
       "      <td>True</td>\n",
       "    </tr>\n",
       "    <tr>\n",
       "      <th>3</th>\n",
       "      <td>5 reasons the 2016 election feels so personal</td>\n",
       "      <td>False</td>\n",
       "    </tr>\n",
       "    <tr>\n",
       "      <th>4</th>\n",
       "      <td>Pasco police shot mexican migrant from behind,...</td>\n",
       "      <td>False</td>\n",
       "    </tr>\n",
       "  </tbody>\n",
       "</table>\n",
       "</div>"
      ],
      "text/plain": [
       "                                                text  humor\n",
       "0  Joe biden rules out 2020 bid: 'guys, i'm not r...  False\n",
       "1  Watch: darvish gave hitter whiplash with slow ...  False\n",
       "2  What do you call a turtle without its shell? d...   True\n",
       "3      5 reasons the 2016 election feels so personal  False\n",
       "4  Pasco police shot mexican migrant from behind,...  False"
      ]
     },
     "execution_count": 7,
     "metadata": {},
     "output_type": "execute_result"
    }
   ],
   "source": [
    "df.head()"
   ]
  },
  {
   "cell_type": "markdown",
   "metadata": {},
   "source": [
    "#### Task\n",
    "\n",
    "\n",
    "**Text preprocessing:** As a pre-processing step, perform both `stemming` and `lemmatizing` to normalize your text before classifying. For each technique use both the `CountVectorize`r and `TfidifVectorizer` and use options for stop words and max features to prepare the text data for your estimator.\n",
    "\n",
    "**Classification:** Once you have prepared the text data with stemming lemmatizing techniques, consider `LogisticRegression`, `DecisionTreeClassifier`, and `MultinomialNB` as classification algorithms for the data. Compare their performance in terms of accuracy and speed.\n",
    "\n",
    "Share the results of your best classifier in the form of a table with the best version of each estimator, a dictionary of the best parameters and the best score."
   ]
  },
  {
   "cell_type": "code",
   "execution_count": 8,
   "metadata": {
    "tags": []
   },
   "outputs": [
    {
     "data": {
      "text/html": [
       "<div>\n",
       "<style scoped>\n",
       "    .dataframe tbody tr th:only-of-type {\n",
       "        vertical-align: middle;\n",
       "    }\n",
       "\n",
       "    .dataframe tbody tr th {\n",
       "        vertical-align: top;\n",
       "    }\n",
       "\n",
       "    .dataframe thead th {\n",
       "        text-align: right;\n",
       "    }\n",
       "</style>\n",
       "<table border=\"1\" class=\"dataframe\">\n",
       "  <thead>\n",
       "    <tr style=\"text-align: right;\">\n",
       "      <th></th>\n",
       "      <th>best_params</th>\n",
       "      <th>best_score</th>\n",
       "    </tr>\n",
       "    <tr>\n",
       "      <th>model</th>\n",
       "      <th></th>\n",
       "      <th></th>\n",
       "    </tr>\n",
       "  </thead>\n",
       "  <tbody>\n",
       "    <tr>\n",
       "      <th>Logistic</th>\n",
       "      <td></td>\n",
       "      <td></td>\n",
       "    </tr>\n",
       "    <tr>\n",
       "      <th>Decision Tree</th>\n",
       "      <td></td>\n",
       "      <td></td>\n",
       "    </tr>\n",
       "    <tr>\n",
       "      <th>Bayes</th>\n",
       "      <td></td>\n",
       "      <td></td>\n",
       "    </tr>\n",
       "  </tbody>\n",
       "</table>\n",
       "</div>"
      ],
      "text/plain": [
       "              best_params best_score\n",
       "model                               \n",
       "Logistic                            \n",
       "Decision Tree                       \n",
       "Bayes                               "
      ]
     },
     "execution_count": 8,
     "metadata": {},
     "output_type": "execute_result"
    }
   ],
   "source": [
    "pd.DataFrame({'model': ['Logistic', 'Decision Tree', 'Bayes'], \n",
    "             'best_params': ['', '', ''],\n",
    "             'best_score': ['', '', '']}).set_index('model')"
   ]
  },
  {
   "cell_type": "code",
   "execution_count": 9,
   "metadata": {
    "tags": []
   },
   "outputs": [],
   "source": [
    "import nltk"
   ]
  },
  {
   "cell_type": "code",
   "execution_count": 69,
   "metadata": {
    "tags": []
   },
   "outputs": [],
   "source": [
    "from nltk.stem import PorterStemmer, WordNetLemmatizer\n",
    "from sklearn.feature_extraction.text import CountVectorizer, TfidfVectorizer\n",
    "from sklearn.pipeline import Pipeline\n",
    "from sklearn.model_selection import GridSearchCV, train_test_split\n",
    "from sklearn.linear_model import LogisticRegression\n",
    "from sklearn.tree import DecisionTreeClassifier\n",
    "from sklearn.naive_bayes import MultinomialNB\n"
   ]
  },
  {
   "cell_type": "code",
   "execution_count": 70,
   "metadata": {
    "tags": []
   },
   "outputs": [
    {
     "name": "stderr",
     "output_type": "stream",
     "text": [
      "[nltk_data] Downloading package wordnet to\n",
      "[nltk_data]     /home/datascience/nltk_data...\n",
      "[nltk_data]   Package wordnet is already up-to-date!\n"
     ]
    },
    {
     "data": {
      "text/plain": [
       "True"
      ]
     },
     "execution_count": 70,
     "metadata": {},
     "output_type": "execute_result"
    }
   ],
   "source": [
    "# Download necessary NLTK resources\n",
    "nltk.download('wordnet')"
   ]
  },
  {
   "cell_type": "code",
   "execution_count": 85,
   "metadata": {
    "tags": []
   },
   "outputs": [],
   "source": [
    "# Pre-processing functions\n",
    "# As a pre-processing step, perform both stemming and lemmatizing to\n",
    "# normalize your text before classifying.\n",
    "def stemming(text):\n",
    "    stemmer = PorterStemmer()\n",
    "    return ' '.join([stemmer.stem(w) for w in text])\n",
    "\n",
    "def lemmatizing(text):\n",
    "    lemmatizer = WordNetLemmatizer()\n",
    "    return ' '.join([lemmatizer.lemmatize(w) for w in text])"
   ]
  },
  {
   "cell_type": "code",
   "execution_count": 86,
   "metadata": {
    "tags": []
   },
   "outputs": [
    {
     "data": {
      "text/html": [
       "<div>\n",
       "<style scoped>\n",
       "    .dataframe tbody tr th:only-of-type {\n",
       "        vertical-align: middle;\n",
       "    }\n",
       "\n",
       "    .dataframe tbody tr th {\n",
       "        vertical-align: top;\n",
       "    }\n",
       "\n",
       "    .dataframe thead th {\n",
       "        text-align: right;\n",
       "    }\n",
       "</style>\n",
       "<table border=\"1\" class=\"dataframe\">\n",
       "  <thead>\n",
       "    <tr style=\"text-align: right;\">\n",
       "      <th></th>\n",
       "      <th>text</th>\n",
       "      <th>humor</th>\n",
       "    </tr>\n",
       "  </thead>\n",
       "  <tbody>\n",
       "    <tr>\n",
       "      <th>0</th>\n",
       "      <td>Joe biden rules out 2020 bid: 'guys, i'm not r...</td>\n",
       "      <td>False</td>\n",
       "    </tr>\n",
       "    <tr>\n",
       "      <th>1</th>\n",
       "      <td>Watch: darvish gave hitter whiplash with slow ...</td>\n",
       "      <td>False</td>\n",
       "    </tr>\n",
       "    <tr>\n",
       "      <th>2</th>\n",
       "      <td>What do you call a turtle without its shell? d...</td>\n",
       "      <td>True</td>\n",
       "    </tr>\n",
       "    <tr>\n",
       "      <th>3</th>\n",
       "      <td>5 reasons the 2016 election feels so personal</td>\n",
       "      <td>False</td>\n",
       "    </tr>\n",
       "    <tr>\n",
       "      <th>4</th>\n",
       "      <td>Pasco police shot mexican migrant from behind,...</td>\n",
       "      <td>False</td>\n",
       "    </tr>\n",
       "  </tbody>\n",
       "</table>\n",
       "</div>"
      ],
      "text/plain": [
       "                                                text  humor\n",
       "0  Joe biden rules out 2020 bid: 'guys, i'm not r...  False\n",
       "1  Watch: darvish gave hitter whiplash with slow ...  False\n",
       "2  What do you call a turtle without its shell? d...   True\n",
       "3      5 reasons the 2016 election feels so personal  False\n",
       "4  Pasco police shot mexican migrant from behind,...  False"
      ]
     },
     "execution_count": 86,
     "metadata": {},
     "output_type": "execute_result"
    }
   ],
   "source": [
    "df.head()"
   ]
  },
  {
   "cell_type": "code",
   "execution_count": 108,
   "metadata": {
    "tags": []
   },
   "outputs": [],
   "source": [
    "# Split the data for Train and Test\n",
    "\n",
    "X = df.drop('humor', axis = 1)\n",
    "y = df['humor']\n",
    "X_train, X_test, y_train, y_test = train_test_split(X['text'], y, random_state = 42)\n"
   ]
  },
  {
   "cell_type": "code",
   "execution_count": 109,
   "metadata": {
    "tags": []
   },
   "outputs": [],
   "source": [
    "# Vectorization \n",
    "#For each technique use both the CountVectorizer and TfidifVectorizer \n",
    "#and use options for stop words and max features to prepare the text\n",
    "#data for your estimator\n",
    "\n",
    "vectorizers = {\n",
    "    'count': CountVectorizer(stop_words='english', max_features=5000),\n",
    "    'tfidf': TfidfVectorizer(stop_words='english', max_features=5000)\n",
    "}\n"
   ]
  },
  {
   "cell_type": "code",
   "execution_count": 148,
   "metadata": {
    "tags": []
   },
   "outputs": [
    {
     "name": "stdout",
     "output_type": "stream",
     "text": [
      "logistic\n",
      "tree\n",
      "naive_bayes\n"
     ]
    }
   ],
   "source": [
    "# Classifiers\n",
    "# Once you have prepared the text data with stemming lemmatizing techniques, consider LogisticRegression, DecisionTreeClassifier, and MultinomialNB as classification algorithms \n",
    "#for the data.\n",
    "\n",
    "classifiers = {\n",
    "    'logistic': LogisticRegression(max_iter=1000),\n",
    "    'tree' : DecisionTreeClassifier(),\n",
    "    'naive_bayes': MultinomialNB()\n",
    "}\n",
    "\n",
    "for c in classifiers:\n",
    "    print (c)"
   ]
  },
  {
   "cell_type": "code",
   "execution_count": null,
   "metadata": {
    "tags": []
   },
   "outputs": [],
   "source": [
    "# Compare their performance in terms of accuracy and speed.\n",
    "# Pipelines for stemming and lemmatizing\n",
    "pipelines = [\n",
    "    ('stem', stemming),\n",
    "    ('lemma', lemmatizing)\n",
    "]\n",
    "\n",
    "# Results storage\n",
    "results = []\n",
    "for c in classifiers:\n",
    "    \n",
    "    for process_name in pipelines:\n",
    "        #X_processed = [process_func(doc) for doc in X_train]\n",
    "\n",
    "        pipeline = Pipeline([\n",
    "            ('vectorizer', CountVectorizer()),\n",
    "            ('classifier', LogisticRegression())\n",
    "        ])\n",
    "\n",
    "        param_grid = {\n",
    "            'vectorizer': [vectorizers['count'], vectorizers['tfidf']],\n",
    "            'classifier': [classifiers[c]]\n",
    "        }\n",
    "\n",
    "        grid_search = GridSearchCV(pipeline, param_grid, cv=5, n_jobs=-1, verbose=1, return_train_score=True)\n",
    "        grid_search.fit(X_train, y_train)\n",
    "\n",
    "        best_estimator = grid_search.best_estimator_\n",
    "        #print(best_estimator)\n",
    "        best_params = grid_search.best_params_\n",
    "        #print(best_params)\n",
    "        best_score = grid_search.best_score_\n",
    "        #print(best_score)\n",
    "        fit_time = min(grid_search.cv_results_['mean_fit_time'])\n",
    "        #print(fit_time)\n",
    "\n",
    "        results.append({\n",
    "            'Best Estimator': str(best_estimator),\n",
    "            'Best Params': best_params,\n",
    "            'Best Score': best_score\n",
    "        })\n",
    "\n",
    "# Display results\n",
    "results_df = pd.DataFrame(results)\n",
    "pd.set_option('display.max_columns', 7)\n",
    "best_results = pd.DataFrame({'model': ['Logistic', 'Decision Tree', 'Bayes'], \n",
    "             'best_params': ['', '', ''],\n",
    "             'best_score': ['', '', '']}).set_index('model')\n",
    "\n",
    "print(best_results)"
   ]
  },
  {
   "cell_type": "code",
   "execution_count": null,
   "metadata": {},
   "outputs": [],
   "source": []
  },
  {
   "cell_type": "code",
   "execution_count": 115,
   "metadata": {
    "tags": []
   },
   "outputs": [
    {
     "name": "stdout",
     "output_type": "stream",
     "text": [
      "              best_params best_score\n",
      "model                               \n",
      "Logistic                            \n",
      "Decision Tree                       \n",
      "Bayes                               \n"
     ]
    }
   ],
   "source": [
    "best_results = pd.DataFrame({'model': ['Logistic', 'Decision Tree', 'Bayes'], \n",
    "             'best_params': ['', '', ''],\n",
    "             'best_score': ['', '', '']}).set_index('model')\n",
    "\n",
    "print(best_results)"
   ]
  },
  {
   "cell_type": "code",
   "execution_count": 126,
   "metadata": {
    "tags": []
   },
   "outputs": [
    {
     "name": "stdout",
     "output_type": "stream",
     "text": [
      "Fitting 5 folds for each of 2 candidates, totalling 10 fits\n",
      "best_params : {'classifier': DecisionTreeClassifier(), 'vectorizer': TfidfVectorizer(max_features=5000, stop_words='english')}\n",
      "                                           Estimator  \\\n",
      "0  Pipeline(steps=[('vectorizer',\\n              ...   \n",
      "\n",
      "                                         Best Params  Best Score  \n",
      "0  {'classifier': DecisionTreeClassifier(), 'vect...     0.82132  \n"
     ]
    }
   ],
   "source": [
    "# Preprocessing options\n",
    "\n",
    "#classifiers['tree']\n",
    "\n",
    "preprocessing_steps = {\n",
    "    'stem': stemming,\n",
    "    'lemma': lemmatizing,\n",
    "}\n",
    "\n",
    "# Vectorizers\n",
    "vectorizers = {\n",
    "    'count': CountVectorizer(stop_words='english', max_features=5000),\n",
    "    'tfidf': TfidfVectorizer(stop_words='english', max_features=5000),\n",
    "}\n",
    "\n",
    "# Classifiers\n",
    "classifiers = {\n",
    "    'logistic': LogisticRegression(max_iter=1000),\n",
    "    'tree': DecisionTreeClassifier(),\n",
    "    'naive_bayes': MultinomialNB(),\n",
    "}\n",
    "\n",
    "# Pipeline and GridSearch\n",
    "pipeline = Pipeline([\n",
    "    ('vectorizer', CountVectorizer()),\n",
    "    ('classifier', LogisticRegression())\n",
    "])\n",
    "\n",
    "param_grid = {\n",
    "    'vectorizer': [vectorizers['count'], vectorizers['tfidf']],\n",
    "    'classifier': [classifiers['tree']],\n",
    "}\n",
    "\n",
    "grid_search = GridSearchCV(pipeline, param_grid, cv=5, n_jobs=-1, verbose=1, return_train_score=True)\n",
    "grid_search.fit(X_train, y_train)\n",
    "\n",
    "# Results\n",
    "best_estimator = grid_search.best_estimator_\n",
    "best_params = grid_search.best_params_\n",
    "print('best_params : ' + str(best_params))\n",
    "best_score = grid_search.best_score_\n",
    "\n",
    "# Examining time to fit\n",
    "cv_results = grid_search.cv_results_\n",
    "\n",
    "# Extracting relevant information\n",
    "results_table = {\n",
    "    'Estimator': [str(best_estimator)],\n",
    "    'Best Params': [best_params],\n",
    "    'Best Score': [best_score]\n",
    "    #'Fit Time (s)': [min(cv_results['mean_fit_time'])]\n",
    "}\n",
    "\n",
    "import pandas as pd\n",
    "results_df = pd.DataFrame(results_table)\n",
    "print(results_df)"
   ]
  },
  {
   "cell_type": "code",
   "execution_count": 127,
   "metadata": {
    "tags": []
   },
   "outputs": [
    {
     "name": "stdout",
     "output_type": "stream",
     "text": [
      "Fitting 5 folds for each of 2 candidates, totalling 10 fits\n",
      "best_params : {'classifier': LogisticRegression(max_iter=1000), 'vectorizer': CountVectorizer(max_features=5000, stop_words='english')}\n",
      "                                           Estimator  \\\n",
      "0  Pipeline(steps=[('vectorizer',\\n              ...   \n",
      "\n",
      "                                         Best Params  Best Score  \n",
      "0  {'classifier': LogisticRegression(max_iter=100...    0.880573  \n"
     ]
    }
   ],
   "source": [
    "# Pipeline and GridSearch\n",
    "#[classifiers['logistic']]\n",
    "pipeline = Pipeline([\n",
    "    ('vectorizer', CountVectorizer()),\n",
    "    ('classifier', DecisionTreeClassifier())\n",
    "])\n",
    "\n",
    "param_grid = {\n",
    "    'vectorizer': [vectorizers['count'], vectorizers['tfidf']],\n",
    "    'classifier': [classifiers['logistic']],\n",
    "}\n",
    "\n",
    "grid_search = GridSearchCV(pipeline, param_grid, cv=5, n_jobs=-1, verbose=1, return_train_score=True)\n",
    "grid_search.fit(X_train, y_train)\n",
    "\n",
    "# Results\n",
    "best_estimator = grid_search.best_estimator_\n",
    "best_params = grid_search.best_params_\n",
    "print('best_params : ' + str(best_params))\n",
    "best_score = grid_search.best_score_\n",
    "\n",
    "# Examining time to fit\n",
    "cv_results = grid_search.cv_results_\n",
    "\n",
    "# Extracting relevant information\n",
    "results_table = {\n",
    "    'Estimator': [str(best_estimator)],\n",
    "    'Best Params': [best_params],\n",
    "    'Best Score': [best_score]\n",
    "    #'Fit Time (s)': [min(cv_results['mean_fit_time'])]\n",
    "}\n",
    "\n",
    "import pandas as pd\n",
    "results_df = pd.DataFrame(results_table)\n",
    "print(results_df)"
   ]
  },
  {
   "cell_type": "code",
   "execution_count": 128,
   "metadata": {
    "tags": []
   },
   "outputs": [
    {
     "name": "stdout",
     "output_type": "stream",
     "text": [
      "Fitting 5 folds for each of 2 candidates, totalling 10 fits\n",
      "best_params : {'classifier': MultinomialNB(), 'vectorizer': CountVectorizer(max_features=5000, stop_words='english')}\n",
      "                                           Estimator  \\\n",
      "0  Pipeline(steps=[('vectorizer',\\n              ...   \n",
      "\n",
      "                                         Best Params  Best Score  \n",
      "0  {'classifier': MultinomialNB(), 'vectorizer': ...     0.87456  \n"
     ]
    }
   ],
   "source": [
    "# Pipeline and GridSearch\n",
    "#[classifiers['naive_bayes']]\n",
    "pipeline = Pipeline([\n",
    "    ('vectorizer', CountVectorizer()),\n",
    "    ('classifier', DecisionTreeClassifier())\n",
    "])\n",
    "\n",
    "param_grid = {\n",
    "    'vectorizer': [vectorizers['count'], vectorizers['tfidf']],\n",
    "    'classifier': [classifiers['naive_bayes']],\n",
    "}\n",
    "\n",
    "grid_search = GridSearchCV(pipeline, param_grid, cv=5, n_jobs=-1, verbose=1, return_train_score=True)\n",
    "grid_search.fit(X_train, y_train)\n",
    "\n",
    "# Results\n",
    "best_estimator = grid_search.best_estimator_\n",
    "best_params = grid_search.best_params_\n",
    "print('best_params : ' + str(best_params))\n",
    "best_score = grid_search.best_score_\n",
    "\n",
    "# Examining time to fit\n",
    "cv_results = grid_search.cv_results_\n",
    "\n",
    "# Extracting relevant information\n",
    "results_table = {\n",
    "    'Estimator': [str(best_estimator)],\n",
    "    'Best Params': [best_params],\n",
    "    'Best Score': [best_score]\n",
    "    #'Fit Time (s)': [min(cv_results['mean_fit_time'])]\n",
    "}\n",
    "\n",
    "import pandas as pd\n",
    "results_df = pd.DataFrame(results_table)\n",
    "print(results_df)"
   ]
  },
  {
   "cell_type": "code",
   "execution_count": 130,
   "metadata": {
    "tags": []
   },
   "outputs": [
    {
     "name": "stdout",
     "output_type": "stream",
     "text": [
      "                                                     best_params best_score\n",
      "model                                                                      \n",
      "Logistic       {vectorizer: CountVectorizer(max_features=5000...   0.880573\n",
      "Decision Tree  {vectorizer: TfidfVectorizer(max_features=5000...    0.82132\n",
      "Bayes          {vectorizer: CountVectorizer(max_features=5000...    0.87456\n"
     ]
    }
   ],
   "source": [
    "best_results = pd.DataFrame({'model': ['Logistic', 'Decision Tree', 'Bayes'], \n",
    "             'best_params': ['{vectorizer: CountVectorizer(max_features=5000, stop_words=english)}', '{vectorizer: TfidfVectorizer(max_features=5000, stop_words=english)}', '{vectorizer: CountVectorizer(max_features=5000, stop_words=english)}'],\n",
    "             'best_score': ['0.880573', '0.82132', '0.87456']}).set_index('model')\n",
    "\n",
    "print(best_results)"
   ]
  },
  {
   "cell_type": "code",
   "execution_count": null,
   "metadata": {},
   "outputs": [],
   "source": []
  }
 ],
 "metadata": {
  "kernelspec": {
   "display_name": "Python 3 (ipykernel)",
   "language": "python",
   "name": "python3"
  },
  "language_info": {
   "codemirror_mode": {
    "name": "ipython",
    "version": 3
   },
   "file_extension": ".py",
   "mimetype": "text/x-python",
   "name": "python",
   "nbconvert_exporter": "python",
   "pygments_lexer": "ipython3",
   "version": "3.8.19"
  }
 },
 "nbformat": 4,
 "nbformat_minor": 4
}
